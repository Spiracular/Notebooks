{
 "cells": [
  {
   "cell_type": "markdown",
   "metadata": {},
   "source": [
    "# XML example and exercise\n",
    "****\n",
    "+ study examples of accessing nodes in XML tree structure  \n",
    "+ work on exercise to be completed and submitted\n",
    "****\n",
    "+ reference: https://docs.python.org/2.7/library/xml.etree.elementtree.html\n",
    "+ data source: http://www.dbis.informatik.uni-goettingen.de/Mondial\n",
    "****"
   ]
  },
  {
   "cell_type": "markdown",
   "metadata": {},
   "source": [
    "Another reference from Springboard: http://luisartola.com/software/2010/easy-xml-in-python/"
   ]
  },
  {
   "cell_type": "code",
   "execution_count": 1,
   "metadata": {
    "collapsed": true
   },
   "outputs": [],
   "source": [
    "from xml.etree import ElementTree as ET\n",
    "\n",
    "from xml.etree.ElementTree import Element\n",
    "from xml.etree.ElementTree import SubElement"
   ]
  },
  {
   "cell_type": "code",
   "execution_count": 2,
   "metadata": {
    "collapsed": false
   },
   "outputs": [
    {
     "name": "stdout",
     "output_type": "stream",
     "text": [
      "Populating the interactive namespace from numpy and matplotlib\n"
     ]
    }
   ],
   "source": [
    "%pylab inline\n",
    "import pandas as pd\n",
    "import numpy as np\n",
    "import matplotlib.pyplot as plt"
   ]
  },
  {
   "cell_type": "code",
   "execution_count": 6,
   "metadata": {
    "collapsed": false
   },
   "outputs": [],
   "source": []
  },
  {
   "cell_type": "markdown",
   "metadata": {},
   "source": [
    "## XML example\n",
    "\n",
    "+ for details about tree traversal and iterators, see https://docs.python.org/2.7/library/xml.etree.elementtree.html"
   ]
  },
  {
   "cell_type": "code",
   "execution_count": 7,
   "metadata": {
    "collapsed": true
   },
   "outputs": [],
   "source": [
    "document_tree = ET.parse( './data/mondial_database_less.xml' )"
   ]
  },
  {
   "cell_type": "code",
   "execution_count": 8,
   "metadata": {
    "collapsed": false
   },
   "outputs": [
    {
     "data": {
      "text/plain": [
       "[<Element 'mondial' at 0x10436d3b8>,\n",
       " <Element 'country' at 0x1043b9638>,\n",
       " <Element 'name' at 0x1043b9688>,\n",
       " <Element 'population' at 0x1043b96d8>,\n",
       " <Element 'population' at 0x1043b9728>,\n",
       " <Element 'population' at 0x1043b9778>,\n",
       " <Element 'population' at 0x1043b97c8>,\n",
       " <Element 'population' at 0x1043b9818>,\n",
       " <Element 'population' at 0x1043b9868>,\n",
       " <Element 'population' at 0x1043b98b8>,\n",
       " <Element 'population' at 0x1043b9908>,\n",
       " <Element 'population' at 0x1043b9958>,\n",
       " <Element 'population_growth' at 0x1043b99a8>,\n",
       " <Element 'infant_mortality' at 0x1043b99f8>,\n",
       " <Element 'gdp_total' at 0x1043b9a48>,\n",
       " <Element 'gdp_agri' at 0x1043b9a98>,\n",
       " <Element 'gdp_ind' at 0x1043b9ae8>,\n",
       " <Element 'gdp_serv' at 0x1043b9b38>,\n",
       " <Element 'inflation' at 0x1043b9b88>,\n",
       " <Element 'unemployment' at 0x1043b9bd8>,\n",
       " <Element 'indep_date' at 0x1043b9c28>,\n",
       " <Element 'government' at 0x1043b9c78>,\n",
       " <Element 'encompassed' at 0x1043b9cc8>,\n",
       " <Element 'ethnicgroup' at 0x1043b9d18>,\n",
       " <Element 'ethnicgroup' at 0x1043b9d68>,\n",
       " <Element 'religion' at 0x1043aaae8>,\n",
       " <Element 'religion' at 0x1043aaa98>,\n",
       " <Element 'religion' at 0x10439ad68>,\n",
       " <Element 'language' at 0x10439aea8>,\n",
       " <Element 'language' at 0x10439ae58>,\n",
       " <Element 'border' at 0x10439af98>,\n",
       " <Element 'border' at 0x10439ab88>,\n",
       " <Element 'border' at 0x10439ac78>,\n",
       " <Element 'border' at 0x1043b9db8>,\n",
       " <Element 'city' at 0x1043b9e08>,\n",
       " <Element 'name' at 0x1043b9e58>,\n",
       " <Element 'name' at 0x1043b9ea8>,\n",
       " <Element 'latitude' at 0x1043b9ef8>,\n",
       " <Element 'longitude' at 0x1043b9f48>,\n",
       " <Element 'population' at 0x1043b9f98>,\n",
       " <Element 'population' at 0x1043d8048>,\n",
       " <Element 'population' at 0x1043d8098>,\n",
       " <Element 'city' at 0x1043d80e8>,\n",
       " <Element 'name' at 0x1043d8138>,\n",
       " <Element 'latitude' at 0x1043d8188>,\n",
       " <Element 'longitude' at 0x1043d81d8>,\n",
       " <Element 'population' at 0x1043d8228>,\n",
       " <Element 'population' at 0x1043d8278>,\n",
       " <Element 'located_at' at 0x1043d82c8>,\n",
       " <Element 'city' at 0x1043d8318>,\n",
       " <Element 'name' at 0x1043d8368>,\n",
       " <Element 'latitude' at 0x1043d8408>,\n",
       " <Element 'longitude' at 0x1043d8458>,\n",
       " <Element 'population' at 0x1043d84a8>,\n",
       " <Element 'population' at 0x1043d84f8>,\n",
       " <Element 'located_at' at 0x1043d8548>,\n",
       " <Element 'city' at 0x1043d8598>,\n",
       " <Element 'name' at 0x1043d85e8>,\n",
       " <Element 'latitude' at 0x1043d8688>,\n",
       " <Element 'longitude' at 0x1043d86d8>,\n",
       " <Element 'population' at 0x1043d8728>,\n",
       " <Element 'population' at 0x1043d8778>,\n",
       " <Element 'located_at' at 0x1043d87c8>,\n",
       " <Element 'city' at 0x1043d8818>,\n",
       " <Element 'name' at 0x1043d8868>,\n",
       " <Element 'latitude' at 0x1043d88b8>,\n",
       " <Element 'longitude' at 0x1043d8908>,\n",
       " <Element 'population' at 0x1043d8958>,\n",
       " <Element 'population' at 0x1043d89a8>,\n",
       " <Element 'city' at 0x1043d89f8>,\n",
       " <Element 'name' at 0x1043d8a48>,\n",
       " <Element 'latitude' at 0x1043d8ae8>,\n",
       " <Element 'longitude' at 0x1043d8b38>,\n",
       " <Element 'population' at 0x1043d8b88>,\n",
       " <Element 'population' at 0x1043d8bd8>,\n",
       " <Element 'country' at 0x1043d8c28>,\n",
       " <Element 'name' at 0x1043d8c78>,\n",
       " <Element 'localname' at 0x1043d8cc8>,\n",
       " <Element 'population' at 0x1043d8d18>,\n",
       " <Element 'population' at 0x1043d8d68>,\n",
       " <Element 'population' at 0x1043d8db8>,\n",
       " <Element 'population' at 0x1043d8e08>,\n",
       " <Element 'population' at 0x1043d8e58>,\n",
       " <Element 'population' at 0x1043d8ea8>,\n",
       " <Element 'population' at 0x1043d8ef8>,\n",
       " <Element 'population' at 0x1043d8f48>,\n",
       " <Element 'population' at 0x1043d8f98>,\n",
       " <Element 'population' at 0x1043de048>,\n",
       " <Element 'population' at 0x1043de098>,\n",
       " <Element 'population' at 0x1043de0e8>,\n",
       " <Element 'population' at 0x1043de138>,\n",
       " <Element 'population' at 0x1043de188>,\n",
       " <Element 'population' at 0x1043de1d8>,\n",
       " <Element 'population_growth' at 0x1043de228>,\n",
       " <Element 'infant_mortality' at 0x1043de278>,\n",
       " <Element 'gdp_total' at 0x1043de2c8>,\n",
       " <Element 'gdp_agri' at 0x1043de318>,\n",
       " <Element 'gdp_ind' at 0x1043de368>,\n",
       " <Element 'gdp_serv' at 0x1043de3b8>,\n",
       " <Element 'inflation' at 0x1043de408>,\n",
       " <Element 'unemployment' at 0x1043de458>,\n",
       " <Element 'indep_date' at 0x1043de4a8>,\n",
       " <Element 'government' at 0x1043de4f8>,\n",
       " <Element 'encompassed' at 0x1043de548>,\n",
       " <Element 'ethnicgroup' at 0x1043de598>,\n",
       " <Element 'religion' at 0x1043de5e8>,\n",
       " <Element 'religion' at 0x1043de638>,\n",
       " <Element 'language' at 0x1043de688>,\n",
       " <Element 'border' at 0x1043de6d8>,\n",
       " <Element 'border' at 0x1043de728>,\n",
       " <Element 'border' at 0x1043de778>,\n",
       " <Element 'border' at 0x1043de7c8>,\n",
       " <Element 'province' at 0x1043de818>,\n",
       " <Element 'name' at 0x1043de868>,\n",
       " <Element 'localname' at 0x1043de8b8>,\n",
       " <Element 'area' at 0x1043de908>,\n",
       " <Element 'population' at 0x1043de958>,\n",
       " <Element 'population' at 0x1043de9a8>,\n",
       " <Element 'population' at 0x1043de9f8>,\n",
       " <Element 'population' at 0x1043dea48>,\n",
       " <Element 'city' at 0x1043dea98>,\n",
       " <Element 'name' at 0x1043deae8>,\n",
       " <Element 'city' at 0x1043deb38>,\n",
       " <Element 'name' at 0x1043deb88>,\n",
       " <Element 'population' at 0x1043debd8>,\n",
       " <Element 'population' at 0x1043dec28>,\n",
       " <Element 'population' at 0x1043dec78>,\n",
       " <Element 'population' at 0x1043decc8>,\n",
       " <Element 'located_at' at 0x1043ded18>,\n",
       " <Element 'province' at 0x1043ded68>,\n",
       " <Element 'name' at 0x1043dedb8>,\n",
       " <Element 'localname' at 0x1043dee08>,\n",
       " <Element 'area' at 0x1043dee58>,\n",
       " <Element 'population' at 0x1043deea8>,\n",
       " <Element 'population' at 0x1043deef8>,\n",
       " <Element 'population' at 0x1043def48>,\n",
       " <Element 'population' at 0x1043def98>,\n",
       " <Element 'city' at 0x1043e3048>,\n",
       " <Element 'name' at 0x1043e3098>,\n",
       " <Element 'localname' at 0x1043e30e8>,\n",
       " <Element 'latitude' at 0x1043e3138>,\n",
       " <Element 'longitude' at 0x1043e3188>,\n",
       " <Element 'population' at 0x1043e31d8>,\n",
       " <Element 'population' at 0x1043e3228>,\n",
       " <Element 'population' at 0x1043e3278>,\n",
       " <Element 'population' at 0x1043e32c8>,\n",
       " <Element 'located_at' at 0x1043e3318>,\n",
       " <Element 'city' at 0x1043e3368>,\n",
       " <Element 'name' at 0x1043e33b8>,\n",
       " <Element 'name' at 0x1043e3408>,\n",
       " <Element 'localname' at 0x1043e34a8>,\n",
       " <Element 'population' at 0x1043e34f8>,\n",
       " <Element 'population' at 0x1043e3548>,\n",
       " <Element 'population' at 0x1043e3598>,\n",
       " <Element 'population' at 0x1043e35e8>,\n",
       " <Element 'located_at' at 0x1043e3638>,\n",
       " <Element 'city' at 0x1043e3688>,\n",
       " <Element 'name' at 0x1043e36d8>,\n",
       " <Element 'localname' at 0x1043e3728>,\n",
       " <Element 'population' at 0x1043e3778>,\n",
       " <Element 'population' at 0x1043e37c8>,\n",
       " <Element 'population' at 0x1043e3818>,\n",
       " <Element 'city' at 0x1043e3868>,\n",
       " <Element 'name' at 0x1043e38b8>,\n",
       " <Element 'localname' at 0x1043e3908>,\n",
       " <Element 'population' at 0x1043e3958>,\n",
       " <Element 'population' at 0x1043e39a8>,\n",
       " <Element 'population' at 0x1043e39f8>,\n",
       " <Element 'province' at 0x1043e3a48>,\n",
       " <Element 'name' at 0x1043e3a98>,\n",
       " <Element 'localname' at 0x1043e3ae8>,\n",
       " <Element 'area' at 0x1043e3b38>,\n",
       " <Element 'population' at 0x1043e3b88>,\n",
       " <Element 'population' at 0x1043e3bd8>,\n",
       " <Element 'population' at 0x1043e3c28>,\n",
       " <Element 'population' at 0x1043e3c78>,\n",
       " <Element 'city' at 0x1043e3cc8>,\n",
       " <Element 'name' at 0x1043e3d18>,\n",
       " <Element 'name' at 0x1043e3d68>,\n",
       " <Element 'localname' at 0x1043e3db8>,\n",
       " <Element 'population' at 0x1043e3e08>,\n",
       " <Element 'population' at 0x1043e3e58>,\n",
       " <Element 'population' at 0x1043e3ea8>,\n",
       " <Element 'population' at 0x1043e3ef8>,\n",
       " <Element 'located_at' at 0x1043e3f48>,\n",
       " <Element 'province' at 0x1043e3f98>,\n",
       " <Element 'name' at 0x1043e9048>,\n",
       " <Element 'localname' at 0x1043e9098>,\n",
       " <Element 'area' at 0x1043e90e8>,\n",
       " <Element 'population' at 0x1043e9138>,\n",
       " <Element 'population' at 0x1043e9188>,\n",
       " <Element 'population' at 0x1043e91d8>,\n",
       " <Element 'population' at 0x1043e9228>,\n",
       " <Element 'city' at 0x1043e9278>,\n",
       " <Element 'name' at 0x1043e92c8>,\n",
       " <Element 'province' at 0x1043e9318>,\n",
       " <Element 'name' at 0x1043e9368>,\n",
       " <Element 'localname' at 0x1043e93b8>,\n",
       " <Element 'area' at 0x1043e9408>,\n",
       " <Element 'population' at 0x1043e9458>,\n",
       " <Element 'population' at 0x1043e94a8>,\n",
       " <Element 'population' at 0x1043e94f8>,\n",
       " <Element 'population' at 0x1043e9548>,\n",
       " <Element 'city' at 0x1043e9598>,\n",
       " <Element 'name' at 0x1043e95e8>,\n",
       " <Element 'name' at 0x1043e9638>,\n",
       " <Element 'localname' at 0x1043e9688>,\n",
       " <Element 'population' at 0x1043e96d8>,\n",
       " <Element 'population' at 0x1043e9728>,\n",
       " <Element 'population' at 0x1043e9778>,\n",
       " <Element 'located_at' at 0x1043e97c8>,\n",
       " <Element 'located_on' at 0x1043e9818>,\n",
       " <Element 'province' at 0x1043e9868>,\n",
       " <Element 'name' at 0x1043e98b8>,\n",
       " <Element 'localname' at 0x1043e9908>,\n",
       " <Element 'area' at 0x1043e9958>,\n",
       " <Element 'population' at 0x1043e99a8>,\n",
       " <Element 'population' at 0x1043e99f8>,\n",
       " <Element 'population' at 0x1043e9a48>,\n",
       " <Element 'city' at 0x1043e9a98>,\n",
       " <Element 'name' at 0x1043e9ae8>,\n",
       " <Element 'localname' at 0x1043e9b38>,\n",
       " <Element 'population' at 0x1043e9b88>,\n",
       " <Element 'population' at 0x1043e9bd8>,\n",
       " <Element 'population' at 0x1043e9c28>,\n",
       " <Element 'province' at 0x1043e9c78>,\n",
       " <Element 'name' at 0x1043e9cc8>,\n",
       " <Element 'localname' at 0x1043e9d18>,\n",
       " <Element 'area' at 0x1043e9d68>,\n",
       " <Element 'population' at 0x1043e9db8>,\n",
       " <Element 'population' at 0x1043e9e08>,\n",
       " <Element 'population' at 0x1043e9e58>,\n",
       " <Element 'population' at 0x1043e9ea8>,\n",
       " <Element 'city' at 0x1043e9ef8>,\n",
       " <Element 'name' at 0x1043e9f48>,\n",
       " <Element 'localname' at 0x1043e9f98>,\n",
       " <Element 'latitude' at 0x1043ee048>,\n",
       " <Element 'longitude' at 0x1043ee098>,\n",
       " <Element 'population' at 0x1043ee0e8>,\n",
       " <Element 'population' at 0x1043ee138>,\n",
       " <Element 'population' at 0x1043ee188>,\n",
       " <Element 'population' at 0x1043ee1d8>,\n",
       " <Element 'located_at' at 0x1043ee228>,\n",
       " <Element 'province' at 0x1043ee278>,\n",
       " <Element 'name' at 0x1043ee2c8>,\n",
       " <Element 'localname' at 0x1043ee318>,\n",
       " <Element 'area' at 0x1043ee368>,\n",
       " <Element 'population' at 0x1043ee3b8>,\n",
       " <Element 'population' at 0x1043ee408>,\n",
       " <Element 'population' at 0x1043ee458>,\n",
       " <Element 'population' at 0x1043ee4a8>,\n",
       " <Element 'city' at 0x1043ee4f8>,\n",
       " <Element 'name' at 0x1043ee548>,\n",
       " <Element 'name' at 0x1043ee598>,\n",
       " <Element 'localname' at 0x1043ee5e8>,\n",
       " <Element 'population' at 0x1043ee638>,\n",
       " <Element 'population' at 0x1043ee688>,\n",
       " <Element 'population' at 0x1043ee6d8>,\n",
       " <Element 'population' at 0x1043ee728>,\n",
       " <Element 'located_at' at 0x1043ee778>,\n",
       " <Element 'located_on' at 0x1043ee7c8>,\n",
       " <Element 'city' at 0x1043ee818>,\n",
       " <Element 'name' at 0x1043ee868>,\n",
       " <Element 'localname' at 0x1043ee8b8>,\n",
       " <Element 'population' at 0x1043ee908>,\n",
       " <Element 'population' at 0x1043ee958>,\n",
       " <Element 'population' at 0x1043ee9a8>,\n",
       " <Element 'located_at' at 0x1043ee9f8>,\n",
       " <Element 'located_on' at 0x1043eea48>,\n",
       " <Element 'province' at 0x1043eea98>,\n",
       " <Element 'name' at 0x1043eeae8>,\n",
       " <Element 'localname' at 0x1043eeb38>,\n",
       " <Element 'area' at 0x1043eeb88>,\n",
       " <Element 'population' at 0x1043eebd8>,\n",
       " <Element 'population' at 0x1043eec28>,\n",
       " <Element 'population' at 0x1043eec78>,\n",
       " <Element 'population' at 0x1043eecc8>,\n",
       " <Element 'city' at 0x1043eed18>,\n",
       " <Element 'name' at 0x1043eed68>,\n",
       " <Element 'located_at' at 0x1043eedb8>,\n",
       " <Element 'located_on' at 0x1043eee08>,\n",
       " <Element 'city' at 0x1043eee58>,\n",
       " <Element 'name' at 0x1043eeea8>,\n",
       " <Element 'name' at 0x1043eeef8>,\n",
       " <Element 'localname' at 0x1043eef48>,\n",
       " <Element 'population' at 0x1043eef98>,\n",
       " <Element 'population' at 0x1043f3048>,\n",
       " <Element 'population' at 0x1043f3098>,\n",
       " <Element 'located_at' at 0x1043f30e8>,\n",
       " <Element 'located_on' at 0x1043f3138>,\n",
       " <Element 'province' at 0x1043f3188>,\n",
       " <Element 'name' at 0x1043f31d8>,\n",
       " <Element 'localname' at 0x1043f3228>,\n",
       " <Element 'area' at 0x1043f3278>,\n",
       " <Element 'population' at 0x1043f32c8>,\n",
       " <Element 'population' at 0x1043f3318>,\n",
       " <Element 'population' at 0x1043f3368>,\n",
       " <Element 'city' at 0x1043f33b8>,\n",
       " <Element 'name' at 0x1043f3408>,\n",
       " <Element 'province' at 0x1043f3458>,\n",
       " <Element 'name' at 0x1043f34a8>,\n",
       " <Element 'localname' at 0x1043f34f8>,\n",
       " <Element 'area' at 0x1043f3548>,\n",
       " <Element 'population' at 0x1043f3598>,\n",
       " <Element 'population' at 0x1043f35e8>,\n",
       " <Element 'population' at 0x1043f3638>,\n",
       " <Element 'city' at 0x1043f3688>,\n",
       " <Element 'name' at 0x1043f36d8>,\n",
       " <Element 'localname' at 0x1043f3728>,\n",
       " <Element 'population' at 0x1043f3778>,\n",
       " <Element 'city' at 0x1043f37c8>,\n",
       " <Element 'name' at 0x1043f3818>,\n",
       " <Element 'name' at 0x1043f3868>,\n",
       " <Element 'localname' at 0x1043f38b8>,\n",
       " <Element 'population' at 0x1043f3908>,\n",
       " <Element 'population' at 0x1043f3958>,\n",
       " <Element 'population' at 0x1043f39a8>,\n",
       " <Element 'province' at 0x1043f39f8>,\n",
       " <Element 'name' at 0x1043f3a48>,\n",
       " <Element 'localname' at 0x1043f3a98>,\n",
       " <Element 'area' at 0x1043f3ae8>,\n",
       " <Element 'population' at 0x1043f3b38>,\n",
       " <Element 'population' at 0x1043f3b88>,\n",
       " <Element 'population' at 0x1043f3bd8>,\n",
       " <Element 'population' at 0x1043f3c28>,\n",
       " <Element 'city' at 0x1043f3c78>,\n",
       " <Element 'name' at 0x1043f3cc8>,\n",
       " <Element 'localname' at 0x1043f3d18>,\n",
       " <Element 'population' at 0x1043f3d68>,\n",
       " <Element 'population' at 0x1043f3db8>,\n",
       " <Element 'population' at 0x1043f3e08>,\n",
       " <Element 'population' at 0x1043f3e58>,\n",
       " <Element 'city' at 0x1043f3ea8>,\n",
       " <Element 'name' at 0x1043f3ef8>,\n",
       " <Element 'localname' at 0x1043f3f48>,\n",
       " <Element 'population' at 0x1043f3f98>,\n",
       " <Element 'population' at 0x1043f9048>,\n",
       " <Element 'population' at 0x1043f9098>,\n",
       " <Element 'population' at 0x1043f90e8>,\n",
       " <Element 'located_at' at 0x1043f9138>,\n",
       " <Element 'province' at 0x1043f9188>,\n",
       " <Element 'name' at 0x1043f91d8>,\n",
       " <Element 'localname' at 0x1043f9228>,\n",
       " <Element 'area' at 0x1043f9278>,\n",
       " <Element 'population' at 0x1043f92c8>,\n",
       " <Element 'population' at 0x1043f9318>,\n",
       " <Element 'population' at 0x1043f9368>,\n",
       " <Element 'population' at 0x1043f93b8>,\n",
       " <Element 'city' at 0x1043f9408>,\n",
       " <Element 'name' at 0x1043f9458>,\n",
       " <Element 'located_at' at 0x1043f94a8>,\n",
       " <Element 'located_on' at 0x1043f94f8>,\n",
       " <Element 'province' at 0x1043f9548>,\n",
       " <Element 'name' at 0x1043f9598>,\n",
       " <Element 'localname' at 0x1043f95e8>,\n",
       " <Element 'area' at 0x1043f9638>,\n",
       " <Element 'population' at 0x1043f9688>,\n",
       " <Element 'population' at 0x1043f96d8>,\n",
       " <Element 'population' at 0x1043f9728>,\n",
       " <Element 'city' at 0x1043f9778>,\n",
       " <Element 'name' at 0x1043f97c8>,\n",
       " <Element 'population' at 0x1043f9818>,\n",
       " <Element 'country' at 0x1043f9868>,\n",
       " <Element 'name' at 0x1043f98b8>,\n",
       " <Element 'localname' at 0x1043f9908>,\n",
       " <Element 'population' at 0x1043f9958>,\n",
       " <Element 'population' at 0x1043f99a8>,\n",
       " <Element 'population' at 0x1043f99f8>,\n",
       " <Element 'population' at 0x1043f9a48>,\n",
       " <Element 'population' at 0x1043f9a98>,\n",
       " <Element 'population' at 0x1043f9ae8>,\n",
       " <Element 'population' at 0x1043f9b38>,\n",
       " <Element 'population' at 0x1043f9b88>,\n",
       " <Element 'population' at 0x1043f9bd8>,\n",
       " <Element 'population' at 0x1043f9c28>,\n",
       " <Element 'population' at 0x1043f9c78>,\n",
       " <Element 'population_growth' at 0x1043f9cc8>,\n",
       " <Element 'infant_mortality' at 0x1043f9d18>,\n",
       " <Element 'gdp_total' at 0x1043f9d68>,\n",
       " <Element 'gdp_agri' at 0x1043f9db8>,\n",
       " <Element 'gdp_ind' at 0x1043f9e08>,\n",
       " <Element 'gdp_serv' at 0x1043f9e58>,\n",
       " <Element 'inflation' at 0x1043f9ea8>,\n",
       " <Element 'unemployment' at 0x1043f9ef8>,\n",
       " <Element 'indep_date' at 0x1043f9f48>,\n",
       " <Element 'government' at 0x1043f9f98>,\n",
       " <Element 'encompassed' at 0x1043ff048>,\n",
       " <Element 'ethnicgroup' at 0x1043ff098>,\n",
       " <Element 'ethnicgroup' at 0x1043ff0e8>,\n",
       " <Element 'ethnicgroup' at 0x1043ff138>,\n",
       " <Element 'ethnicgroup' at 0x1043ff188>,\n",
       " <Element 'ethnicgroup' at 0x1043ff1d8>,\n",
       " <Element 'religion' at 0x1043ff228>,\n",
       " <Element 'religion' at 0x1043ff278>,\n",
       " <Element 'religion' at 0x1043ff2c8>,\n",
       " <Element 'language' at 0x1043ff318>,\n",
       " <Element 'language' at 0x1043ff368>,\n",
       " <Element 'language' at 0x1043ff3b8>,\n",
       " <Element 'language' at 0x1043ff408>,\n",
       " <Element 'language' at 0x1043ff458>,\n",
       " <Element 'border' at 0x1043ff4a8>,\n",
       " <Element 'border' at 0x1043ff4f8>,\n",
       " <Element 'border' at 0x1043ff548>,\n",
       " <Element 'border' at 0x1043ff598>,\n",
       " <Element 'border' at 0x1043ff5e8>,\n",
       " <Element 'city' at 0x1043ff638>,\n",
       " <Element 'name' at 0x1043ff688>,\n",
       " <Element 'localname' at 0x1043ff6d8>,\n",
       " <Element 'latitude' at 0x1043ff728>,\n",
       " <Element 'longitude' at 0x1043ff778>,\n",
       " <Element 'population' at 0x1043ff7c8>,\n",
       " <Element 'population' at 0x1043ff818>,\n",
       " <Element 'city' at 0x1043ff868>,\n",
       " <Element 'name' at 0x1043ff8b8>,\n",
       " <Element 'localname' at 0x1043ff908>,\n",
       " <Element 'latitude' at 0x1043ff958>,\n",
       " <Element 'longitude' at 0x1043ff9a8>,\n",
       " <Element 'population' at 0x1043ff9f8>,\n",
       " <Element 'population' at 0x1043ffa48>,\n",
       " <Element 'country' at 0x1043ffa98>,\n",
       " <Element 'name' at 0x1043ffae8>,\n",
       " <Element 'localname' at 0x1043ffb38>,\n",
       " <Element 'population' at 0x1043ffb88>,\n",
       " <Element 'population' at 0x1043ffbd8>,\n",
       " <Element 'population' at 0x1043ffc28>,\n",
       " <Element 'population' at 0x1043ffc78>,\n",
       " <Element 'population' at 0x1043ffcc8>,\n",
       " <Element 'population' at 0x1043ffd18>,\n",
       " <Element 'population' at 0x1043ffd68>,\n",
       " <Element 'population' at 0x1043ffdb8>,\n",
       " <Element 'population_growth' at 0x1043ffe08>,\n",
       " <Element 'infant_mortality' at 0x1043ffe58>,\n",
       " <Element 'gdp_total' at 0x1043ffea8>,\n",
       " <Element 'gdp_agri' at 0x1043ffef8>,\n",
       " <Element 'gdp_ind' at 0x1043fff48>,\n",
       " <Element 'gdp_serv' at 0x1043fff98>,\n",
       " <Element 'inflation' at 0x104403048>,\n",
       " <Element 'unemployment' at 0x104403098>,\n",
       " <Element 'indep_date' at 0x1044030e8>,\n",
       " <Element 'government' at 0x104403138>,\n",
       " <Element 'encompassed' at 0x104403188>,\n",
       " <Element 'ethnicgroup' at 0x1044031d8>,\n",
       " <Element 'ethnicgroup' at 0x104403228>,\n",
       " <Element 'ethnicgroup' at 0x104403278>,\n",
       " <Element 'ethnicgroup' at 0x1044032c8>,\n",
       " <Element 'ethnicgroup' at 0x104403318>,\n",
       " <Element 'ethnicgroup' at 0x104403368>,\n",
       " <Element 'religion' at 0x1044033b8>,\n",
       " <Element 'religion' at 0x104403408>,\n",
       " <Element 'religion' at 0x104403458>,\n",
       " <Element 'religion' at 0x1044034a8>,\n",
       " <Element 'language' at 0x1044034f8>,\n",
       " <Element 'language' at 0x104403548>,\n",
       " <Element 'language' at 0x104403598>,\n",
       " <Element 'language' at 0x1044035e8>,\n",
       " <Element 'border' at 0x104403638>,\n",
       " <Element 'border' at 0x104403688>,\n",
       " <Element 'border' at 0x1044036d8>,\n",
       " <Element 'border' at 0x104403728>,\n",
       " <Element 'border' at 0x104403778>,\n",
       " <Element 'border' at 0x1044037c8>,\n",
       " <Element 'border' at 0x104403818>,\n",
       " <Element 'border' at 0x104403868>,\n",
       " <Element 'city' at 0x1044038b8>,\n",
       " <Element 'name' at 0x104403908>,\n",
       " <Element 'localname' at 0x104403958>,\n",
       " <Element 'latitude' at 0x1044039a8>,\n",
       " <Element 'longitude' at 0x1044039f8>,\n",
       " <Element 'population' at 0x104403a48>,\n",
       " <Element 'population' at 0x104403a98>,\n",
       " <Element 'population' at 0x104403ae8>,\n",
       " <Element 'located_at' at 0x104403b38>,\n",
       " <Element 'located_at' at 0x104403b88>,\n",
       " <Element 'city' at 0x104403bd8>,\n",
       " <Element 'name' at 0x104403c28>,\n",
       " <Element 'localname' at 0x104403c78>,\n",
       " <Element 'population' at 0x104403cc8>,\n",
       " <Element 'population' at 0x104403d18>,\n",
       " <Element 'located_at' at 0x104403d68>,\n",
       " <Element 'city' at 0x104403db8>,\n",
       " <Element 'name' at 0x104403e08>,\n",
       " <Element 'localname' at 0x104403e58>,\n",
       " <Element 'population' at 0x104403ea8>,\n",
       " <Element 'population' at 0x104403ef8>,\n",
       " <Element 'located_at' at 0x104403f48>,\n",
       " <Element 'country' at 0x104403f98>,\n",
       " <Element 'name' at 0x104409048>,\n",
       " <Element 'localname' at 0x104409098>,\n",
       " <Element 'population' at 0x1044090e8>,\n",
       " <Element 'population' at 0x104409138>,\n",
       " <Element 'population' at 0x104409188>,\n",
       " <Element 'population' at 0x1044091d8>,\n",
       " <Element 'population' at 0x104409228>,\n",
       " <Element 'population' at 0x104409278>,\n",
       " <Element 'population' at 0x1044092c8>,\n",
       " <Element 'population' at 0x104409318>,\n",
       " <Element 'population' at 0x104409368>,\n",
       " <Element 'population' at 0x1044093b8>,\n",
       " <Element 'population_growth' at 0x104409408>,\n",
       " <Element 'gdp_total' at 0x104409458>,\n",
       " <Element 'gdp_agri' at 0x1044094a8>,\n",
       " <Element 'gdp_ind' at 0x1044094f8>,\n",
       " <Element 'gdp_serv' at 0x104409548>,\n",
       " <Element 'inflation' at 0x104409598>,\n",
       " <Element 'unemployment' at 0x1044095e8>,\n",
       " <Element 'indep_date' at 0x104409638>,\n",
       " <Element 'government' at 0x104409688>,\n",
       " <Element 'encompassed' at 0x1044096d8>,\n",
       " <Element 'ethnicgroup' at 0x104409728>,\n",
       " <Element 'ethnicgroup' at 0x104409778>,\n",
       " <Element 'ethnicgroup' at 0x1044097c8>,\n",
       " <Element 'ethnicgroup' at 0x104409818>,\n",
       " <Element 'religion' at 0x104409868>,\n",
       " <Element 'religion' at 0x1044098b8>,\n",
       " <Element 'religion' at 0x104409908>,\n",
       " <Element 'language' at 0x104409958>,\n",
       " <Element 'language' at 0x1044099a8>,\n",
       " <Element 'language' at 0x1044099f8>,\n",
       " <Element 'language' at 0x104409a48>,\n",
       " <Element 'border' at 0x104409a98>,\n",
       " <Element 'border' at 0x104409ae8>,\n",
       " <Element 'border' at 0x104409b38>,\n",
       " <Element 'border' at 0x104409b88>,\n",
       " <Element 'border' at 0x104409bd8>,\n",
       " <Element 'city' at 0x104409c28>,\n",
       " <Element 'name' at 0x104409c78>,\n",
       " <Element 'latitude' at 0x104409cc8>,\n",
       " <Element 'longitude' at 0x104409d18>,\n",
       " <Element 'population' at 0x104409d68>,\n",
       " <Element 'population' at 0x104409db8>,\n",
       " <Element 'located_at' at 0x104409e08>,\n",
       " <Element 'country' at 0x104409e58>,\n",
       " <Element 'name' at 0x104409ea8>,\n",
       " <Element 'localname' at 0x104409ef8>,\n",
       " <Element 'population' at 0x104409f48>,\n",
       " <Element 'population' at 0x104409f98>,\n",
       " <Element 'population' at 0x10440e048>,\n",
       " <Element 'gdp_total' at 0x10440e098>,\n",
       " <Element 'gdp_agri' at 0x10440e0e8>,\n",
       " <Element 'gdp_ind' at 0x10440e138>,\n",
       " <Element 'gdp_serv' at 0x10440e188>,\n",
       " <Element 'inflation' at 0x10440e1d8>,\n",
       " <Element 'unemployment' at 0x10440e228>,\n",
       " <Element 'indep_date' at 0x10440e278>,\n",
       " <Element 'government' at 0x10440e2c8>,\n",
       " <Element 'encompassed' at 0x10440e318>,\n",
       " <Element 'ethnicgroup' at 0x10440e368>,\n",
       " <Element 'ethnicgroup' at 0x10440e3b8>,\n",
       " <Element 'religion' at 0x10440e408>,\n",
       " <Element 'language' at 0x10440e458>,\n",
       " <Element 'language' at 0x10440e4a8>,\n",
       " <Element 'border' at 0x10440e4f8>,\n",
       " <Element 'border' at 0x10440e548>,\n",
       " <Element 'border' at 0x10440e598>,\n",
       " <Element 'border' at 0x10440e5e8>,\n",
       " <Element 'city' at 0x10440e638>,\n",
       " <Element 'name' at 0x10440e688>,\n",
       " <Element 'name' at 0x10440e6d8>,\n",
       " <Element 'latitude' at 0x10440e728>,\n",
       " <Element 'longitude' at 0x10440e778>,\n",
       " <Element 'population' at 0x10440e7c8>,\n",
       " <Element 'population' at 0x10440e818>,\n",
       " <Element 'population' at 0x10440e868>,\n",
       " <Element 'country' at 0x10440e908>,\n",
       " <Element 'name' at 0x10440e958>,\n",
       " <Element 'localname' at 0x10440e9a8>,\n",
       " <Element 'population' at 0x10440e9f8>,\n",
       " <Element 'population' at 0x10440ea48>,\n",
       " <Element 'population' at 0x10440ea98>,\n",
       " <Element 'population' at 0x10440eae8>,\n",
       " <Element 'population' at 0x10440eb38>,\n",
       " <Element 'population' at 0x10440eb88>,\n",
       " <Element 'population' at 0x10440ebd8>,\n",
       " <Element 'population' at 0x10440ec28>,\n",
       " <Element 'population_growth' at 0x10440ec78>,\n",
       " <Element 'infant_mortality' at 0x10440ecc8>,\n",
       " <Element 'gdp_total' at 0x10440ed18>,\n",
       " <Element 'gdp_agri' at 0x10440ed68>,\n",
       " <Element 'gdp_ind' at 0x10440edb8>,\n",
       " <Element 'gdp_serv' at 0x10440ee08>,\n",
       " <Element 'inflation' at 0x10440ee58>,\n",
       " <Element 'unemployment' at 0x10440eea8>,\n",
       " <Element 'indep_date' at 0x10440eef8>,\n",
       " <Element 'government' at 0x10440ef48>,\n",
       " <Element 'encompassed' at 0x10440ef98>,\n",
       " <Element 'ethnicgroup' at 0x104412048>,\n",
       " <Element 'ethnicgroup' at 0x104412098>,\n",
       " <Element 'ethnicgroup' at 0x1044120e8>,\n",
       " <Element 'ethnicgroup' at 0x104412138>,\n",
       " <Element 'ethnicgroup' at 0x104412188>,\n",
       " <Element 'religion' at 0x1044121d8>,\n",
       " <Element 'language' at 0x104412228>,\n",
       " <Element 'language' at 0x104412278>,\n",
       " <Element 'language' at 0x1044122c8>,\n",
       " <Element 'language' at 0x104412318>,\n",
       " <Element 'language' at 0x104412368>,\n",
       " <Element 'border' at 0x1044123b8>,\n",
       " <Element 'border' at 0x104412408>,\n",
       " <Element 'city' at 0x1044124a8>,\n",
       " <Element 'name' at 0x1044124f8>,\n",
       " <Element 'latitude' at 0x104412548>,\n",
       " <Element 'longitude' at 0x104412598>,\n",
       " <Element 'population' at 0x1044125e8>,\n",
       " <Element 'population' at 0x104412638>,\n",
       " <Element 'population' at 0x104412688>]"
      ]
     },
     "execution_count": 8,
     "metadata": {},
     "output_type": "execute_result"
    }
   ],
   "source": [
    "document_tree.getiterator()"
   ]
  },
  {
   "cell_type": "code",
   "execution_count": 8,
   "metadata": {
    "collapsed": false
   },
   "outputs": [
    {
     "data": {
      "text/plain": [
       "<Element 'mondial' at 0x11269a188>"
      ]
     },
     "execution_count": 8,
     "metadata": {},
     "output_type": "execute_result"
    }
   ],
   "source": [
    "document_tree.getroot()"
   ]
  },
  {
   "cell_type": "code",
   "execution_count": 11,
   "metadata": {
    "collapsed": false
   },
   "outputs": [
    {
     "name": "stdout",
     "output_type": "stream",
     "text": [
      "Albania\n",
      "Greece\n",
      "Macedonia\n",
      "Serbia\n",
      "Montenegro\n",
      "Kosovo\n",
      "Andorra\n"
     ]
    }
   ],
   "source": [
    "##Oh, great. Her copy doesn't work. I'll have to fix it. Oh, it's just print(). Nvm!\n",
    "\n",
    "#print names of all countries\n",
    "for child in document_tree.getroot():\n",
    "    print (child.find('name').text)"
   ]
  },
  {
   "cell_type": "code",
   "execution_count": 15,
   "metadata": {
    "collapsed": false
   },
   "outputs": [
    {
     "name": "stdout",
     "output_type": "stream",
     "text": [
      "* Albania:\n",
      "Tirana, Shkodër, Durrës, Vlorë, Elbasan, Korçë\n",
      "* Greece:\n",
      "Komotini, Kavala, Athina, Peiraias, Peristeri, Acharnes, Patra, Kozani, Kerkyra, Ioannina, Thessaloniki, Iraklio, Chania, Ermoupoli, Rhodes, Tripoli, Lamia, Chalkida, Larissa, Volos, Mytilini, Karyes\n",
      "* Macedonia:\n",
      "Skopje, Kumanovo\n",
      "* Serbia:\n",
      "Beograd, Novi Sad, Niš\n",
      "* Montenegro:\n",
      "Podgorica\n",
      "* Kosovo:\n",
      "Prishtine\n",
      "* Andorra:\n",
      "Andorra la Vella\n"
     ]
    }
   ],
   "source": [
    "# print names of all countries and their cities\n",
    "for element in document_tree.iterfind('country'):\n",
    "    print ( '* ' + element.find('name').text + ':' ),\n",
    "    capitals_string = ''\n",
    "    for subelement in element.getiterator('city'):\n",
    "        capitals_string += subelement.find('name').text + ', '\n",
    "    print ( capitals_string[:-2] )"
   ]
  },
  {
   "cell_type": "markdown",
   "metadata": {},
   "source": [
    "****\n",
    "## XML exercise\n",
    "\n",
    "Using data in 'data/mondial_database.xml', the examples above, and refering to https://docs.python.org/2.7/library/xml.etree.elementtree.html, find\n",
    "\n",
    "1. 10 countries with the lowest infant mortality rates\n",
    "2. 10 cities with the largest population\n",
    "3. 10 ethnic groups with the largest overall populations (sum of best/latest estimates over all countries)\n",
    "4. name and country of a) longest river, b) largest lake and c) airport at highest elevation"
   ]
  },
  {
   "cell_type": "code",
   "execution_count": 52,
   "metadata": {
    "collapsed": true
   },
   "outputs": [],
   "source": [
    "document = ET.parse( './data/mondial_database.xml' )\n",
    "doc_root = document.getroot()"
   ]
  },
  {
   "cell_type": "code",
   "execution_count": 34,
   "metadata": {
    "collapsed": false
   },
   "outputs": [
    {
     "name": "stdout",
     "output_type": "stream",
     "text": [
      "country\n",
      "{'area': '131940', 'memberships': 'org-AG org-BIS org-BSEC org-CD org-SELEC org-CE org-EMU org-EAPC org-EBRD org-ECB org-EIB org-CERN org-ESA org-EU org-FATF org-FAO org-IGAD org-IPU org-IAEA org-IBRD org-ICC org-ICAO org-ICJ org-ICCt org-Interpol org-IDA org-IEA org-IFRCS org-IFC org-IFAD org-IHO org-ILO org-IMO org-IMSO org-IMF org-IOC org-IOM org-OIF org-ITSO org-ITU org-ITUC org-MIGA org-NATO org-NEA org-NSG org-OECD org-OSCE org-OPCW org-OAS org-PCA org-UN org-UNCTAD org-UNESCO org-UNHCR org-UNIDO org-UNIFIL org-UPU org-WCO org-WFTU org-WHO org-WIPO org-WMO org-UNWTO org-WTO org-ZC', 'car_code': 'GR', 'capital': 'cty-Greece-Athens'}\n",
      "name\n",
      "Greece\n",
      "localname\n",
      "Ελληνική Δημοκρατία\n",
      "population\n",
      "1096810\n",
      "<Element 'country' at 0x11163b9a8>\n"
     ]
    }
   ],
   "source": [
    "#Trying out things\n",
    "print0 = doc_root[1].tag\n",
    "print1 = doc_root[1].attrib\n",
    "\n",
    "print2 = doc_root[1][0].tag\n",
    "print3 = doc_root[1][0].text\n",
    "\n",
    "print4 = doc_root[1][1].tag\n",
    "print5 = doc_root[1][1].text\n",
    "\n",
    "print6 = doc_root[1][2].tag\n",
    "print7 = doc_root[1][2].text\n",
    "\n",
    "print8 = doc_root[1]\n",
    "\n",
    "\n",
    "prints = [print0, print1, print2, print3, print4, print5, print6, print7, print8]\n",
    "\n",
    "counter = 0\n",
    "for item in prints:\n",
    "    prints[counter] = str(item)\n",
    "    counter += 1\n",
    "\n",
    "print(\"\\n\".join(prints))\n",
    "\n",
    "#Ελληνική Δημοκρατία = Greek Republic (in Greek) = Elliniki Dimocratia\n"
   ]
  },
  {
   "cell_type": "code",
   "execution_count": null,
   "metadata": {
    "collapsed": true
   },
   "outputs": [],
   "source": [
    "#scrap\n",
    "find_this = 'infant_mortality'\n",
    "    for subelement in element.getiterator(find_this)"
   ]
  },
  {
   "cell_type": "markdown",
   "metadata": {},
   "source": [
    "## Quesiton 1\n",
    "\n",
    "*Top 10 countries with the lowest infant mortality rates*"
   ]
  },
  {
   "cell_type": "code",
   "execution_count": 13,
   "metadata": {
    "collapsed": false
   },
   "outputs": [
    {
     "name": "stdout",
     "output_type": "stream",
     "text": [
      "244\n",
      "244\n"
     ]
    }
   ],
   "source": [
    "# # print names of all countries and their cities\n",
    "# for element in document_tree.iterfind('country'):\n",
    "#     print ( '* ' + element.find('name').text + ':' ),\n",
    "#     capitals_string = ''\n",
    "#     for subelement in element.getiterator('city'):\n",
    "#         capitals_string += subelement.find('name').text + ', '\n",
    "#     print ( capitals_string[:-2] )\n",
    "    \n",
    "#So, what I want to do instead is make a pandas DF with country name repeated for each subitem\n",
    "#and the element I want is infant_mortality on the tree 'document' or 'doc_root'\n",
    "##Ran into a couple problems when country_inf_mort was NoneType, see below.\n",
    "\n",
    "country_names = []\n",
    "country_morts = []\n",
    "\n",
    "for element in document.iterfind('country'):\n",
    "    country_name = element.find('name')\n",
    "    country_inf_mort = element.find('infant_mortality')\n",
    "    country_names.append(country_name.text)\n",
    "    if country_inf_mort is not None:\n",
    "        country_mort = country_inf_mort.text\n",
    "    else:\n",
    "        country_mort = np.NaN\n",
    "    country_morts.append(country_mort)\n",
    "#Okay, so I think this has a problem where something produces a generator rather than the concrete\n",
    "#numbers, but I'm having some trouble working it out. I may just want to try a different approach\n",
    "#to the problem for a bit, see if I can pick up understanding again.\n",
    "print (len(country_names))\n",
    "print (len(country_morts))\n",
    "#....now I don't seem to have the problem. Um... good?\n",
    "###OH! The problem is that some of these are stings, which is bad. I need to convert everything to floats.\n",
    "    \n",
    "Frame_Mort= pd.DataFrame.from_items([('country', country_names), ('infant_mortality', country_morts)])\n",
    "\n",
    "    \n",
    "#One Idea...\n",
    "#pd.concat(zipped_series, keys=[countries]) \n",
    "#No... this won't work as wanted (will make a longer series). Do from_items."
   ]
  },
  {
   "cell_type": "code",
   "execution_count": 16,
   "metadata": {
    "collapsed": false
   },
   "outputs": [
    {
     "data": {
      "text/html": [
       "<div>\n",
       "<table border=\"1\" class=\"dataframe\">\n",
       "  <thead>\n",
       "    <tr style=\"text-align: right;\">\n",
       "      <th></th>\n",
       "      <th>country</th>\n",
       "      <th>infant_mortality</th>\n",
       "    </tr>\n",
       "  </thead>\n",
       "  <tbody>\n",
       "    <tr>\n",
       "      <th>213</th>\n",
       "      <td>Central African Republic</td>\n",
       "      <td>92.86</td>\n",
       "    </tr>\n",
       "    <tr>\n",
       "      <th>230</th>\n",
       "      <td>Guinea-Bissau</td>\n",
       "      <td>90.92</td>\n",
       "    </tr>\n",
       "    <tr>\n",
       "      <th>214</th>\n",
       "      <td>Chad</td>\n",
       "      <td>90.3</td>\n",
       "    </tr>\n",
       "    <tr>\n",
       "      <th>174</th>\n",
       "      <td>Argentina</td>\n",
       "      <td>9.96</td>\n",
       "    </tr>\n",
       "    <tr>\n",
       "      <th>72</th>\n",
       "      <td>Thailand</td>\n",
       "      <td>9.86</td>\n",
       "    </tr>\n",
       "  </tbody>\n",
       "</table>\n",
       "</div>"
      ],
      "text/plain": [
       "                      country infant_mortality\n",
       "213  Central African Republic            92.86\n",
       "230             Guinea-Bissau            90.92\n",
       "214                      Chad             90.3\n",
       "174                 Argentina             9.96\n",
       "72                   Thailand             9.86"
      ]
     },
     "execution_count": 16,
     "metadata": {},
     "output_type": "execute_result"
    }
   ],
   "source": [
    "Frame_Mort.head()"
   ]
  },
  {
   "cell_type": "code",
   "execution_count": 22,
   "metadata": {
    "collapsed": false
   },
   "outputs": [],
   "source": [
    "#Convert all infant_mortality values to floats so that they sort correctly.\n",
    "Frame_Mort[\"infant_mortality\"] = Frame_Mort[\"infant_mortality\"].astype(float)"
   ]
  },
  {
   "cell_type": "code",
   "execution_count": 25,
   "metadata": {
    "collapsed": false
   },
   "outputs": [
    {
     "data": {
      "text/plain": [
       "dtype('float64')"
      ]
     },
     "execution_count": 25,
     "metadata": {},
     "output_type": "execute_result"
    }
   ],
   "source": [
    "dtype(Frame_Mort[\"infant_mortality\"])"
   ]
  },
  {
   "cell_type": "code",
   "execution_count": 26,
   "metadata": {
    "collapsed": false
   },
   "outputs": [],
   "source": [
    "Frame_Mort = Frame_Mort.sort_values(by='infant_mortality', ascending=False)"
   ]
  },
  {
   "cell_type": "markdown",
   "metadata": {},
   "source": [
    "## Answer to Question 1"
   ]
  },
  {
   "cell_type": "code",
   "execution_count": 28,
   "metadata": {
    "collapsed": false
   },
   "outputs": [
    {
     "data": {
      "text/html": [
       "<div>\n",
       "<table border=\"1\" class=\"dataframe\">\n",
       "  <thead>\n",
       "    <tr style=\"text-align: right;\">\n",
       "      <th></th>\n",
       "      <th>country</th>\n",
       "      <th>infant_mortality</th>\n",
       "    </tr>\n",
       "  </thead>\n",
       "  <tbody>\n",
       "    <tr>\n",
       "      <th>194</th>\n",
       "      <td>Western Sahara</td>\n",
       "      <td>145.82</td>\n",
       "    </tr>\n",
       "    <tr>\n",
       "      <th>54</th>\n",
       "      <td>Afghanistan</td>\n",
       "      <td>117.23</td>\n",
       "    </tr>\n",
       "    <tr>\n",
       "      <th>189</th>\n",
       "      <td>Mali</td>\n",
       "      <td>104.34</td>\n",
       "    </tr>\n",
       "    <tr>\n",
       "      <th>226</th>\n",
       "      <td>Somalia</td>\n",
       "      <td>100.14</td>\n",
       "    </tr>\n",
       "    <tr>\n",
       "      <th>213</th>\n",
       "      <td>Central African Republic</td>\n",
       "      <td>92.86</td>\n",
       "    </tr>\n",
       "    <tr>\n",
       "      <th>230</th>\n",
       "      <td>Guinea-Bissau</td>\n",
       "      <td>90.92</td>\n",
       "    </tr>\n",
       "    <tr>\n",
       "      <th>214</th>\n",
       "      <td>Chad</td>\n",
       "      <td>90.30</td>\n",
       "    </tr>\n",
       "    <tr>\n",
       "      <th>192</th>\n",
       "      <td>Niger</td>\n",
       "      <td>86.27</td>\n",
       "    </tr>\n",
       "    <tr>\n",
       "      <th>195</th>\n",
       "      <td>Angola</td>\n",
       "      <td>79.99</td>\n",
       "    </tr>\n",
       "    <tr>\n",
       "      <th>201</th>\n",
       "      <td>Burkina Faso</td>\n",
       "      <td>76.80</td>\n",
       "    </tr>\n",
       "  </tbody>\n",
       "</table>\n",
       "</div>"
      ],
      "text/plain": [
       "                      country  infant_mortality\n",
       "194            Western Sahara            145.82\n",
       "54                Afghanistan            117.23\n",
       "189                      Mali            104.34\n",
       "226                   Somalia            100.14\n",
       "213  Central African Republic             92.86\n",
       "230             Guinea-Bissau             90.92\n",
       "214                      Chad             90.30\n",
       "192                     Niger             86.27\n",
       "195                    Angola             79.99\n",
       "201              Burkina Faso             76.80"
      ]
     },
     "execution_count": 28,
     "metadata": {},
     "output_type": "execute_result"
    }
   ],
   "source": [
    "Frame_Mort[0:10]"
   ]
  },
  {
   "cell_type": "code",
   "execution_count": 61,
   "metadata": {
    "collapsed": false
   },
   "outputs": [
    {
     "data": {
      "image/png": "[encoded data removed]",
      "text/plain": [
       "<matplotlib.figure.Figure at 0x113e01160>"
      ]
     },
     "metadata": {},
     "output_type": "display_data"
    }
   ],
   "source": [
    "#A histogram for histogram's sake\n",
    "plt.hist(Frame_Mort['infant_mortality'], bins=20, range = [0,110])\n",
    "plt.axvline(Frame_Mort['infant_mortality'].mean(), linewidth=2, color='gray')\n",
    "plt.title('Infant Morality Distribution by Country')\n",
    "plt.xlabel('Infant Mortality')\n",
    "plt.ylabel('Number of Countries')\n",
    "plt.show()"
   ]
  },
  {
   "cell_type": "markdown",
   "metadata": {},
   "source": [
    "## Scratchwork for Q1"
   ]
  },
  {
   "cell_type": "code",
   "execution_count": 5,
   "metadata": {
    "collapsed": false
   },
   "outputs": [
    {
     "data": {
      "text/plain": [
       "0       Albania\n",
       "1        Greece\n",
       "2     Macedonia\n",
       "3        Serbia\n",
       "4    Montenegro\n",
       "Name: country, dtype: object"
      ]
     },
     "execution_count": 5,
     "metadata": {},
     "output_type": "execute_result"
    }
   ],
   "source": [
    "#Little bit of scrachwork\n",
    "#type(Frame_Mort['infant_mortality'].head())\n",
    "#Frame_Mort['country'].head()"
   ]
  },
  {
   "cell_type": "code",
   "execution_count": 55,
   "metadata": {
    "collapsed": false
   },
   "outputs": [
    {
     "data": {
      "text/html": [
       "<div>\n",
       "<table border=\"1\" class=\"dataframe\">\n",
       "  <thead>\n",
       "    <tr style=\"text-align: right;\">\n",
       "      <th></th>\n",
       "      <th>country</th>\n",
       "      <th>infant_mortality</th>\n",
       "    </tr>\n",
       "  </thead>\n",
       "  <tbody>\n",
       "    <tr>\n",
       "      <th>213</th>\n",
       "      <td>Central African Republic</td>\n",
       "      <td>92.86</td>\n",
       "    </tr>\n",
       "    <tr>\n",
       "      <th>230</th>\n",
       "      <td>Guinea-Bissau</td>\n",
       "      <td>90.92</td>\n",
       "    </tr>\n",
       "    <tr>\n",
       "      <th>214</th>\n",
       "      <td>Chad</td>\n",
       "      <td>90.3</td>\n",
       "    </tr>\n",
       "    <tr>\n",
       "      <th>174</th>\n",
       "      <td>Argentina</td>\n",
       "      <td>9.96</td>\n",
       "    </tr>\n",
       "    <tr>\n",
       "      <th>72</th>\n",
       "      <td>Thailand</td>\n",
       "      <td>9.86</td>\n",
       "    </tr>\n",
       "    <tr>\n",
       "      <th>64</th>\n",
       "      <td>Bahrain</td>\n",
       "      <td>9.68</td>\n",
       "    </tr>\n",
       "    <tr>\n",
       "      <th>131</th>\n",
       "      <td>Greenland</td>\n",
       "      <td>9.42</td>\n",
       "    </tr>\n",
       "    <tr>\n",
       "      <th>204</th>\n",
       "      <td>Botswana</td>\n",
       "      <td>9.38</td>\n",
       "    </tr>\n",
       "    <tr>\n",
       "      <th>138</th>\n",
       "      <td>Sint Maarten</td>\n",
       "      <td>9.05</td>\n",
       "    </tr>\n",
       "    <tr>\n",
       "      <th>107</th>\n",
       "      <td>Sri Lanka</td>\n",
       "      <td>9.02</td>\n",
       "    </tr>\n",
       "  </tbody>\n",
       "</table>\n",
       "</div>"
      ],
      "text/plain": [
       "                      country infant_mortality\n",
       "213  Central African Republic            92.86\n",
       "230             Guinea-Bissau            90.92\n",
       "214                      Chad             90.3\n",
       "174                 Argentina             9.96\n",
       "72                   Thailand             9.86\n",
       "64                    Bahrain             9.68\n",
       "131                 Greenland             9.42\n",
       "204                  Botswana             9.38\n",
       "138              Sint Maarten             9.05\n",
       "107                 Sri Lanka             9.02"
      ]
     },
     "execution_count": 55,
     "metadata": {},
     "output_type": "execute_result"
    }
   ],
   "source": [
    "Frame_Mort[0:10]\n",
    "#Oh darn, I have to invalidate this. It seems to be a generator, not a true dataframe.\n",
    "##Problem actually ended up being that some infant_mortality values were strings, and needed to convert all to floats."
   ]
  },
  {
   "cell_type": "code",
   "execution_count": 17,
   "metadata": {
    "collapsed": false
   },
   "outputs": [
    {
     "data": {
      "text/html": [
       "<div>\n",
       "<table border=\"1\" class=\"dataframe\">\n",
       "  <thead>\n",
       "    <tr style=\"text-align: right;\">\n",
       "      <th></th>\n",
       "      <th>country</th>\n",
       "      <th>infant_mortality</th>\n",
       "    </tr>\n",
       "  </thead>\n",
       "  <tbody>\n",
       "    <tr>\n",
       "      <th>213</th>\n",
       "      <td>Central African Republic</td>\n",
       "      <td>92.86</td>\n",
       "    </tr>\n",
       "    <tr>\n",
       "      <th>230</th>\n",
       "      <td>Guinea-Bissau</td>\n",
       "      <td>90.92</td>\n",
       "    </tr>\n",
       "    <tr>\n",
       "      <th>214</th>\n",
       "      <td>Chad</td>\n",
       "      <td>90.3</td>\n",
       "    </tr>\n",
       "    <tr>\n",
       "      <th>174</th>\n",
       "      <td>Argentina</td>\n",
       "      <td>9.96</td>\n",
       "    </tr>\n",
       "    <tr>\n",
       "      <th>72</th>\n",
       "      <td>Thailand</td>\n",
       "      <td>9.86</td>\n",
       "    </tr>\n",
       "    <tr>\n",
       "      <th>64</th>\n",
       "      <td>Bahrain</td>\n",
       "      <td>9.68</td>\n",
       "    </tr>\n",
       "    <tr>\n",
       "      <th>131</th>\n",
       "      <td>Greenland</td>\n",
       "      <td>9.42</td>\n",
       "    </tr>\n",
       "    <tr>\n",
       "      <th>204</th>\n",
       "      <td>Botswana</td>\n",
       "      <td>9.38</td>\n",
       "    </tr>\n",
       "    <tr>\n",
       "      <th>138</th>\n",
       "      <td>Sint Maarten</td>\n",
       "      <td>9.05</td>\n",
       "    </tr>\n",
       "    <tr>\n",
       "      <th>107</th>\n",
       "      <td>Sri Lanka</td>\n",
       "      <td>9.02</td>\n",
       "    </tr>\n",
       "    <tr>\n",
       "      <th>192</th>\n",
       "      <td>Niger</td>\n",
       "      <td>86.27</td>\n",
       "    </tr>\n",
       "  </tbody>\n",
       "</table>\n",
       "</div>"
      ],
      "text/plain": [
       "                      country infant_mortality\n",
       "213  Central African Republic            92.86\n",
       "230             Guinea-Bissau            90.92\n",
       "214                      Chad             90.3\n",
       "174                 Argentina             9.96\n",
       "72                   Thailand             9.86\n",
       "64                    Bahrain             9.68\n",
       "131                 Greenland             9.42\n",
       "204                  Botswana             9.38\n",
       "138              Sint Maarten             9.05\n",
       "107                 Sri Lanka             9.02\n",
       "192                     Niger            86.27"
      ]
     },
     "execution_count": 17,
     "metadata": {},
     "output_type": "execute_result"
    }
   ],
   "source": [
    "Frame_Mort[0:11]"
   ]
  },
  {
   "cell_type": "code",
   "execution_count": 19,
   "metadata": {
    "collapsed": false
   },
   "outputs": [
    {
     "data": {
      "text/plain": [
       "dtype('O')"
      ]
     },
     "execution_count": 19,
     "metadata": {},
     "output_type": "execute_result"
    }
   ],
   "source": [
    "dtype(Frame_Mort[\"infant_mortality\"])"
   ]
  },
  {
   "cell_type": "code",
   "execution_count": 14,
   "metadata": {
    "collapsed": false
   },
   "outputs": [
    {
     "data": {
      "text/plain": [
       "pandas.core.frame.DataFrame"
      ]
     },
     "execution_count": 14,
     "metadata": {},
     "output_type": "execute_result"
    }
   ],
   "source": [
    "type(Frame_Mort)"
   ]
  },
  {
   "cell_type": "code",
   "execution_count": 6,
   "metadata": {
    "collapsed": false
   },
   "outputs": [
    {
     "data": {
      "text/plain": [
       "244"
      ]
     },
     "execution_count": 6,
     "metadata": {},
     "output_type": "execute_result"
    }
   ],
   "source": [
    "len(Frame_Mort)\n",
    "#Frame_Mort['infant_mortality'][0:10]"
   ]
  },
  {
   "cell_type": "code",
   "execution_count": 15,
   "metadata": {
    "collapsed": false
   },
   "outputs": [
    {
     "data": {
      "text/plain": [
       "244"
      ]
     },
     "execution_count": 15,
     "metadata": {},
     "output_type": "execute_result"
    }
   ],
   "source": [
    "len(country_names)"
   ]
  },
  {
   "cell_type": "code",
   "execution_count": 51,
   "metadata": {
    "collapsed": false
   },
   "outputs": [],
   "source": [
    "#For testing to fix problem when country_inf_mort was NoneType (gave error if .text was called)\n",
    "for element in document.iterfind('country'):\n",
    "    country_name = element.find('name')\n",
    "    print (country_name.text)\n",
    "    country_inf_mort = element.find('infant_mortality')\n",
    "    if country_inf_mort is not None:\n",
    "        print(country_inf_mort.text)\n",
    "    else:\n",
    "        print ( str(np.NaN) )\n"
   ]
  },
  {
   "cell_type": "markdown",
   "metadata": {},
   "source": [
    "## Quesiton 2\n",
    "\n",
    "*Top 10 cities with the largest population*"
   ]
  },
  {
   "cell_type": "code",
   "execution_count": 37,
   "metadata": {
    "collapsed": true
   },
   "outputs": [],
   "source": [
    "def safetext(writing):\n",
    "    #element.text, except with None->NaN\n",
    "    if writing is not None:\n",
    "        output = writing.text\n",
    "    else:\n",
    "        output = np.NaN\n",
    "    return output"
   ]
  },
  {
   "cell_type": "code",
   "execution_count": null,
   "metadata": {
    "collapsed": true
   },
   "outputs": [],
   "source": [
    "#Nestling illustration\n",
    "#Country (0 = \"name\")\n",
    "    #province (0 = \"name\")\n",
    "        #city (0 = \"name\")\n",
    "            #population: anywhere from no instance to multiple instances.\n",
    "            ##Probably resembles the format of country population, wherein year should also be retained."
   ]
  },
  {
   "cell_type": "code",
   "execution_count": null,
   "metadata": {
    "collapsed": true
   },
   "outputs": [],
   "source": [
    "country_names = []\n",
    "country_cities = []\n",
    "cities_pops = []\n",
    "\n",
    "for element in document.iterfind('country'):\n",
    "    country_name = element.find('name')\n",
    "    for element1 in :\n",
    "        'province'\n",
    "        for element2 in ___:\n",
    "            'city'\n",
    "            for element3 in ___:\n",
    "                'population'\n",
    "    country_inf_mort = element.find('infant_mortality')\n",
    "    country_names.append(country_name.text)\n",
    "\n",
    "    \n",
    "Frame_Mort= pd.DataFrame.from_items([('country', country_names), ('infant_mortality', country_morts)])"
   ]
  },
  {
   "cell_type": "markdown",
   "metadata": {},
   "source": [
    "## Quesiton 3\n",
    "\n",
    "*Top 10 ethnic groups with the largest overall populations (sum of most recent estimates from all countries)*"
   ]
  },
  {
   "cell_type": "markdown",
   "metadata": {},
   "source": [
    "## Quesiton 4\n",
    "\n",
    "*Name and country for:*\n",
    "\n",
    "* Longest River\n",
    "\n",
    "* Largest Lake\n",
    "\n",
    "* Airport at highest elevation\n",
    "\n",
    "\n"
   ]
  },
  {
   "cell_type": "markdown",
   "metadata": {},
   "source": [
    "## Exporing structure of the xml tree"
   ]
  },
  {
   "cell_type": "code",
   "execution_count": 56,
   "metadata": {
    "collapsed": false
   },
   "outputs": [
    {
     "name": "stdout",
     "output_type": "stream",
     "text": [
      "0 name\n",
      "1 localname\n",
      "2 population\n",
      "3 population\n",
      "4 population\n",
      "5 population\n",
      "6 population\n",
      "7 population\n",
      "8 population\n",
      "9 population\n",
      "10 population\n",
      "11 population\n",
      "12 population\n",
      "13 population\n",
      "14 population\n",
      "15 population\n",
      "16 population\n",
      "17 population_growth\n",
      "18 infant_mortality\n",
      "19 gdp_total\n",
      "20 gdp_agri\n",
      "21 gdp_ind\n",
      "22 gdp_serv\n",
      "23 inflation\n",
      "24 unemployment\n",
      "25 indep_date\n",
      "26 government\n",
      "27 encompassed\n",
      "28 ethnicgroup\n",
      "29 religion\n",
      "30 religion\n",
      "31 language\n",
      "32 border\n",
      "33 border\n",
      "34 border\n",
      "35 border\n",
      "36 province\n",
      "37 province\n",
      "38 province\n",
      "39 province\n",
      "40 province\n",
      "41 province\n",
      "42 province\n",
      "43 province\n",
      "44 province\n",
      "45 province\n",
      "46 province\n",
      "47 province\n",
      "48 province\n",
      "49 province\n"
     ]
    }
   ],
   "source": [
    "for i in range(50):\n",
    "    print (\"%i \" % i + doc_root[1][i].tag)\n",
    "    \n",
    "#Note from looking at actual data: there's a number and subelements \"year\" and \"population\" nestled under \n",
    "#what currently reads as \"population\" and is actually \"population measured\"\n",
    "#\"%i \" % i"
   ]
  },
  {
   "cell_type": "code",
   "execution_count": 58,
   "metadata": {
    "collapsed": false
   },
   "outputs": [
    {
     "name": "stdout",
     "output_type": "stream",
     "text": [
      "name\n",
      "localname\n",
      "area\n",
      "population\n",
      "population\n",
      "population\n",
      "population\n",
      "city\n",
      "city\n"
     ]
    },
    {
     "ename": "IndexError",
     "evalue": "child index out of range",
     "output_type": "error",
     "traceback": [
      "\u001b[0;31m---------------------------------------------------------------------------\u001b[0m",
      "\u001b[0;31mIndexError\u001b[0m                                Traceback (most recent call last)",
      "\u001b[0;32m<ipython-input-58-9445e8db658f>\u001b[0m in \u001b[0;36m<module>\u001b[0;34m()\u001b[0m\n\u001b[1;32m      1\u001b[0m \u001b[0;32mfor\u001b[0m \u001b[0mi\u001b[0m \u001b[0;32min\u001b[0m \u001b[0mrange\u001b[0m\u001b[0;34m(\u001b[0m\u001b[0;36m10\u001b[0m\u001b[0;34m)\u001b[0m\u001b[0;34m:\u001b[0m\u001b[0;34m\u001b[0m\u001b[0m\n\u001b[0;32m----> 2\u001b[0;31m     \u001b[0mprint\u001b[0m \u001b[0;34m(\u001b[0m \u001b[0mdoc_root\u001b[0m\u001b[0;34m[\u001b[0m\u001b[0;36m1\u001b[0m\u001b[0;34m]\u001b[0m\u001b[0;34m[\u001b[0m\u001b[0;36m36\u001b[0m\u001b[0;34m]\u001b[0m\u001b[0;34m[\u001b[0m\u001b[0mi\u001b[0m\u001b[0;34m]\u001b[0m\u001b[0;34m.\u001b[0m\u001b[0mtag\u001b[0m\u001b[0;34m)\u001b[0m\u001b[0;34m\u001b[0m\u001b[0m\n\u001b[0m",
      "\u001b[0;31mIndexError\u001b[0m: child index out of range"
     ]
    }
   ],
   "source": [
    "for i in range(10):\n",
    "    print ( doc_root[1][36][i].tag)"
   ]
  },
  {
   "cell_type": "code",
   "execution_count": 60,
   "metadata": {
    "collapsed": false
   },
   "outputs": [
    {
     "name": "stdout",
     "output_type": "stream",
     "text": [
      "name\n",
      "population\n",
      "population\n",
      "population\n",
      "population\n",
      "located_at\n"
     ]
    },
    {
     "ename": "IndexError",
     "evalue": "child index out of range",
     "output_type": "error",
     "traceback": [
      "\u001b[0;31m---------------------------------------------------------------------------\u001b[0m",
      "\u001b[0;31mIndexError\u001b[0m                                Traceback (most recent call last)",
      "\u001b[0;32m<ipython-input-60-cc3fd4acc02f>\u001b[0m in \u001b[0;36m<module>\u001b[0;34m()\u001b[0m\n\u001b[1;32m      1\u001b[0m \u001b[0;32mfor\u001b[0m \u001b[0mi\u001b[0m \u001b[0;32min\u001b[0m \u001b[0mrange\u001b[0m\u001b[0;34m(\u001b[0m\u001b[0;36m10\u001b[0m\u001b[0;34m)\u001b[0m\u001b[0;34m:\u001b[0m\u001b[0;34m\u001b[0m\u001b[0m\n\u001b[0;32m----> 2\u001b[0;31m     \u001b[0mprint\u001b[0m \u001b[0;34m(\u001b[0m \u001b[0mdoc_root\u001b[0m\u001b[0;34m[\u001b[0m\u001b[0;36m1\u001b[0m\u001b[0;34m]\u001b[0m\u001b[0;34m[\u001b[0m\u001b[0;36m36\u001b[0m\u001b[0;34m]\u001b[0m\u001b[0;34m[\u001b[0m\u001b[0;36m8\u001b[0m\u001b[0;34m]\u001b[0m\u001b[0;34m[\u001b[0m\u001b[0mi\u001b[0m\u001b[0;34m]\u001b[0m\u001b[0;34m.\u001b[0m\u001b[0mtag\u001b[0m\u001b[0;34m)\u001b[0m\u001b[0;34m\u001b[0m\u001b[0m\n\u001b[0m",
      "\u001b[0;31mIndexError\u001b[0m: child index out of range"
     ]
    }
   ],
   "source": [
    "for i in range(10):\n",
    "    print ( doc_root[1][36][8][i].tag)"
   ]
  },
  {
   "cell_type": "code",
   "execution_count": 65,
   "metadata": {
    "collapsed": false
   },
   "outputs": [
    {
     "name": "stdout",
     "output_type": "stream",
     "text": [
      "{'province': 'prov-Greece-2', 'country': 'GR', 'id': 'cty-Greece-9'}\n"
     ]
    }
   ],
   "source": [
    "print ( doc_root[1][36][8].attrib )"
   ]
  },
  {
   "cell_type": "code",
   "execution_count": null,
   "metadata": {
    "collapsed": true
   },
   "outputs": [],
   "source": []
  }
 ],
 "metadata": {
  "kernelspec": {
   "display_name": "Python 3",
   "language": "python",
   "name": "python3"
  }
 },
 "nbformat": 4,
 "nbformat_minor": 0
}
