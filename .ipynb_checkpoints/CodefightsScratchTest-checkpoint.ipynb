{
 "cells": [
  {
   "cell_type": "code",
   "execution_count": null,
   "metadata": {
    "collapsed": true
   },
   "outputs": [],
   "source": [
    "def smartAssigning(information):\n",
    "    scores = []\n",
    "    avail = \"none\"\n",
    "    long = len(information)\n",
    "    projectset= [None]*long\n",
    "    names = [None]*long ###This is still a good thing to know about, so remember if you can\n",
    "    for i in range(long):\n",
    "        name, status, projects, tasks = information[i]\n",
    "        names[i] = name\n",
    "        projectset[i] = projects\n",
    "        if status == 0:\n",
    "            scores.append(0)\n",
    "        else:\n",
    "            scores.append(tasks)\n",
    "    tracker  = 0\n",
    "    for index in range(len(scores)):\n",
    "        if scores[index] < scores[tracker]:\n",
    "            tracker = index\n",
    "        elif scores[index] == scores[tracker]:\n",
    "            if projectset[index] < projectset[tracker]:\n",
    "                tracker = index\n",
    "        final = tracker\n",
    "    return names[tracker];\n"
   ]
  },
  {
   "cell_type": "code",
   "execution_count": 4,
   "metadata": {
    "collapsed": false
   },
   "outputs": [
    {
     "data": {
      "text/plain": [
       "'Martin'"
      ]
     },
     "execution_count": 4,
     "metadata": {},
     "output_type": "execute_result"
    }
   ],
   "source": [
    "def smartAssigning(information):\n",
    "    long = len(information)\n",
    "    scores = []\n",
    "    projectset= []\n",
    "    names = []\n",
    "    Avail = [True]*long\n",
    "    for i in range(long):\n",
    "        name, status, projects, tasks = information[i]\n",
    "        names.append(name)\n",
    "        projectset.append(projects)\n",
    "        scores.append(tasks)\n",
    "        if status == 0:\n",
    "            Avail[i] = False\n",
    "    tracker = None\n",
    "    for index in range(long):\n",
    "        if Avail[index]:\n",
    "            if tracker == None:\n",
    "                tracker = index\n",
    "            elif scores[index] < scores[tracker]:\n",
    "                tracker = index\n",
    "            elif scores[index] == scores[tracker]:\n",
    "                if projectset[index]<projectset[tracker]:\n",
    "                    tracker = index\n",
    "    return names[tracker];\n",
    "\n",
    "smartAssigning( [[\"John\",\"1\",\"2\",\"6\"], \n",
    " [\"Martin\",\"1\",\"1\",\"5\"]] )"
   ]
  },
  {
   "cell_type": "code",
   "execution_count": 9,
   "metadata": {
    "collapsed": false
   },
   "outputs": [
    {
     "name": "stdout",
     "output_type": "stream",
     "text": [
      "[True, False]\n"
     ]
    },
    {
     "data": {
      "text/plain": [
       "'John'"
      ]
     },
     "execution_count": 9,
     "metadata": {},
     "output_type": "execute_result"
    }
   ],
   "source": [
    "\n",
    "\n",
    "def smartAssigning(information):\n",
    "    long = len(information)\n",
    "    scores = []\n",
    "    projectset = []\n",
    "    names = []\n",
    "    avail = [True]*long\n",
    "    for i in range(long):\n",
    "        name, status, projects, tasks = information[i]\n",
    "        names.append(name)\n",
    "        projectset.append(projects)\n",
    "        scores.append(tasks)\n",
    "        if status == \"0\":\n",
    "            avail[i] = False\n",
    "    tracker = None\n",
    "    print (avail)\n",
    "    for index in range(long):\n",
    "        if avail[index]:\n",
    "            if tracker == None:\n",
    "                tracker = index\n",
    "            elif scores[index] < scores[tracker]:\n",
    "                tracker = index\n",
    "            elif scores[index] == scores[tracker]:\n",
    "                if projectset[index] < projectset[tracker]:\n",
    "                    tracker = index\n",
    "    return names[tracker];\n",
    "smartAssigning( [[\"John\",\"1\",\"2\",\"6\"], \n",
    " [\"Martin\",\"0\",\"1\",\"5\"]] )"
   ]
  },
  {
   "cell_type": "code",
   "execution_count": 11,
   "metadata": {
    "collapsed": false
   },
   "outputs": [
    {
     "ename": "NameError",
     "evalue": "name 'datetime' is not defined",
     "output_type": "error",
     "traceback": [
      "\u001b[0;31m---------------------------------------------------------------------------\u001b[0m",
      "\u001b[0;31mNameError\u001b[0m                                 Traceback (most recent call last)",
      "\u001b[0;32m<ipython-input-11-1f62992fd861>\u001b[0m in \u001b[0;36m<module>\u001b[0;34m()\u001b[0m\n\u001b[0;32m----> 1\u001b[0;31m \u001b[0mdatetime\u001b[0m\u001b[0;34m(\u001b[0m\u001b[0;34m'01/01/2015'\u001b[0m\u001b[0;34m)\u001b[0m\u001b[0;34m\u001b[0m\u001b[0m\n\u001b[0m",
      "\u001b[0;31mNameError\u001b[0m: name 'datetime' is not defined"
     ]
    }
   ],
   "source": [
    "datetime('01/01/2015')"
   ]
  },
  {
   "cell_type": "code",
   "execution_count": 14,
   "metadata": {
    "collapsed": false
   },
   "outputs": [
    {
     "data": {
      "text/plain": [
       "True"
      ]
     },
     "execution_count": 14,
     "metadata": {},
     "output_type": "execute_result"
    }
   ],
   "source": [
    "def leapyear(year):\n",
    "    Verify = False\n",
    "    if (year%4) == 0:\n",
    "        Verify = True\n",
    "        if (year%100) == 0:\n",
    "            Verify = False\n",
    "        if (year%400) == 0:\n",
    "            Verify = True\n",
    "    return Verify\n",
    "\n",
    "leapyear(2404)"
   ]
  },
  {
   "cell_type": "code",
   "execution_count": 3,
   "metadata": {
    "collapsed": true
   },
   "outputs": [],
   "source": [
    "from datetime import datetime"
   ]
  },
  {
   "cell_type": "code",
   "execution_count": 4,
   "metadata": {
    "collapsed": false
   },
   "outputs": [
    {
     "data": {
      "text/plain": [
       "str"
      ]
     },
     "execution_count": 4,
     "metadata": {},
     "output_type": "execute_result"
    }
   ],
   "source": [
    "firstDate = '01/01/2015'\n",
    "type(firstDate)"
   ]
  },
  {
   "cell_type": "code",
   "execution_count": 7,
   "metadata": {
    "collapsed": false
   },
   "outputs": [
    {
     "ename": "TypeError",
     "evalue": "descriptor 'isocalendar' requires a 'datetime.date' object but received a 'str'",
     "output_type": "error",
     "traceback": [
      "\u001b[0;31m---------------------------------------------------------------------------\u001b[0m",
      "\u001b[0;31mTypeError\u001b[0m                                 Traceback (most recent call last)",
      "\u001b[0;32m<ipython-input-7-227f0c07388e>\u001b[0m in \u001b[0;36m<module>\u001b[0;34m()\u001b[0m\n\u001b[0;32m----> 1\u001b[0;31m \u001b[0mnewdate\u001b[0m \u001b[0;34m=\u001b[0m \u001b[0mdatetime\u001b[0m\u001b[0;34m.\u001b[0m\u001b[0misocalendar\u001b[0m\u001b[0;34m(\u001b[0m\u001b[0mfirstDate\u001b[0m\u001b[0;34m)\u001b[0m\u001b[0;34m\u001b[0m\u001b[0m\n\u001b[0m\u001b[1;32m      2\u001b[0m \u001b[0mtype\u001b[0m\u001b[0;34m(\u001b[0m\u001b[0mnewdate\u001b[0m\u001b[0;34m)\u001b[0m\u001b[0;34m\u001b[0m\u001b[0m\n",
      "\u001b[0;31mTypeError\u001b[0m: descriptor 'isocalendar' requires a 'datetime.date' object but received a 'str'"
     ]
    }
   ],
   "source": [
    "newdate = datetime.isocalendar(firstDate)\n",
    "type(newdate)"
   ]
  },
  {
   "cell_type": "code",
   "execution_count": 8,
   "metadata": {
    "collapsed": false
   },
   "outputs": [
    {
     "data": {
      "text/plain": [
       "datetime.datetime(2015, 1, 1, 0, 0)"
      ]
     },
     "execution_count": 8,
     "metadata": {},
     "output_type": "execute_result"
    }
   ],
   "source": [
    "datetime.strptime(firstDate, \"%m/%d/%Y\")"
   ]
  },
  {
   "cell_type": "code",
   "execution_count": 21,
   "metadata": {
    "collapsed": false
   },
   "outputs": [
    {
     "data": {
      "text/plain": [
       "datetime.date(2016, 7, 30)"
      ]
     },
     "execution_count": 21,
     "metadata": {},
     "output_type": "execute_result"
    }
   ],
   "source": [
    "dt.date.today()"
   ]
  },
  {
   "cell_type": "code",
   "execution_count": 25,
   "metadata": {
    "collapsed": false
   },
   "outputs": [],
   "source": [
    "?dt.datetime.strptime()"
   ]
  },
  {
   "cell_type": "code",
   "execution_count": 26,
   "metadata": {
    "collapsed": true
   },
   "outputs": [],
   "source": [
    "import time\n"
   ]
  },
  {
   "cell_type": "code",
   "execution_count": 34,
   "metadata": {
    "collapsed": true
   },
   "outputs": [],
   "source": [
    "?datetime.strptime()"
   ]
  },
  {
   "cell_type": "code",
   "execution_count": 35,
   "metadata": {
    "collapsed": true
   },
   "outputs": [],
   "source": [
    "?time.strptime()"
   ]
  },
  {
   "cell_type": "code",
   "execution_count": 44,
   "metadata": {
    "collapsed": false
   },
   "outputs": [
    {
     "ename": "ValueError",
     "evalue": "unconverted data remains: 15",
     "output_type": "error",
     "traceback": [
      "\u001b[0;31m---------------------------------------------------------------------------\u001b[0m",
      "\u001b[0;31mValueError\u001b[0m                                Traceback (most recent call last)",
      "\u001b[0;32m<ipython-input-44-aa75d1878295>\u001b[0m in \u001b[0;36m<module>\u001b[0;34m()\u001b[0m\n\u001b[1;32m      1\u001b[0m \u001b[0mfirstDate\u001b[0m \u001b[0;34m=\u001b[0m \u001b[0;34m\"01/01/2015\"\u001b[0m\u001b[0;34m\u001b[0m\u001b[0m\n\u001b[0;32m----> 2\u001b[0;31m \u001b[0mbloop\u001b[0m \u001b[0;34m=\u001b[0m \u001b[0mdatetime\u001b[0m\u001b[0;34m.\u001b[0m\u001b[0mstrptime\u001b[0m\u001b[0;34m(\u001b[0m\u001b[0mfirstDate\u001b[0m\u001b[0;34m,\u001b[0m \u001b[0;34m\"%x\"\u001b[0m\u001b[0;34m)\u001b[0m\u001b[0;34m\u001b[0m\u001b[0m\n\u001b[0m\u001b[1;32m      3\u001b[0m \u001b[0mprint\u001b[0m\u001b[0;34m(\u001b[0m\u001b[0mbloop\u001b[0m\u001b[0;34m)\u001b[0m\u001b[0;34m\u001b[0m\u001b[0m\n",
      "\u001b[0;32m/Users/Spirapple/anaconda/lib/python3.5/_strptime.py\u001b[0m in \u001b[0;36m_strptime_datetime\u001b[0;34m(cls, data_string, format)\u001b[0m\n\u001b[1;32m    498\u001b[0m     \"\"\"Return a class cls instance based on the input string and the\n\u001b[1;32m    499\u001b[0m     format string.\"\"\"\n\u001b[0;32m--> 500\u001b[0;31m     \u001b[0mtt\u001b[0m\u001b[0;34m,\u001b[0m \u001b[0mfraction\u001b[0m \u001b[0;34m=\u001b[0m \u001b[0m_strptime\u001b[0m\u001b[0;34m(\u001b[0m\u001b[0mdata_string\u001b[0m\u001b[0;34m,\u001b[0m \u001b[0mformat\u001b[0m\u001b[0;34m)\u001b[0m\u001b[0;34m\u001b[0m\u001b[0m\n\u001b[0m\u001b[1;32m    501\u001b[0m     \u001b[0mtzname\u001b[0m\u001b[0;34m,\u001b[0m \u001b[0mgmtoff\u001b[0m \u001b[0;34m=\u001b[0m \u001b[0mtt\u001b[0m\u001b[0;34m[\u001b[0m\u001b[0;34m-\u001b[0m\u001b[0;36m2\u001b[0m\u001b[0;34m:\u001b[0m\u001b[0;34m]\u001b[0m\u001b[0;34m\u001b[0m\u001b[0m\n\u001b[1;32m    502\u001b[0m     \u001b[0margs\u001b[0m \u001b[0;34m=\u001b[0m \u001b[0mtt\u001b[0m\u001b[0;34m[\u001b[0m\u001b[0;34m:\u001b[0m\u001b[0;36m6\u001b[0m\u001b[0;34m]\u001b[0m \u001b[0;34m+\u001b[0m \u001b[0;34m(\u001b[0m\u001b[0mfraction\u001b[0m\u001b[0;34m,\u001b[0m\u001b[0;34m)\u001b[0m\u001b[0;34m\u001b[0m\u001b[0m\n",
      "\u001b[0;32m/Users/Spirapple/anaconda/lib/python3.5/_strptime.py\u001b[0m in \u001b[0;36m_strptime\u001b[0;34m(data_string, format)\u001b[0m\n\u001b[1;32m    338\u001b[0m     \u001b[0;32mif\u001b[0m \u001b[0mlen\u001b[0m\u001b[0;34m(\u001b[0m\u001b[0mdata_string\u001b[0m\u001b[0;34m)\u001b[0m \u001b[0;34m!=\u001b[0m \u001b[0mfound\u001b[0m\u001b[0;34m.\u001b[0m\u001b[0mend\u001b[0m\u001b[0;34m(\u001b[0m\u001b[0;34m)\u001b[0m\u001b[0;34m:\u001b[0m\u001b[0;34m\u001b[0m\u001b[0m\n\u001b[1;32m    339\u001b[0m         raise ValueError(\"unconverted data remains: %s\" %\n\u001b[0;32m--> 340\u001b[0;31m                           data_string[found.end():])\n\u001b[0m\u001b[1;32m    341\u001b[0m \u001b[0;34m\u001b[0m\u001b[0m\n\u001b[1;32m    342\u001b[0m     \u001b[0myear\u001b[0m \u001b[0;34m=\u001b[0m \u001b[0;32mNone\u001b[0m\u001b[0;34m\u001b[0m\u001b[0m\n",
      "\u001b[0;31mValueError\u001b[0m: unconverted data remains: 15"
     ]
    }
   ],
   "source": [
    "firstDate = \"01/01/2015\"\n",
    "bloop = datetime.strptime(firstDate, \"%x\")\n",
    "print(bloop)"
   ]
  },
  {
   "cell_type": "code",
   "execution_count": 9,
   "metadata": {
    "collapsed": true
   },
   "outputs": [],
   "source": [
    "#import datetime\n",
    "from datetime import datetime, timedelta\n",
    "\n",
    "def leapyear(year):\n",
    "    Verify = False\n",
    "    if (year%4) == 0:\n",
    "        Verify = True\n",
    "        if (year%100) == 0:\n",
    "            Verify = False\n",
    "            if (year%400) == 0:\n",
    "                Verify = True\n",
    "    return Verify\n",
    "    \n",
    "\n",
    "def recurringTask(firstDate, k, daysOfTheWeek, n):\n",
    "    formatDT = datetime.strptime(firstDate, \"%d/%m/%Y\")\n",
    "    strtwkdy = datetime.strftime(formatDT, \"%w\")\n",
    "    dywk = []\n",
    "    for i in range(len(daysOfTheWeek)):\n",
    "        addon = datetime.strptime(daysOfTheWeek[i], \"%w\")\n",
    "        dywk.append(addon)\n",
    "    diff = dywk - strtwkdy\n",
    "    k*7\n",
    "    for x in range(n):\n",
    "    "
   ]
  },
  {
   "cell_type": "code",
   "execution_count": 18,
   "metadata": {
    "collapsed": false
   },
   "outputs": [
    {
     "name": "stdout",
     "output_type": "stream",
     "text": [
      "6\n",
      "<class 'str'>\n"
     ]
    }
   ],
   "source": [
    "from datetime import datetime, timedelta\n",
    "\n",
    "firstDate = \"09/01/2016\"\n",
    "formatDT = datetime.strptime(firstDate, \"%d/%m/%Y\")\n",
    "strtwkdy = datetime.strftime(formatDT, \"%w\")\n",
    "print(strtwkdy)\n",
    "print(type(strtwkdy))\n",
    "dywk = []\n",
    "prevSun = formatDT - timedelta(days=int(strtwkdy))"
   ]
  },
  {
   "cell_type": "code",
   "execution_count": 19,
   "metadata": {
    "collapsed": false
   },
   "outputs": [
    {
     "name": "stdout",
     "output_type": "stream",
     "text": [
      "2016-01-03 00:00:00\n"
     ]
    }
   ],
   "source": [
    "print(prevSun)"
   ]
  },
  {
   "cell_type": "code",
   "execution_count": null,
   "metadata": {
    "collapsed": true
   },
   "outputs": [],
   "source": [
    "        \n",
    "            doop = doop % 7\n",
    "            formatDT + timedelta()\n",
    "        deltas.append()\n",
    "#        doop + \n",
    "#        doop2 + \n",
    "#        7*k + doop\n",
    "#        7*k + doop2"
   ]
  },
  {
   "cell_type": "code",
   "execution_count": null,
   "metadata": {
    "collapsed": true
   },
   "outputs": [],
   "source": [
    "#import datetime\n",
    "from datetime import datetime, timedelta\n",
    "\n",
    "def leapyear(year):\n",
    "    Verify = False\n",
    "    if (year%4) == 0:\n",
    "        Verify = True\n",
    "        if (year%100) == 0:\n",
    "            Verify = False\n",
    "            if (year%400) == 0:\n",
    "                Verify = True\n",
    "    return Verify;\n",
    "    \n",
    "\n",
    "def recurringTask(firstDate, k, daysOfTheWeek, n):\n",
    "    formatDT = datetime.strptime(firstDate, \"%d/%m/%Y\")\n",
    "    strtwkdy = int(datetime.strftime(formatDT, \"%w\"))\n",
    "    dywk = []\n",
    "    prevSun = formatDT - strtwkdy\n",
    "    nn = int(n)\n",
    "    for i in range(len(daysOfTheWeek)):\n",
    "        addon = datetime.strptime(daysOfTheWeek[i], \"%w\")\n",
    "        dywk.append(int(addon))\n",
    "        \n",
    "#    nextSun = strtwkdy - timedelta(days=(7-strtwkdy))\n",
    "\n",
    "    strtwkdy + timedelta(int(k)*7)\n",
    "    deltas = [None]*nn\n",
    "    collector = []\n",
    "    weektrack = 0\n",
    "    for x in range(nn):\n",
    "        while len(collector) < nn:\n",
    "            for dw in dywk:\n",
    "                doop = strwkdy + dw\n",
    "                while doop>7:\n",
    "                    weektrack += 1\n",
    "                    doop = doop - 7\n",
    "                else:\n",
    "                    deltas.append(7*weektrack + doop)\n",
    "            weektrack += k\n",
    "            \n",
    "        collector.append(formatDT + timedelta(deltas[nn]))\n",
    "    return datelist;\n",
    "    \n"
   ]
  },
  {
   "cell_type": "code",
   "execution_count": 27,
   "metadata": {
    "collapsed": true
   },
   "outputs": [],
   "source": [
    "#import datetime\n",
    "from datetime import datetime, timedelta\n",
    "\n",
    "def leapyear(year):\n",
    "    Verify = False\n",
    "    if (year%4) == 0:\n",
    "        Verify = True\n",
    "        if (year%100) == 0:\n",
    "            Verify = False\n",
    "            if (year%400) == 0:\n",
    "                Verify = True\n",
    "    return Verify;\n",
    "    \n",
    "\n",
    "def recurringTask(firstDate, k, daysOfTheWeek, n):\n",
    "    formatDT = datetime.strptime(firstDate, \"%d/%m/%Y\")\n",
    "    strtwkdy = int(datetime.strftime(formatDT, \"%w\"))\n",
    "    dywk = []\n",
    "#    prevSun = formatDT - strtwkdy\n",
    "    nn = int(n)\n",
    "    for i in range(len(daysOfTheWeek)):\n",
    "        addon = datetime.strftime(daysOfTheWeek[i], \"%w\")\n",
    "        print (addon)\n",
    "        dywk.append(int(addon))\n",
    "        \n",
    "#    nextSun = strtwkdy - timedelta(days=(7-strtwkdy))\n",
    "\n",
    "    deltas = []\n",
    "    collector = []\n",
    "    weektrack = 0\n",
    "    for x in range(nn):\n",
    "        while len(collector) < nn:\n",
    "            for dw in dywk:\n",
    "                doop = strwkdy + dw\n",
    "                while doop>7:\n",
    "                    weektrack += 1\n",
    "                    doop = doop - 7\n",
    "                else:\n",
    "                    deltas.append(7*weektrack + doop)\n",
    "            for _ in range(len(deltas)):\n",
    "                newDate = formatDT + timedelta(deltas.pop())\n",
    "                output = datetime.strftime(newDate, \"%d/%m/%Y\")\n",
    "                collector.append(output)\n",
    "            weektrack += k\n",
    "    datelist = collector[0:nn]\n",
    "    return datelist;\n",
    "    \n"
   ]
  },
  {
   "cell_type": "code",
   "execution_count": 28,
   "metadata": {
    "collapsed": false
   },
   "outputs": [
    {
     "ename": "TypeError",
     "evalue": "descriptor 'strftime' requires a 'datetime.date' object but received a 'str'",
     "output_type": "error",
     "traceback": [
      "\u001b[0;31m---------------------------------------------------------------------------\u001b[0m",
      "\u001b[0;31mTypeError\u001b[0m                                 Traceback (most recent call last)",
      "\u001b[0;32m<ipython-input-28-48961cb17774>\u001b[0m in \u001b[0;36m<module>\u001b[0;34m()\u001b[0m\n\u001b[1;32m      4\u001b[0m \u001b[0mn\u001b[0m \u001b[0;34m=\u001b[0m \u001b[0;36m4\u001b[0m\u001b[0;34m\u001b[0m\u001b[0m\n\u001b[1;32m      5\u001b[0m \u001b[0;34m\u001b[0m\u001b[0m\n\u001b[0;32m----> 6\u001b[0;31m \u001b[0mrecurringTask\u001b[0m\u001b[0;34m(\u001b[0m\u001b[0mfirstDate\u001b[0m\u001b[0;34m,\u001b[0m \u001b[0mk\u001b[0m\u001b[0;34m,\u001b[0m \u001b[0mdaysOfTheWeek\u001b[0m\u001b[0;34m,\u001b[0m \u001b[0mn\u001b[0m\u001b[0;34m)\u001b[0m\u001b[0;34m\u001b[0m\u001b[0m\n\u001b[0m",
      "\u001b[0;32m<ipython-input-27-48788579cf93>\u001b[0m in \u001b[0;36mrecurringTask\u001b[0;34m(firstDate, k, daysOfTheWeek, n)\u001b[0m\n\u001b[1;32m     20\u001b[0m     \u001b[0mnn\u001b[0m \u001b[0;34m=\u001b[0m \u001b[0mint\u001b[0m\u001b[0;34m(\u001b[0m\u001b[0mn\u001b[0m\u001b[0;34m)\u001b[0m\u001b[0;34m\u001b[0m\u001b[0m\n\u001b[1;32m     21\u001b[0m     \u001b[0;32mfor\u001b[0m \u001b[0mi\u001b[0m \u001b[0;32min\u001b[0m \u001b[0mrange\u001b[0m\u001b[0;34m(\u001b[0m\u001b[0mlen\u001b[0m\u001b[0;34m(\u001b[0m\u001b[0mdaysOfTheWeek\u001b[0m\u001b[0;34m)\u001b[0m\u001b[0;34m)\u001b[0m\u001b[0;34m:\u001b[0m\u001b[0;34m\u001b[0m\u001b[0m\n\u001b[0;32m---> 22\u001b[0;31m         \u001b[0maddon\u001b[0m \u001b[0;34m=\u001b[0m \u001b[0mdatetime\u001b[0m\u001b[0;34m.\u001b[0m\u001b[0mstrftime\u001b[0m\u001b[0;34m(\u001b[0m\u001b[0mdaysOfTheWeek\u001b[0m\u001b[0;34m[\u001b[0m\u001b[0mi\u001b[0m\u001b[0;34m]\u001b[0m\u001b[0;34m,\u001b[0m \u001b[0;34m\"%w\"\u001b[0m\u001b[0;34m)\u001b[0m\u001b[0;34m\u001b[0m\u001b[0m\n\u001b[0m\u001b[1;32m     23\u001b[0m         \u001b[0mprint\u001b[0m \u001b[0;34m(\u001b[0m\u001b[0maddon\u001b[0m\u001b[0;34m)\u001b[0m\u001b[0;34m\u001b[0m\u001b[0m\n\u001b[1;32m     24\u001b[0m         \u001b[0mdywk\u001b[0m\u001b[0;34m.\u001b[0m\u001b[0mappend\u001b[0m\u001b[0;34m(\u001b[0m\u001b[0mint\u001b[0m\u001b[0;34m(\u001b[0m\u001b[0maddon\u001b[0m\u001b[0;34m)\u001b[0m\u001b[0;34m)\u001b[0m\u001b[0;34m\u001b[0m\u001b[0m\n",
      "\u001b[0;31mTypeError\u001b[0m: descriptor 'strftime' requires a 'datetime.date' object but received a 'str'"
     ]
    }
   ],
   "source": [
    "firstDate = \"01/01/2015\"\n",
    "k = 2\n",
    "daysOfTheWeek = [\"Monday\", \"Thursday\"]\n",
    "n = 4\n",
    "\n",
    "recurringTask(firstDate, k, daysOfTheWeek, n)"
   ]
  },
  {
   "cell_type": "code",
   "execution_count": null,
   "metadata": {
    "collapsed": true
   },
   "outputs": [],
   "source": [
    "#import datetime\n",
    "from datetime import datetime, timedelta\n",
    "\n",
    "def leapyear(year):\n",
    "    Verify = False\n",
    "    if (year%4) == 0:\n",
    "        Verify = True\n",
    "        if (year%100) == 0:\n",
    "            Verify = False\n",
    "            if (year%400) == 0:\n",
    "                Verify = True\n",
    "    return Verify;\n",
    "    \n",
    "\n",
    "def recurringTask(firstDate, k, daysOfTheWeek, n):\n",
    "    formatDT = datetime.strptime(firstDate, \"%d/%m/%Y\")\n",
    "    strtwkdy = int(datetime.strftime(formatDT, \"%w\"))\n",
    "    dywk = []\n",
    "#    prevSun = formatDT - strtwkdy\n",
    "    nn = int(n)\n",
    "    for i in range(len(daysOfTheWeek)):\n",
    "        addon = datetime.strftime(daysOfTheWeek[i], \"%w\")\n",
    "        dywk.append(int(addon))\n",
    "        \n",
    "#    nextSun = strtwkdy - timedelta(days=(7-strtwkdy))\n",
    "\n",
    "    deltas = []\n",
    "    collector = []\n",
    "    weektrack = 0\n",
    "    for x in range(nn):\n",
    "        while len(collector) < nn:\n",
    "            for dw in dywk:\n",
    "                doop = strwkdy + dw\n",
    "                while doop>7:\n",
    "                    weektrack += 1\n",
    "                    doop = doop - 7\n",
    "                else:\n",
    "                    deltas.append(7*weektrack + doop)\n",
    "            for _ in range(len(deltas)):\n",
    "                newDate = formatDT + timedelta(deltas.pop())\n",
    "                output = datetime.strftime(newDate, \"%d/%m/%Y\")\n",
    "                collector.append(output)\n",
    "            weektrack += k\n",
    "    datelist = collector[0:nn]\n",
    "    return datelist;\n",
    "    \n"
   ]
  }
 ],
 "metadata": {
  "kernelspec": {
   "display_name": "Python 3",
   "language": "python",
   "name": "python3"
  },
  "language_info": {
   "codemirror_mode": {
    "name": "ipython",
    "version": 3
   },
   "file_extension": ".py",
   "mimetype": "text/x-python",
   "name": "python",
   "nbconvert_exporter": "python",
   "pygments_lexer": "ipython3",
   "version": "3.5.1"
  }
 },
 "nbformat": 4,
 "nbformat_minor": 0
}
