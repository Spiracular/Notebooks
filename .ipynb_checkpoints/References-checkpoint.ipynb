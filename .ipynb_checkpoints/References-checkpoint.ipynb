{
 "cells": [
  {
   "cell_type": "markdown",
   "metadata": {},
   "source": [
    "## The basics\n",
    "\n",
    "[Python help functions reference](http://www.linuxnix.com/python-builtin-helpdir-help-type-and-___doc_-functions/)\n",
    "\n",
    "[Guide to Python Introspection](http://www.ibm.com/developerworks/library/l-pyint/index.html) (love the term)\n",
    "\n",
    "[A quick review of Markdown](https://guides.github.com/features/mastering-markdown/)\n",
    "\n",
    "[Working with Missing Data](http://pandas.pydata.org/pandas-docs/stable/missing_data.html)\n",
    "\n",
    "[A command-line cheat-sheet](https://www.git-tower.com/blog/command-line-cheat-sheet/)\n",
    "\n",
    "[Github cheatsheet](https://services.github.com/kit/downloads/github-git-cheat-sheet.pdf) (see also: \"the usual\" in appendix)"
   ]
  },
  {
   "cell_type": "markdown",
   "metadata": {},
   "source": [
    "## Distributions\n",
    "\n",
    "[Scipy.stats distributions list](http://docs.scipy.org/doc/scipy/reference/stats.html)\n",
    "\n"
   ]
  },
  {
   "cell_type": "markdown",
   "metadata": {},
   "source": [
    "## Graphing\n",
    "\n",
    "[MatPlotLib basic graphs](http://jakevdp.github.io/mpl_tutorial/tutorial_pages/tut3.html)\n",
    "\n",
    "[Seaborn tutorial](https://github.com/alfredessa/pdacookbook/blob/master/PythonPandasCookbook5.2.ipynb) (bit out-of-date, see docs for new arg layout)\n",
    "\n",
    "See also: **GraphReference**"
   ]
  },
  {
   "cell_type": "markdown",
   "metadata": {},
   "source": [
    "## Examples and Inspiration\n",
    "\n",
    "[Jupyter notebooks on nbviewer & beyond](https://nbviewer.jupyter.org/)\n",
    "\n"
   ]
  },
  {
   "cell_type": "markdown",
   "metadata": {},
   "source": [
    "# Appendix\n",
    "\n",
    "## Git Sequence (\"The Usual\")\n",
    "\n",
    "status, diff, add, commit -m, push origin master\n",
    "\n",
    "## Common Git Problem Solving\n",
    "\n",
    "### Defining origin or master\n",
    "\n",
    "git remote -v (checks what you already have set)\n",
    "\n",
    "git remote set-url origin https://github.com/SOMETHING.git\n",
    "\n",
    "### Reverting a file\n",
    "\n",
    "see: http://stackoverflow.com/questions/215718/reset-or-revert-a-specific-file-to-a-specific-revision-using-git"
   ]
  },
  {
   "cell_type": "markdown",
   "metadata": {
    "collapsed": true
   },
   "source": [
    "## Other\n",
    "\n",
    "[Some Jupyter Flowchart](http://jupyter.readthedocs.io/en/latest/projects/content-projects.html#content-projects)"
   ]
  },
  {
   "cell_type": "code",
   "execution_count": null,
   "metadata": {
    "collapsed": true
   },
   "outputs": [],
   "source": []
  }
 ],
 "metadata": {
  "kernelspec": {
   "display_name": "Python 3",
   "language": "python",
   "name": "python3"
  },
  "language_info": {
   "codemirror_mode": {
    "name": "ipython",
    "version": 3
   },
   "file_extension": ".py",
   "mimetype": "text/x-python",
   "name": "python",
   "nbconvert_exporter": "python",
   "pygments_lexer": "ipython3",
   "version": "3.5.1"
  }
 },
 "nbformat": 4,
 "nbformat_minor": 0
}
