{
 "cells": [
  {
   "cell_type": "code",
   "execution_count": 1,
   "metadata": {
    "collapsed": false
   },
   "outputs": [
    {
     "name": "stdout",
     "output_type": "stream",
     "text": [
      "Populating the interactive namespace from numpy and matplotlib\n"
     ]
    }
   ],
   "source": [
    "% pylab inline\n",
    "import numpy as np\n",
    "import pandas as pd\n",
    "import matplotlib.pyplot as plt\n"
   ]
  },
  {
   "cell_type": "markdown",
   "metadata": {},
   "source": [
    "Description of Project:\n",
    "\n",
    "I intend to generate a csv that carries most of my proposed fun tasks, and pull from it (after shuffling) or add to it regularly. There should be 2 different CSVs: one for the recents/'do this first' stack, and another for all the archived fun tasks. I'll add recents to the archived set regularly.\n",
    "\n",
    "But first, I need to initiate the files with a few pandas values that I'll write in below.\n"
   ]
  },
  {
   "cell_type": "code",
   "execution_count": null,
   "metadata": {
    "collapsed": true
   },
   "outputs": [],
   "source": [
    "#DO NOT RUN THIS AFTER IT HAS BEEN INITIALIZED (comment it out)\n",
    "\n",
    "= {\"Column\":[\"Possible\",\"disliked\",\"values\"]}\n",
    "\n",
    "Archived = pd.data_frame()\n"
   ]
  }
 ],
 "metadata": {
  "kernelspec": {
   "display_name": "Python 3",
   "language": "python",
   "name": "python3"
  },
  "language_info": {
   "codemirror_mode": {
    "name": "ipython",
    "version": 3
   },
   "file_extension": ".py",
   "mimetype": "text/x-python",
   "name": "python",
   "nbconvert_exporter": "python",
   "pygments_lexer": "ipython3",
   "version": "3.5.1"
  }
 },
 "nbformat": 4,
 "nbformat_minor": 0
}
