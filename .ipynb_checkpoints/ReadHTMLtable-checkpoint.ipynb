{
 "cells": [
  {
   "cell_type": "markdown",
   "metadata": {},
   "source": [
    "Attempt at uploading http://www.guidetoonlineschools.com/online-schools table so I can reorder it.\n",
    "\n",
    "urllib is the HTTP call you want to use, and it turns out that pandas can already parse HTML tables. Joy!\n",
    "\n",
    "(Spits out a list of DataFrames.)"
   ]
  },
  {
   "cell_type": "code",
   "execution_count": 1,
   "metadata": {
    "collapsed": false
   },
   "outputs": [],
   "source": [
    "import urllib.request\n",
    "import pandas as pd\n",
    "#import bs4 #BeautifulSoup 4\n",
    "import html5lib\n"
   ]
  },
  {
   "cell_type": "code",
   "execution_count": 11,
   "metadata": {
    "collapsed": false
   },
   "outputs": [
    {
     "name": "stdout",
     "output_type": "stream",
     "text": [
      "<class 'http.client.HTTPResponse'>\n"
     ]
    }
   ],
   "source": [
    "\n",
    "HTMLdoc = urllib.request.urlopen('http://www.guidetoonlineschools.com/online-schools')\n",
    "print (type(HTMLdoc))\n"
   ]
  },
  {
   "cell_type": "code",
   "execution_count": 12,
   "metadata": {
    "collapsed": false
   },
   "outputs": [],
   "source": [
    "TableFrame = pd.read_html(HTMLdoc.read())"
   ]
  },
  {
   "cell_type": "code",
   "execution_count": 19,
   "metadata": {
    "collapsed": false
   },
   "outputs": [
    {
     "data": {
      "text/html": [
       "<div>\n",
       "<table border=\"1\" class=\"dataframe\">\n",
       "  <thead>\n",
       "    <tr style=\"text-align: right;\">\n",
       "      <th></th>\n",
       "      <th>0</th>\n",
       "      <th>1</th>\n",
       "      <th>2</th>\n",
       "      <th>3</th>\n",
       "    </tr>\n",
       "  </thead>\n",
       "  <tbody>\n",
       "    <tr>\n",
       "      <th>0</th>\n",
       "      <td>NaN</td>\n",
       "      <td>Compare Selected (0)A</td>\n",
       "      <td>Annual Tuition</td>\n",
       "      <td>Recommend Rate</td>\n",
       "    </tr>\n",
       "    <tr>\n",
       "      <th>1</th>\n",
       "      <td>NaN</td>\n",
       "      <td>Abilene Christian University</td>\n",
       "      <td>Annual Tuition $28,350</td>\n",
       "      <td>Recommend Rate 100% (5 reviews)</td>\n",
       "    </tr>\n",
       "    <tr>\n",
       "      <th>2</th>\n",
       "      <td>NaN</td>\n",
       "      <td>Abraham Lincoln University</td>\n",
       "      <td>Annual Tuition $7,500</td>\n",
       "      <td>Recommend Rate 100% (1 review)</td>\n",
       "    </tr>\n",
       "    <tr>\n",
       "      <th>3</th>\n",
       "      <td>NaN</td>\n",
       "      <td>Academy of Art University</td>\n",
       "      <td>Annual Tuition $19,130</td>\n",
       "      <td>Recommend Rate 22% (27 reviews)</td>\n",
       "    </tr>\n",
       "    <tr>\n",
       "      <th>4</th>\n",
       "      <td>NaN</td>\n",
       "      <td>Adams State University</td>\n",
       "      <td>Annual Tuition $18,081</td>\n",
       "      <td>Recommend Rate 100% (1 review)</td>\n",
       "    </tr>\n",
       "  </tbody>\n",
       "</table>\n",
       "</div>"
      ],
      "text/plain": [
       "    0                             1                       2  \\\n",
       "0 NaN         Compare Selected (0)A          Annual Tuition   \n",
       "1 NaN  Abilene Christian University  Annual Tuition $28,350   \n",
       "2 NaN    Abraham Lincoln University   Annual Tuition $7,500   \n",
       "3 NaN     Academy of Art University  Annual Tuition $19,130   \n",
       "4 NaN        Adams State University  Annual Tuition $18,081   \n",
       "\n",
       "                                 3  \n",
       "0                   Recommend Rate  \n",
       "1  Recommend Rate 100% (5 reviews)  \n",
       "2   Recommend Rate 100% (1 review)  \n",
       "3  Recommend Rate 22% (27 reviews)  \n",
       "4   Recommend Rate 100% (1 review)  "
      ]
     },
     "execution_count": 19,
     "metadata": {},
     "output_type": "execute_result"
    }
   ],
   "source": [
    "TableFrame[0].head()"
   ]
  },
  {
   "cell_type": "code",
   "execution_count": null,
   "metadata": {
    "collapsed": true
   },
   "outputs": [],
   "source": [
    "dataframe.merge(TableFrame)"
   ]
  }
 ],
 "metadata": {
  "kernelspec": {
   "display_name": "Python 3",
   "language": "python",
   "name": "python3"
  },
  "language_info": {
   "codemirror_mode": {
    "name": "ipython",
    "version": 3
   },
   "file_extension": ".py",
   "mimetype": "text/x-python",
   "name": "python",
   "nbconvert_exporter": "python",
   "pygments_lexer": "ipython3",
   "version": "3.5.1"
  }
 },
 "nbformat": 4,
 "nbformat_minor": 0
}
