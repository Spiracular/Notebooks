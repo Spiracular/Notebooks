{
 "cells": [
  {
   "cell_type": "code",
   "execution_count": 1,
   "metadata": {
    "collapsed": false
   },
   "outputs": [
    {
     "data": {
      "text/html": [
       "<ol class=list-inline>\n",
       "\t<li>'CrossVal.py'</li>\n",
       "\t<li>'Data'</li>\n",
       "\t<li>'DataSciStormPractice.ipynb'</li>\n",
       "\t<li>'EnumerationNotes.ipynb'</li>\n",
       "\t<li>'iPyPlotNotes.ipynb'</li>\n",
       "\t<li>'logloss.py'</li>\n",
       "\t<li>'logloss.pyc'</li>\n",
       "\t<li>'matplot_demos'</li>\n",
       "\t<li>'NBA2013.ipynb'</li>\n",
       "\t<li>'NYCDeadPieChart.ipynb'</li>\n",
       "\t<li>'Pandaspd.ipynb'</li>\n",
       "\t<li>'Python_for_Data_Analysis.pdf'</li>\n",
       "\t<li>'RandFor.py'</li>\n",
       "\t<li>'Scraps.ipynb'</li>\n",
       "\t<li>'Titanic.ipynb'</li>\n",
       "\t<li>'Top10DeadNYC.ipynb'</li>\n",
       "\t<li>'Untitled.ipynb'</li>\n",
       "</ol>\n"
      ],
      "text/latex": [
       "\\begin{enumerate*}\n",
       "\\item 'CrossVal.py'\n",
       "\\item 'Data'\n",
       "\\item 'DataSciStormPractice.ipynb'\n",
       "\\item 'EnumerationNotes.ipynb'\n",
       "\\item 'iPyPlotNotes.ipynb'\n",
       "\\item 'logloss.py'\n",
       "\\item 'logloss.pyc'\n",
       "\\item 'matplot_demos'\n",
       "\\item 'NBA2013.ipynb'\n",
       "\\item 'NYCDeadPieChart.ipynb'\n",
       "\\item 'Pandaspd.ipynb'\n",
       "\\item 'Python_for_Data_Analysis.pdf'\n",
       "\\item 'RandFor.py'\n",
       "\\item 'Scraps.ipynb'\n",
       "\\item 'Titanic.ipynb'\n",
       "\\item 'Top10DeadNYC.ipynb'\n",
       "\\item 'Untitled.ipynb'\n",
       "\\end{enumerate*}\n"
      ],
      "text/markdown": [
       "1. 'CrossVal.py'\n",
       "2. 'Data'\n",
       "3. 'DataSciStormPractice.ipynb'\n",
       "4. 'EnumerationNotes.ipynb'\n",
       "5. 'iPyPlotNotes.ipynb'\n",
       "6. 'logloss.py'\n",
       "7. 'logloss.pyc'\n",
       "8. 'matplot_demos'\n",
       "9. 'NBA2013.ipynb'\n",
       "10. 'NYCDeadPieChart.ipynb'\n",
       "11. 'Pandaspd.ipynb'\n",
       "12. 'Python_for_Data_Analysis.pdf'\n",
       "13. 'RandFor.py'\n",
       "14. 'Scraps.ipynb'\n",
       "15. 'Titanic.ipynb'\n",
       "16. 'Top10DeadNYC.ipynb'\n",
       "17. 'Untitled.ipynb'\n",
       "\n",
       "\n"
      ],
      "text/plain": [
       " [1] \"CrossVal.py\"                  \"Data\"                        \n",
       " [3] \"DataSciStormPractice.ipynb\"   \"EnumerationNotes.ipynb\"      \n",
       " [5] \"iPyPlotNotes.ipynb\"           \"logloss.py\"                  \n",
       " [7] \"logloss.pyc\"                  \"matplot_demos\"               \n",
       " [9] \"NBA2013.ipynb\"                \"NYCDeadPieChart.ipynb\"       \n",
       "[11] \"Pandaspd.ipynb\"               \"Python_for_Data_Analysis.pdf\"\n",
       "[13] \"RandFor.py\"                   \"Scraps.ipynb\"                \n",
       "[15] \"Titanic.ipynb\"                \"Top10DeadNYC.ipynb\"          \n",
       "[17] \"Untitled.ipynb\"              "
      ]
     },
     "execution_count": 1,
     "metadata": {},
     "output_type": "execute_result"
    }
   ],
   "source": [
    "list.files()\n",
    "#source(\"file_name.R\")\n",
    "#c=combine, creates vectors like c(1,2,3)"
   ]
  },
  {
   "cell_type": "code",
   "execution_count": null,
   "metadata": {
    "collapsed": true
   },
   "outputs": [],
   "source": [
    "# NOTES:(comment notebook with cmd-/)\n",
    "# array indices start at 1 for R\n",
    "# NOT inplace by default\n",
    "# functions are applied to vectors elementwise, including ==\n",
    "# Test project: how do I most quickly make a diagonal matrix in R?\n",
    "# matrix(items, rows, columns) fills in column-wise\n",
    "# abline() makes a line in the graph\n",
    "# contour(matrix), persp(matrix, expand=0.2)\n",
    "# image(matrix) makes a heat map\n",
    "# legend(\"topright\", levels(types), pch = 1:length(levels(types)))\n",
    "# data.frame()\n",
    "# treasure$prices == treasure[[\"prices\"]], double-bracks gives a series instead of a table \n",
    "#     with 1 to r labels\n",
    "# read.csv(\"\"), read.table(\"\", sep='\\t', header = TRUE) if separators are tabs\n",
    "# cor.test(x,y)\n",
    "# LinearModel <- lm(ResponseVariable ~ Predictor Variable)\n",
    "# CRAN = Comprehensive R Archive Network\n",
    "# install.packages(\"ggplot2\")\n",
    "# library(ggplot2)\n",
    "# qplot(x, y, colors = G)\n",
    "# "
   ]
  },
  {
   "cell_type": "code",
   "execution_count": null,
   "metadata": {
    "collapsed": true
   },
   "outputs": [],
   "source": [
    "# git init\n",
    "# git remote add origin https://github.com/blahblahblah.git\n",
    "# git push -u origin master\n",
    "# git push thereafter to save your changes\n",
    "# git pull to receive changes\n",
    "# git add & git commit\n",
    "# git checkout -b new_branch\n",
    "# git checkout master\n",
    "# git merge new_branch\n",
    "# git branch -d new_branch\n",
    "# (to delete unmerged, -d-f or -D)\n",
    "# "
   ]
  }
 ],
 "metadata": {
  "kernelspec": {
   "display_name": "R",
   "language": "R",
   "name": "ir"
  },
  "language_info": {
   "codemirror_mode": "r",
   "file_extension": ".r",
   "mimetype": "text/x-r-source",
   "name": "R",
   "pygments_lexer": "r",
   "version": "3.2.1"
  }
 },
 "nbformat": 4,
 "nbformat_minor": 0
}
