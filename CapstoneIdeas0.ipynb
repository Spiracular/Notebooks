{
 "cells": [
  {
   "cell_type": "markdown",
   "metadata": {},
   "source": [
    "Finalize one Capstone idea based on the feedback you got from mentor(s) and peers on your Section 1 submission, and also based on your newly acquired understanding of the tools and data wrangling. Submit a project proposal - a short (1-2 page) document that answers the following questions:\n",
    "\n",
    "What is the problem you want to solve\n",
    "\n",
    "Who is your client and why do they care about this problem? In other words, what will your client DO or DECIDE based on your analysis that they wouldn’t have otherwise?\n",
    "\n",
    "What data are you going to use for this? How will you acquire this data?\n",
    "\n",
    "In brief, outline your approach to solving this problem (knowing that this might change later).\n",
    "\n",
    "What are your deliverables? Typically, this would include code, along with a paper and/or a slide deck.\n",
    "\n",
    "The proposal will be part of a github repository for your project. All code and further documentation you write will be added to this repository.\n",
    "\n",
    "Once your mentor has approved your proposal, please share the github repository URL on the community and ask for feedback."
   ]
  },
  {
   "cell_type": "code",
   "execution_count": null,
   "metadata": {
    "collapsed": true
   },
   "outputs": [],
   "source": []
  }
 ],
 "metadata": {
  "kernelspec": {
   "display_name": "Python 3",
   "language": "python",
   "name": "python3"
  },
  "language_info": {
   "codemirror_mode": {
    "name": "ipython",
    "version": 3
   },
   "file_extension": ".py",
   "mimetype": "text/x-python",
   "name": "python",
   "nbconvert_exporter": "python",
   "pygments_lexer": "ipython3",
   "version": "3.5.1"
  }
 },
 "nbformat": 4,
 "nbformat_minor": 0
}
