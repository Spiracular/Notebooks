{
 "cells": [
  {
   "cell_type": "code",
   "execution_count": 1,
   "metadata": {
    "collapsed": false
   },
   "outputs": [
    {
     "name": "stdout",
     "output_type": "stream",
     "text": [
      "Populating the interactive namespace from numpy and matplotlib\n"
     ]
    }
   ],
   "source": [
    "%pylab inline\n",
    "\n",
    "import numpy as np\n",
    "import matplotlib.pyplot as plt\n",
    "import pandas as pd\n",
    "import chardet\n",
    "#chardet.detect(rawdata) to get encoding of data with special characters\n",
    "import scipy.stats\n",
    "#which has cool things like normal and lognormal distributions as continuous! .norm(mean,sigma) and lognorm()\n"
   ]
  },
  {
   "cell_type": "code",
   "execution_count": null,
   "metadata": {
    "collapsed": true
   },
   "outputs": [],
   "source": [
    "#adding nulls make int columns floats :P\n",
    "df.column = df.column.astype(int)\n",
    "#Identifier numbers need to keep 0s\n",
    "pd.read_csv(\"\", na_values = [\"N/A\",\"Unknown\"])\n",
    "df.dropna(axis=1)\n",
    "df.replace({\"Column\":[\"Possible\",\"disliked\",\"values\"]},{\"Column\":[\"Value\",\"Wanted\",\"Instead\"]})\n",
    "#Nan = np.NaN\n",
    "df = df[~df.UI.isin(dontcare.index)] #To remove some values you don't care about, in dontcare\n",
    "#Merging is hard, make sure the data types match and you have the right number of columns afterwards\n",
    "#How=inner vs. How=outer : what happens to non-matching rows. Inner removes that row, outer stick a NaN\n",
    "#fuzzywuzzy library's fuzz function gauges whether it expects 2 strings match\n",
    "#jellyfish does something similar?\n"
   ]
  },
  {
   "cell_type": "code",
   "execution_count": null,
   "metadata": {
    "collapsed": true
   },
   "outputs": [],
   "source": [
    "#Visualization tools:\n",
    "#ggplot(buggy in python), bokeh(interactive), seaborn(interesting stats plots),\n",
    "#matplotlib(old reliable), glue(Mali Akmanalp really likes this one)\n",
    "\n",
    "#Extracting from PDFs sucks! Tool called Tabula is a miracle, lets you select a table in PDF\n",
    "#and it will turn it into a CSV"
   ]
  },
  {
   "cell_type": "code",
   "execution_count": null,
   "metadata": {
    "collapsed": true
   },
   "outputs": [],
   "source": [
    "#I'll need to look up these repeatability tools\n",
    "#Build tools: Make, tup\n",
    "#Data pipelines: OKFN Bubbles, Storm, Spark, etc.\n",
    "#pandas has a chunksize variable for reading in data, if data is huge\n",
    "#Blaze: pandas-like interface for querying large datasets"
   ]
  },
  {
   "cell_type": "code",
   "execution_count": null,
   "metadata": {
    "collapsed": true
   },
   "outputs": [],
   "source": [
    "#https://www.youtube.com/watch?v=5Vjrqnk7Igs\n",
    "#Effect size as most important thing!\n",
    "#"
   ]
  }
 ],
 "metadata": {
  "kernelspec": {
   "display_name": "Python 3",
   "language": "python",
   "name": "python3"
  },
  "language_info": {
   "codemirror_mode": {
    "name": "ipython",
    "version": 3
   },
   "file_extension": ".py",
   "mimetype": "text/x-python",
   "name": "python",
   "nbconvert_exporter": "python",
   "pygments_lexer": "ipython3",
   "version": "3.5.1"
  }
 },
 "nbformat": 4,
 "nbformat_minor": 0
}
