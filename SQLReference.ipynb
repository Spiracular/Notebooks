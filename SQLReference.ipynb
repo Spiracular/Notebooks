{
 "cells": [
  {
   "cell_type": "markdown",
   "metadata": {},
   "source": [
    "Notes from working on problems in [Mode's Tutorial](https://community.modeanalytics.com/sql/tutorial/introduction-to-sql/)"
   ]
  },
  {
   "cell_type": "code",
   "execution_count": null,
   "metadata": {
    "collapsed": true
   },
   "outputs": [],
   "source": [
    "/*  WHERE*/\n",
    "/*  LIMIT 90*/\n",
    "/* Commenting in SQL*/\n",
    "/* SELECT (columns) AS (name), FROM (table)*/\n",
    "/* Tutorial: https://community.modeanalytics.com/sql/tutorial/sql-select-statement/ */\n",
    "/* Note to self: it prefers single-quotes for strings to WHERE, and it's picky\n",
    "about it. Meanwhile, double-quotes go around column names. */"
   ]
  },
  {
   "cell_type": "code",
   "execution_count": null,
   "metadata": {
    "collapsed": true
   },
   "outputs": [],
   "source": [
    "Select *,\n",
    "      south * 100 / total AS south_perc,\n",
    "      west * 100 / total AS west_perc,\n",
    "      midwest * 100 / total AS midwest_perc,\n",
    "      northeast * 100 / total AS northeast_perc\n",
    "FROM (\n",
    "  SELECT *,\n",
    "    south + west + midwest + northeast AS total,\n",
    "  FROM tutorial.us_housing_units\n",
    ");"
   ]
  },
  {
   "cell_type": "code",
   "execution_count": null,
   "metadata": {
    "collapsed": true
   },
   "outputs": [],
   "source": [
    "Select\n",
    "  ColumnA,\n",
    "  ColumnB,\n",
    "  calccolumn1,\n",
    "  calccolumn1 / ColumnC as calccolumn2\n",
    "From (\n",
    "  Select\n",
    "    ColumnA,\n",
    "    ColumnB,\n",
    "    ColumnC,\n",
    "    ColumnA + ColumnB As calccolumn1\n",
    "  from t42\n",
    ");"
   ]
  },
  {
   "cell_type": "code",
   "execution_count": null,
   "metadata": {
    "collapsed": true
   },
   "outputs": [],
   "source": [
    "SELECT *,\n",
    "      south + west + midwest + northeast AS total,\n",
    "      south * 100 / total AS south_perc,\n",
    "      west * 100 / total AS west_perc,\n",
    "      midwest * 100 / total AS midwest_perc,\n",
    "      northeast * 100 / total AS northeast_perc\n",
    "  FROM tutorial.us_housing_units\n",
    "  WHERE year > 2000"
   ]
  }
 ],
 "metadata": {
  "kernelspec": {
   "display_name": "Python 3",
   "language": "python",
   "name": "python3"
  },
  "language_info": {
   "codemirror_mode": {
    "name": "ipython",
    "version": 3
   },
   "file_extension": ".py",
   "mimetype": "text/x-python",
   "name": "python",
   "nbconvert_exporter": "python",
   "pygments_lexer": "ipython3",
   "version": "3.5.1"
  }
 },
 "nbformat": 4,
 "nbformat_minor": 0
}
