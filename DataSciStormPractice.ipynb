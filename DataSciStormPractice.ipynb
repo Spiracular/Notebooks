{
 "cells": [
  {
   "cell_type": "code",
   "execution_count": 4,
   "metadata": {
    "collapsed": false
   },
   "outputs": [
    {
     "name": "stdout",
     "output_type": "stream",
     "text": [
      "Populating the interactive namespace from numpy and matplotlib\n"
     ]
    }
   ],
   "source": [
    "%pylab inline\n",
    "\n",
    "import numpy as np\n",
    "import matplotlib as plt\n",
    "import pandas as pd\n",
    "import math"
   ]
  },
  {
   "cell_type": "code",
   "execution_count": 5,
   "metadata": {
    "collapsed": true
   },
   "outputs": [],
   "source": [
    "stormdet2014 = pd.DataFrame.from_csv(open('Data/StormEvents_details-ftp_v1.0_d2014_c20150701.csv',\n",
    "                                       'r'))\n",
    "stormdet2015 = pd.DataFrame.from_csv(open('Data/StormEvents_details-ftp_v1.0_d2015_c20150701.csv',\n",
    "                                       'r'))\n",
    "\n",
    "#Changes DAMAGE_CROPS from object datatype to float datatype\n",
    "#stormdet2014['DAMAGE_CROPS'] = stormdet2014['DAMAGE_CROPS'].map(lambda s: float(s[:-1])*1000, na_action='ignore')\n",
    "#stormdet2015['DAMAGE_CROPS'] = stormdet2015['DAMAGE_CROPS'].map(lambda s: float(s[:-1])*1000, na_action='ignore')\n",
    "\n",
    "\n"
   ]
  },
  {
   "cell_type": "code",
   "execution_count": 56,
   "metadata": {
    "collapsed": false
   },
   "outputs": [
    {
     "data": {
      "text/plain": [
       "array(['0.00K', nan, '8.00K', '75.00K', '3.00K', '5.00K', '0.50K', '2.00K',\n",
       "       '1.00K', '2.50K', '4.00K'], dtype=object)"
      ]
     },
     "execution_count": 56,
     "metadata": {},
     "output_type": "execute_result"
    }
   ],
   "source": [
    "stormdet2015['DAMAGE_CROPS'].unique()"
   ]
  },
  {
   "cell_type": "code",
   "execution_count": 102,
   "metadata": {
    "collapsed": false
   },
   "outputs": [
    {
     "data": {
      "text/plain": [
       "BEGIN_YEARMONTH\n",
       "201502    0.00K\n",
       "201502    0.00K\n",
       "201502    0.00K\n",
       "201502    0.00K\n",
       "201502    0.00K\n",
       "201502    0.00K\n",
       "Name: DAMAGE_CROPS, dtype: object"
      ]
     },
     "execution_count": 102,
     "metadata": {},
     "output_type": "execute_result"
    }
   ],
   "source": [
    "stormdet2015['DAMAGE_CROPS'].iloc[20:30]"
   ]
  },
  {
   "cell_type": "code",
   "execution_count": 5,
   "metadata": {
    "collapsed": true
   },
   "outputs": [],
   "source": [
    "def ObFl(ser):\n",
    "    \"Converts storm data numerical objects into floats by parsing K and M.\"\n",
    "    for x in ser:\n",
    "        if math.isnan(x):\n",
    "            break\n",
    "        elif x[-1] == 'K':\n",
    "            ser.at[x] = float(x[:-1])*1000\n",
    "        elif x[-1] == 'M':\n",
    "            ser.at[x] = float(x[:-1])*1000000\n",
    "        else:\n",
    "            ser.at[x] = float('NaN')\n",
    "#ser.at[x] = float('nan')\n",
    "    "
   ]
  },
  {
   "cell_type": "code",
   "execution_count": null,
   "metadata": {
    "collapsed": true
   },
   "outputs": [],
   "source": [
    "# ###DO NOT USE, OLD BAD IDEA###\n",
    "# def ObFl(ser):\n",
    "#     \"Converts storm data numerical objects into floats by parsing K and M.\"\n",
    "# #    UniqueIn = ser.unique\n",
    "    \n",
    "#     for (index, x) in ser.iteritems():\n",
    "#         if x[-1] == 'K':\n",
    "#             ser.at[index] = float(x[:-1])*1000\n",
    "#         elif x[-1] == 'M':\n",
    "#             ser.at[index] = float(x[:-1])*1000000\n",
    "#         else:\n",
    "#             ser.at[index] = float('NaN')\n",
    "        \n",
    "# #ser.at[x] = float('nan')\n",
    "# #if math.isnan(x):\n",
    "# #    break"
   ]
  },
  {
   "cell_type": "code",
   "execution_count": null,
   "metadata": {
    "collapsed": true
   },
   "outputs": [],
   "source": [
    "yams = pd.Series(['0.00K', '9.00K', '8.00M'])\n",
    "yams = ObFl(yams)\n",
    "print yams\n",
    "\n",
    "for (index, x) in yams.iteritems():\n",
    "    print x\n",
    "    print index\n",
    "    if x[-1] == 'K':\n",
    "        yams.at[index] = float(x[:-1])*1000\n",
    "        print yams[index]"
   ]
  },
  {
   "cell_type": "code",
   "execution_count": 6,
   "metadata": {
    "collapsed": false
   },
   "outputs": [
    {
     "ename": "TypeError",
     "evalue": "'float' object has no attribute '__getitem__'",
     "output_type": "error",
     "traceback": [
      "\u001b[0;31m---------------------------------------------------------------------------\u001b[0m",
      "\u001b[0;31mTypeError\u001b[0m                                 Traceback (most recent call last)",
      "\u001b[0;32m<ipython-input-6-34992cbcebc6>\u001b[0m in \u001b[0;36m<module>\u001b[0;34m()\u001b[0m\n\u001b[0;32m----> 1\u001b[0;31m \u001b[0mObFl\u001b[0m\u001b[0;34m(\u001b[0m\u001b[0mstormdet2015\u001b[0m\u001b[0;34m[\u001b[0m\u001b[0;34m'DAMAGE_CROPS'\u001b[0m\u001b[0;34m]\u001b[0m\u001b[0;34m)\u001b[0m\u001b[0;34m\u001b[0m\u001b[0m\n\u001b[0m",
      "\u001b[0;32m<ipython-input-5-44d6914f700e>\u001b[0m in \u001b[0;36mObFl\u001b[0;34m(ser)\u001b[0m\n\u001b[1;32m      4\u001b[0m         \u001b[0;32mif\u001b[0m \u001b[0mx\u001b[0m \u001b[0;34m==\u001b[0m \u001b[0mfloat\u001b[0m\u001b[0;34m(\u001b[0m\u001b[0;34m'nan'\u001b[0m\u001b[0;34m)\u001b[0m\u001b[0;34m:\u001b[0m\u001b[0;34m\u001b[0m\u001b[0m\n\u001b[1;32m      5\u001b[0m             \u001b[0mser\u001b[0m\u001b[0;34m.\u001b[0m\u001b[0mat\u001b[0m\u001b[0;34m[\u001b[0m\u001b[0mx\u001b[0m\u001b[0;34m]\u001b[0m \u001b[0;34m=\u001b[0m \u001b[0mfloat\u001b[0m\u001b[0;34m(\u001b[0m\u001b[0;34m'nan'\u001b[0m\u001b[0;34m)\u001b[0m\u001b[0;34m\u001b[0m\u001b[0m\n\u001b[0;32m----> 6\u001b[0;31m         \u001b[0;32melif\u001b[0m \u001b[0mx\u001b[0m\u001b[0;34m[\u001b[0m\u001b[0;34m-\u001b[0m\u001b[0;36m1\u001b[0m\u001b[0;34m]\u001b[0m \u001b[0;34m==\u001b[0m \u001b[0;34m'K'\u001b[0m\u001b[0;34m:\u001b[0m\u001b[0;34m\u001b[0m\u001b[0m\n\u001b[0m\u001b[1;32m      7\u001b[0m             \u001b[0mser\u001b[0m\u001b[0;34m.\u001b[0m\u001b[0mat\u001b[0m\u001b[0;34m[\u001b[0m\u001b[0mx\u001b[0m\u001b[0;34m]\u001b[0m \u001b[0;34m=\u001b[0m \u001b[0mfloat\u001b[0m\u001b[0;34m(\u001b[0m\u001b[0mx\u001b[0m\u001b[0;34m[\u001b[0m\u001b[0;34m:\u001b[0m\u001b[0;34m-\u001b[0m\u001b[0;36m1\u001b[0m\u001b[0;34m]\u001b[0m\u001b[0;34m)\u001b[0m\u001b[0;34m*\u001b[0m\u001b[0;36m1000\u001b[0m\u001b[0;34m\u001b[0m\u001b[0m\n\u001b[1;32m      8\u001b[0m         \u001b[0;32melif\u001b[0m \u001b[0mx\u001b[0m\u001b[0;34m[\u001b[0m\u001b[0;34m-\u001b[0m\u001b[0;36m1\u001b[0m\u001b[0;34m]\u001b[0m \u001b[0;34m==\u001b[0m \u001b[0;34m'M'\u001b[0m\u001b[0;34m:\u001b[0m\u001b[0;34m\u001b[0m\u001b[0m\n",
      "\u001b[0;31mTypeError\u001b[0m: 'float' object has no attribute '__getitem__'"
     ]
    }
   ],
   "source": [
    "ObFl(stormdet2015['DAMAGE_CROPS'])"
   ]
  },
  {
   "cell_type": "code",
   "execution_count": 86,
   "metadata": {
    "collapsed": true
   },
   "outputs": [],
   "source": [
    "def ObFl(ser):\n",
    "    \"Converts storm data numerical objects into floats by parsing K and M.\"\n",
    "    for x in ser:\n",
    "        print x\n",
    "\n",
    "    "
   ]
  },
  {
   "cell_type": "code",
   "execution_count": 85,
   "metadata": {
    "collapsed": false
   },
   "outputs": [
    {
     "data": {
      "text/plain": [
       "'0.00K'"
      ]
     },
     "execution_count": 85,
     "metadata": {},
     "output_type": "execute_result"
    }
   ],
   "source": [
    "stormdet2015['DAMAGE_CROPS'].iloc[5]"
   ]
  },
  {
   "cell_type": "code",
   "execution_count": 44,
   "metadata": {
    "collapsed": false
   },
   "outputs": [
    {
     "data": {
      "text/html": [
       "<div>\n",
       "<table border=\"1\" class=\"dataframe\">\n",
       "  <thead>\n",
       "    <tr style=\"text-align: right;\">\n",
       "      <th></th>\n",
       "      <th>BEGIN_DAY</th>\n",
       "      <th>BEGIN_TIME</th>\n",
       "      <th>END_YEARMONTH</th>\n",
       "      <th>END_DAY</th>\n",
       "      <th>END_TIME</th>\n",
       "      <th>EPISODE_ID</th>\n",
       "      <th>EVENT_ID</th>\n",
       "      <th>STATE</th>\n",
       "      <th>STATE_FIPS</th>\n",
       "      <th>YEAR</th>\n",
       "      <th>...</th>\n",
       "      <th>END_RANGE</th>\n",
       "      <th>END_AZIMUTH</th>\n",
       "      <th>END_LOCATION</th>\n",
       "      <th>BEGIN_LAT</th>\n",
       "      <th>BEGIN_LON</th>\n",
       "      <th>END_LAT</th>\n",
       "      <th>END_LON</th>\n",
       "      <th>EPISODE_NARRATIVE</th>\n",
       "      <th>EVENT_NARRATIVE</th>\n",
       "      <th>DATA_SOURCE</th>\n",
       "    </tr>\n",
       "    <tr>\n",
       "      <th>BEGIN_YEARMONTH</th>\n",
       "      <th></th>\n",
       "      <th></th>\n",
       "      <th></th>\n",
       "      <th></th>\n",
       "      <th></th>\n",
       "      <th></th>\n",
       "      <th></th>\n",
       "      <th></th>\n",
       "      <th></th>\n",
       "      <th></th>\n",
       "      <th></th>\n",
       "      <th></th>\n",
       "      <th></th>\n",
       "      <th></th>\n",
       "      <th></th>\n",
       "      <th></th>\n",
       "      <th></th>\n",
       "      <th></th>\n",
       "      <th></th>\n",
       "      <th></th>\n",
       "      <th></th>\n",
       "    </tr>\n",
       "  </thead>\n",
       "  <tbody>\n",
       "    <tr>\n",
       "      <th>201502</th>\n",
       "      <td>1</td>\n",
       "      <td>200</td>\n",
       "      <td>201502</td>\n",
       "      <td>1</td>\n",
       "      <td>2200</td>\n",
       "      <td>1417343</td>\n",
       "      <td>560121</td>\n",
       "      <td>ILLINOIS</td>\n",
       "      <td>17</td>\n",
       "      <td>2015</td>\n",
       "      <td>...</td>\n",
       "      <td>NaN</td>\n",
       "      <td>NaN</td>\n",
       "      <td>NaN</td>\n",
       "      <td>NaN</td>\n",
       "      <td>NaN</td>\n",
       "      <td>NaN</td>\n",
       "      <td>NaN</td>\n",
       "      <td>Low pressure tracked from eastern Colorado dur...</td>\n",
       "      <td>Weather observers across Cass County reported ...</td>\n",
       "      <td>NaN</td>\n",
       "    </tr>\n",
       "    <tr>\n",
       "      <th>201502</th>\n",
       "      <td>1</td>\n",
       "      <td>400</td>\n",
       "      <td>201502</td>\n",
       "      <td>2</td>\n",
       "      <td>0</td>\n",
       "      <td>1417343</td>\n",
       "      <td>560123</td>\n",
       "      <td>ILLINOIS</td>\n",
       "      <td>17</td>\n",
       "      <td>2015</td>\n",
       "      <td>...</td>\n",
       "      <td>NaN</td>\n",
       "      <td>NaN</td>\n",
       "      <td>NaN</td>\n",
       "      <td>NaN</td>\n",
       "      <td>NaN</td>\n",
       "      <td>NaN</td>\n",
       "      <td>NaN</td>\n",
       "      <td>Low pressure tracked from eastern Colorado dur...</td>\n",
       "      <td>Weather observers across DeWitt County reporte...</td>\n",
       "      <td>NaN</td>\n",
       "    </tr>\n",
       "    <tr>\n",
       "      <th>201502</th>\n",
       "      <td>1</td>\n",
       "      <td>500</td>\n",
       "      <td>201502</td>\n",
       "      <td>2</td>\n",
       "      <td>0</td>\n",
       "      <td>1417343</td>\n",
       "      <td>560122</td>\n",
       "      <td>ILLINOIS</td>\n",
       "      <td>17</td>\n",
       "      <td>2015</td>\n",
       "      <td>...</td>\n",
       "      <td>NaN</td>\n",
       "      <td>NaN</td>\n",
       "      <td>NaN</td>\n",
       "      <td>NaN</td>\n",
       "      <td>NaN</td>\n",
       "      <td>NaN</td>\n",
       "      <td>NaN</td>\n",
       "      <td>Low pressure tracked from eastern Colorado dur...</td>\n",
       "      <td>Weather observers across Champaign County repo...</td>\n",
       "      <td>NaN</td>\n",
       "    </tr>\n",
       "    <tr>\n",
       "      <th>201502</th>\n",
       "      <td>1</td>\n",
       "      <td>500</td>\n",
       "      <td>201502</td>\n",
       "      <td>2</td>\n",
       "      <td>0</td>\n",
       "      <td>1417343</td>\n",
       "      <td>560129</td>\n",
       "      <td>ILLINOIS</td>\n",
       "      <td>17</td>\n",
       "      <td>2015</td>\n",
       "      <td>...</td>\n",
       "      <td>NaN</td>\n",
       "      <td>NaN</td>\n",
       "      <td>NaN</td>\n",
       "      <td>NaN</td>\n",
       "      <td>NaN</td>\n",
       "      <td>NaN</td>\n",
       "      <td>NaN</td>\n",
       "      <td>Low pressure tracked from eastern Colorado dur...</td>\n",
       "      <td>Weather observers across Vermilion County repo...</td>\n",
       "      <td>NaN</td>\n",
       "    </tr>\n",
       "    <tr>\n",
       "      <th>201502</th>\n",
       "      <td>1</td>\n",
       "      <td>200</td>\n",
       "      <td>201502</td>\n",
       "      <td>1</td>\n",
       "      <td>2200</td>\n",
       "      <td>1417343</td>\n",
       "      <td>560111</td>\n",
       "      <td>ILLINOIS</td>\n",
       "      <td>17</td>\n",
       "      <td>2015</td>\n",
       "      <td>...</td>\n",
       "      <td>NaN</td>\n",
       "      <td>NaN</td>\n",
       "      <td>NaN</td>\n",
       "      <td>NaN</td>\n",
       "      <td>NaN</td>\n",
       "      <td>NaN</td>\n",
       "      <td>NaN</td>\n",
       "      <td>Low pressure tracked from eastern Colorado dur...</td>\n",
       "      <td>Weather observers across Fulton County reporte...</td>\n",
       "      <td>NaN</td>\n",
       "    </tr>\n",
       "  </tbody>\n",
       "</table>\n",
       "<p>5 rows × 50 columns</p>\n",
       "</div>"
      ],
      "text/plain": [
       "                 BEGIN_DAY  BEGIN_TIME  END_YEARMONTH  END_DAY  END_TIME  \\\n",
       "BEGIN_YEARMONTH                                                            \n",
       "201502                   1         200         201502        1      2200   \n",
       "201502                   1         400         201502        2         0   \n",
       "201502                   1         500         201502        2         0   \n",
       "201502                   1         500         201502        2         0   \n",
       "201502                   1         200         201502        1      2200   \n",
       "\n",
       "                 EPISODE_ID  EVENT_ID     STATE  STATE_FIPS  YEAR  \\\n",
       "BEGIN_YEARMONTH                                                     \n",
       "201502              1417343    560121  ILLINOIS          17  2015   \n",
       "201502              1417343    560123  ILLINOIS          17  2015   \n",
       "201502              1417343    560122  ILLINOIS          17  2015   \n",
       "201502              1417343    560129  ILLINOIS          17  2015   \n",
       "201502              1417343    560111  ILLINOIS          17  2015   \n",
       "\n",
       "                     ...      END_RANGE END_AZIMUTH END_LOCATION  BEGIN_LAT  \\\n",
       "BEGIN_YEARMONTH      ...                                                      \n",
       "201502               ...            NaN         NaN          NaN        NaN   \n",
       "201502               ...            NaN         NaN          NaN        NaN   \n",
       "201502               ...            NaN         NaN          NaN        NaN   \n",
       "201502               ...            NaN         NaN          NaN        NaN   \n",
       "201502               ...            NaN         NaN          NaN        NaN   \n",
       "\n",
       "                BEGIN_LON END_LAT END_LON  \\\n",
       "BEGIN_YEARMONTH                             \n",
       "201502                NaN     NaN     NaN   \n",
       "201502                NaN     NaN     NaN   \n",
       "201502                NaN     NaN     NaN   \n",
       "201502                NaN     NaN     NaN   \n",
       "201502                NaN     NaN     NaN   \n",
       "\n",
       "                                                 EPISODE_NARRATIVE  \\\n",
       "BEGIN_YEARMONTH                                                      \n",
       "201502           Low pressure tracked from eastern Colorado dur...   \n",
       "201502           Low pressure tracked from eastern Colorado dur...   \n",
       "201502           Low pressure tracked from eastern Colorado dur...   \n",
       "201502           Low pressure tracked from eastern Colorado dur...   \n",
       "201502           Low pressure tracked from eastern Colorado dur...   \n",
       "\n",
       "                                                   EVENT_NARRATIVE  \\\n",
       "BEGIN_YEARMONTH                                                      \n",
       "201502           Weather observers across Cass County reported ...   \n",
       "201502           Weather observers across DeWitt County reporte...   \n",
       "201502           Weather observers across Champaign County repo...   \n",
       "201502           Weather observers across Vermilion County repo...   \n",
       "201502           Weather observers across Fulton County reporte...   \n",
       "\n",
       "                 DATA_SOURCE   \n",
       "BEGIN_YEARMONTH                \n",
       "201502                    NaN  \n",
       "201502                    NaN  \n",
       "201502                    NaN  \n",
       "201502                    NaN  \n",
       "201502                    NaN  \n",
       "\n",
       "[5 rows x 50 columns]"
      ]
     },
     "execution_count": 44,
     "metadata": {},
     "output_type": "execute_result"
    }
   ],
   "source": [
    "stormdet2015.head()"
   ]
  },
  {
   "cell_type": "code",
   "execution_count": 54,
   "metadata": {
    "collapsed": false
   },
   "outputs": [
    {
     "data": {
      "text/plain": [
       "Index([u'BEGIN_DAY', u'BEGIN_TIME', u'END_YEARMONTH', u'END_DAY', u'END_TIME',\n",
       "       u'EPISODE_ID', u'EVENT_ID', u'STATE', u'STATE_FIPS', u'YEAR',\n",
       "       u'MONTH_NAME', u'EVENT_TYPE', u'CZ_TYPE', u'CZ_FIPS', u'CZ_NAME',\n",
       "       u'WFO', u'BEGIN_DATE_TIME', u'CZ_TIMEZONE', u'END_DATE_TIME',\n",
       "       u'INJURIES_DIRECT', u'INJURIES_INDIRECT', u'DEATHS_DIRECT',\n",
       "       u'DEATHS_INDIRECT', u'DAMAGE_PROPERTY', u'DAMAGE_CROPS', u'SOURCE',\n",
       "       u'MAGNITUDE', u'MAGNITUDE_TYPE', u'FLOOD_CAUSE', u'CATEGORY',\n",
       "       u'TOR_F_SCALE', u'TOR_LENGTH', u'TOR_WIDTH', u'TOR_OTHER_WFO',\n",
       "       u'TOR_OTHER_CZ_STATE', u'TOR_OTHER_CZ_FIPS', u'TOR_OTHER_CZ_NAME',\n",
       "       u'BEGIN_RANGE', u'BEGIN_AZIMUTH', u'BEGIN_LOCATION', u'END_RANGE',\n",
       "       u'END_AZIMUTH', u'END_LOCATION', u'BEGIN_LAT', u'BEGIN_LON', u'END_LAT',\n",
       "       u'END_LON', u'EPISODE_NARRATIVE', u'EVENT_NARRATIVE', u'DATA_SOURCE '],\n",
       "      dtype='object')"
      ]
     },
     "execution_count": 54,
     "metadata": {},
     "output_type": "execute_result"
    }
   ],
   "source": [
    "stormdet2015.columns"
   ]
  },
  {
   "cell_type": "code",
   "execution_count": 48,
   "metadata": {
    "collapsed": false
   },
   "outputs": [
    {
     "data": {
      "text/plain": [
       "BEGIN_DAY               int64\n",
       "BEGIN_TIME              int64\n",
       "END_YEARMONTH           int64\n",
       "END_DAY                 int64\n",
       "END_TIME                int64\n",
       "EPISODE_ID              int64\n",
       "EVENT_ID                int64\n",
       "STATE                  object\n",
       "STATE_FIPS              int64\n",
       "YEAR                    int64\n",
       "MONTH_NAME             object\n",
       "EVENT_TYPE             object\n",
       "CZ_TYPE                object\n",
       "CZ_FIPS                 int64\n",
       "CZ_NAME                object\n",
       "WFO                    object\n",
       "BEGIN_DATE_TIME        object\n",
       "CZ_TIMEZONE            object\n",
       "END_DATE_TIME          object\n",
       "INJURIES_DIRECT         int64\n",
       "INJURIES_INDIRECT       int64\n",
       "DEATHS_DIRECT           int64\n",
       "DEATHS_INDIRECT         int64\n",
       "DAMAGE_PROPERTY        object\n",
       "DAMAGE_CROPS          float64\n",
       "SOURCE                 object\n",
       "MAGNITUDE             float64\n",
       "MAGNITUDE_TYPE         object\n",
       "FLOOD_CAUSE            object\n",
       "CATEGORY              float64\n",
       "TOR_F_SCALE            object\n",
       "TOR_LENGTH            float64\n",
       "TOR_WIDTH             float64\n",
       "TOR_OTHER_WFO          object\n",
       "TOR_OTHER_CZ_STATE     object\n",
       "TOR_OTHER_CZ_FIPS     float64\n",
       "TOR_OTHER_CZ_NAME      object\n",
       "BEGIN_RANGE           float64\n",
       "BEGIN_AZIMUTH          object\n",
       "BEGIN_LOCATION         object\n",
       "END_RANGE             float64\n",
       "END_AZIMUTH            object\n",
       "END_LOCATION           object\n",
       "BEGIN_LAT             float64\n",
       "BEGIN_LON             float64\n",
       "END_LAT               float64\n",
       "END_LON               float64\n",
       "EPISODE_NARRATIVE      object\n",
       "EVENT_NARRATIVE        object\n",
       "DATA_SOURCE           float64\n",
       "dtype: object"
      ]
     },
     "execution_count": 48,
     "metadata": {},
     "output_type": "execute_result"
    }
   ],
   "source": [
    "stormdet2015.dtypes"
   ]
  },
  {
   "cell_type": "code",
   "execution_count": 4,
   "metadata": {
    "collapsed": false
   },
   "outputs": [
    {
     "name": "stdout",
     "output_type": "stream",
     "text": [
      "[nan 'MG' 'EG' 'MS' 'ES']\n"
     ]
    }
   ],
   "source": [
    "print stormdet2015['MAGNITUDE_TYPE'].unique()"
   ]
  },
  {
   "cell_type": "code",
   "execution_count": 49,
   "metadata": {
    "collapsed": false
   },
   "outputs": [
    {
     "name": "stdout",
     "output_type": "stream",
     "text": [
      "['Winter Weather' 'Heavy Snow' 'Dense Fog' 'Extreme Cold/Wind Chill'\n",
      " 'Flash Flood' 'Flood' 'Drought' 'Ice Storm' 'Winter Storm'\n",
      " 'Marine Thunderstorm Wind' 'Strong Wind' 'Frost/Freeze'\n",
      " 'Thunderstorm Wind' 'Cold/Wind Chill' 'Lake-Effect Snow' 'High Wind'\n",
      " 'Blizzard' 'Astronomical Low Tide' 'Tornado' 'Waterspout' 'Freezing Fog'\n",
      " 'Lightning' 'Heavy Rain' 'High Surf' 'Wildfire' 'Avalanche'\n",
      " 'Coastal Flood' 'Marine High Wind' 'Funnel Cloud' 'Rip Current'\n",
      " 'Debris Flow' 'Sleet' 'Hail' 'Dense Smoke' 'Marine Strong Wind'\n",
      " 'Dust Storm' 'Excessive Heat' 'Sneakerwave' 'Marine Dense Fog']\n"
     ]
    }
   ],
   "source": [
    "print stormdet2015['EVENT_TYPE'].unique()"
   ]
  },
  {
   "cell_type": "code",
   "execution_count": 50,
   "metadata": {
    "collapsed": false
   },
   "outputs": [
    {
     "name": "stdout",
     "output_type": "stream",
     "text": [
      "['0.00K' nan '2.00K' '2.50K' '50.00K' '10.00K' '1.50K' '12.00K' '3.00K'\n",
      " '1.00K' '8.00K' '4.00K' '24.00K' '5.00K' '25.00K' '75.00K' '200.00K'\n",
      " '0.50K' '340.00K' '350.00K' '800.00K' '500.00K' '450.00K' '300.00K'\n",
      " '750.00K' '400.00K' '100.00K' '1.00M' '7.00K' '9.00K' '150.00K' '40.00K'\n",
      " '30.00K' '20.00K' '60.00K' '47.00K' '15.00K' '0.10K' '45.00K' '7.50K'\n",
      " '12.50K' '1.50M' '35.00K' '6.00K' '2.00M' '447.00K' '1.30M' '600.00K'\n",
      " '112.00K' '51.00K' '70.00K' '50.00M' '250.00K' '125.00K' '110.00K' '0.20K'\n",
      " '80.00K' '15.00M' '20.00M' '105.00K' '5.00M' '1.25K' '16.00K' '175.00K'\n",
      " '10.00M' '0.05K']\n"
     ]
    }
   ],
   "source": [
    "print stormdet2015['DAMAGE_PROPERTY'].unique()"
   ]
  },
  {
   "cell_type": "code",
   "execution_count": 19,
   "metadata": {
    "collapsed": false
   },
   "outputs": [
    {
     "name": "stdout",
     "output_type": "stream",
     "text": [
      "['0.00K' nan '8.00K' '75.00K' '3.00K' '5.00K' '0.50K' '2.00K' '1.00K'\n",
      " '2.50K' '4.00K']\n"
     ]
    }
   ],
   "source": [
    "print stormdet2015['DAMAGE_CROPS'].unique()"
   ]
  },
  {
   "cell_type": "code",
   "execution_count": 42,
   "metadata": {
    "collapsed": false
   },
   "outputs": [
    {
     "name": "stdout",
     "output_type": "stream",
     "text": [
      "[     0.     nan   8000.  75000.   3000.   5000.    500.   2000.   1000.\n",
      "   2500.   4000.]\n"
     ]
    }
   ],
   "source": [
    "#s = '75.00K'\n",
    "#Regular expression module is RE\n",
    "#float(s[:-1])\n",
    "#stormdet2015['DAMAGE_CROPS'].dropna(inplace=True)\n",
    "\n",
    "#(lambda s: float(s[:-1])*1000)\n",
    "\n",
    "stormdet2015['DAMAGE_CROPS'] = stormdet2015['DAMAGE_CROPS'].map(lambda s: float(s[:-1])*1000, na_action='ignore')\n",
    "\n",
    "print stormdet2015['DAMAGE_CROPS'].unique()\n",
    "\n",
    "#pd.is_null()"
   ]
  },
  {
   "cell_type": "code",
   "execution_count": 27,
   "metadata": {
    "collapsed": false
   },
   "outputs": [
    {
     "name": "stdout",
     "output_type": "stream",
     "text": [
      "['0.00K' '8.00K' '75.00K' '3.00K' '5.00K' '0.50K' '2.00K' '1.00K' '2.50K'\n",
      " '4.00K']\n",
      "[     0.   8000.  75000.   3000.   5000.    500.   2000.   1000.   2500.\n",
      "   4000.]\n"
     ]
    }
   ],
   "source": [
    "#s = '75.00K'\n",
    "#Regular expression module is RE\n",
    "#float(s[:-1])\n",
    "\n",
    "stormdet2015['DAMAGE_CROPS'].dropna(inplace=True)\n",
    "print stormdet2015['DAMAGE_CROPS'].unique()\n",
    "\n",
    "test = stormdet2015['DAMAGE_CROPS'].apply(lambda s: float(s[:-1])*1000)\n",
    "\n",
    "print test.unique()\n",
    "#(lambda s: float(s[:-1])*1000)"
   ]
  },
  {
   "cell_type": "code",
   "execution_count": null,
   "metadata": {
    "collapsed": true
   },
   "outputs": [],
   "source": []
  },
  {
   "cell_type": "code",
   "execution_count": 9,
   "metadata": {
    "collapsed": false
   },
   "outputs": [
    {
     "data": {
      "text/html": [
       "<div>\n",
       "<table border=\"1\" class=\"dataframe\">\n",
       "  <thead>\n",
       "    <tr style=\"text-align: right;\">\n",
       "      <th>DEATHS_INDIRECT</th>\n",
       "      <th>0</th>\n",
       "      <th>1</th>\n",
       "      <th>2</th>\n",
       "      <th>3</th>\n",
       "      <th>5</th>\n",
       "    </tr>\n",
       "    <tr>\n",
       "      <th>MONTH_NAME</th>\n",
       "      <th></th>\n",
       "      <th></th>\n",
       "      <th></th>\n",
       "      <th></th>\n",
       "      <th></th>\n",
       "    </tr>\n",
       "  </thead>\n",
       "  <tbody>\n",
       "    <tr>\n",
       "      <th>February</th>\n",
       "      <td>111</td>\n",
       "      <td>67</td>\n",
       "      <td>2</td>\n",
       "      <td>0</td>\n",
       "      <td>NaN</td>\n",
       "    </tr>\n",
       "    <tr>\n",
       "      <th>January</th>\n",
       "      <td>172</td>\n",
       "      <td>47</td>\n",
       "      <td>34</td>\n",
       "      <td>1</td>\n",
       "      <td>3</td>\n",
       "    </tr>\n",
       "    <tr>\n",
       "      <th>March</th>\n",
       "      <td>86</td>\n",
       "      <td>4</td>\n",
       "      <td>6</td>\n",
       "      <td>NaN</td>\n",
       "      <td>NaN</td>\n",
       "    </tr>\n",
       "  </tbody>\n",
       "</table>\n",
       "</div>"
      ],
      "text/plain": [
       "DEATHS_INDIRECT    0   1   2   3   5\n",
       "MONTH_NAME                          \n",
       "February         111  67   2   0 NaN\n",
       "January          172  47  34   1   3\n",
       "March             86   4   6 NaN NaN"
      ]
     },
     "execution_count": 9,
     "metadata": {},
     "output_type": "execute_result"
    }
   ],
   "source": [
    "stormdet2015.pivot_table(values='INJURIES_INDIRECT',index='MONTH_NAME',columns='DEATHS_INDIRECT',\n",
    "                         aggfunc=sum)"
   ]
  },
  {
   "cell_type": "code",
   "execution_count": 8,
   "metadata": {
    "collapsed": false
   },
   "outputs": [
    {
     "data": {
      "text/html": [
       "<div>\n",
       "<table border=\"1\" class=\"dataframe\">\n",
       "  <thead>\n",
       "    <tr style=\"text-align: right;\">\n",
       "      <th>DEATHS_INDIRECT</th>\n",
       "      <th>0</th>\n",
       "      <th>1</th>\n",
       "      <th>2</th>\n",
       "      <th>3</th>\n",
       "      <th>5</th>\n",
       "    </tr>\n",
       "    <tr>\n",
       "      <th>MONTH_NAME</th>\n",
       "      <th></th>\n",
       "      <th></th>\n",
       "      <th></th>\n",
       "      <th></th>\n",
       "      <th></th>\n",
       "    </tr>\n",
       "  </thead>\n",
       "  <tbody>\n",
       "    <tr>\n",
       "      <th>February</th>\n",
       "      <td>0.017420</td>\n",
       "      <td>2.913043</td>\n",
       "      <td>0.666667</td>\n",
       "      <td>0</td>\n",
       "      <td>NaN</td>\n",
       "    </tr>\n",
       "    <tr>\n",
       "      <th>January</th>\n",
       "      <td>0.044733</td>\n",
       "      <td>4.272727</td>\n",
       "      <td>5.666667</td>\n",
       "      <td>1</td>\n",
       "      <td>3</td>\n",
       "    </tr>\n",
       "    <tr>\n",
       "      <th>March</th>\n",
       "      <td>0.025896</td>\n",
       "      <td>0.363636</td>\n",
       "      <td>2.000000</td>\n",
       "      <td>NaN</td>\n",
       "      <td>NaN</td>\n",
       "    </tr>\n",
       "  </tbody>\n",
       "</table>\n",
       "</div>"
      ],
      "text/plain": [
       "DEATHS_INDIRECT         0         1         2   3   5\n",
       "MONTH_NAME                                           \n",
       "February         0.017420  2.913043  0.666667   0 NaN\n",
       "January          0.044733  4.272727  5.666667   1   3\n",
       "March            0.025896  0.363636  2.000000 NaN NaN"
      ]
     },
     "execution_count": 8,
     "metadata": {},
     "output_type": "execute_result"
    }
   ],
   "source": [
    "stormdet2015.pivot_table(values='INJURIES_INDIRECT',index='MONTH_NAME',columns='DEATHS_INDIRECT',\n",
    "                         aggfunc= np.mean)"
   ]
  },
  {
   "cell_type": "code",
   "execution_count": null,
   "metadata": {
    "collapsed": true
   },
   "outputs": [],
   "source": [
    "#np.where(condition->boolean, do-if-True, do-if-False)\n",
    "#pd.merge(DataFrame0,DataFrame1)\n",
    "#pd.pivot_table(data, values=None, index=None, \n",
    "#columns=None, aggfunc='mean', fill_value=None, margins=False, dropna=True)"
   ]
  }
 ],
 "metadata": {
  "kernelspec": {
   "display_name": "Python 3",
   "language": "python",
   "name": "python3"
  },
  "language_info": {
   "codemirror_mode": {
    "name": "ipython",
    "version": 3
   },
   "file_extension": ".py",
   "mimetype": "text/x-python",
   "name": "python",
   "nbconvert_exporter": "python",
   "pygments_lexer": "ipython3",
   "version": "3.5.2"
  }
 },
 "nbformat": 4,
 "nbformat_minor": 0
}
