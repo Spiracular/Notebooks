{
 "cells": [
  {
   "cell_type": "code",
   "execution_count": 11,
   "metadata": {
    "collapsed": false
   },
   "outputs": [],
   "source": [
    "NYCD = read.csv(\"Data/New_York_City_Leading_Causes_of_Death.csv\")"
   ]
  },
  {
   "cell_type": "code",
   "execution_count": 12,
   "metadata": {
    "collapsed": false
   },
   "outputs": [],
   "source": [
    "NYCD <- data.frame(NYCD)"
   ]
  },
  {
   "cell_type": "code",
   "execution_count": 13,
   "metadata": {
    "collapsed": false
   },
   "outputs": [
    {
     "data": {
      "text/html": [
       "<table>\n",
       "<thead><tr><th></th><th scope=col>Year</th><th scope=col>Ethnicity</th><th scope=col>Sex</th><th scope=col>Cause.of.Death</th><th scope=col>Count</th><th scope=col>Percent</th></tr></thead>\n",
       "<tbody>\n",
       "\t<tr><th scope=row>1</th><td>2010</td><td>NON-HISPANIC BLACK</td><td>MALE</td><td>HUMAN IMMUNODEFICIENCY VIRUS DISEASE</td><td>297</td><td>5</td></tr>\n",
       "\t<tr><th scope=row>2</th><td>2010</td><td>NON-HISPANIC BLACK</td><td>MALE</td><td>INFLUENZA AND PNEUMONIA</td><td>201</td><td>3</td></tr>\n",
       "\t<tr><th scope=row>3</th><td>2010</td><td>NON-HISPANIC BLACK</td><td>MALE</td><td>INTENTIONAL SELF-HARM (SUICIDE)</td><td>64</td><td>1</td></tr>\n",
       "\t<tr><th scope=row>4</th><td>2010</td><td>NON-HISPANIC BLACK</td><td>MALE</td><td>MALIGNANT NEOPLASMS</td><td>1540</td><td>23</td></tr>\n",
       "\t<tr><th scope=row>5</th><td>2010</td><td>NON-HISPANIC BLACK</td><td>MALE</td><td>MENTAL DISORDERS DUE TO USE OF ALCOHOL</td><td>50</td><td>1</td></tr>\n",
       "\t<tr><th scope=row>6</th><td>2010</td><td>NON-HISPANIC BLACK</td><td>MALE</td><td>NEPHRITIS, NEPHROTIC SYNDROME AND NEPHROSIS</td><td>70</td><td>1</td></tr>\n",
       "</tbody>\n",
       "</table>\n"
      ],
      "text/latex": [
       "\\begin{tabular}{r|llllll}\n",
       "  & Year & Ethnicity & Sex & Cause.of.Death & Count & Percent\\\\\n",
       "\\hline\n",
       "\t1 & 2010 & NON-HISPANIC BLACK & MALE & HUMAN IMMUNODEFICIENCY VIRUS DISEASE & 297 & 5\\\\\n",
       "\t2 & 2010 & NON-HISPANIC BLACK & MALE & INFLUENZA AND PNEUMONIA & 201 & 3\\\\\n",
       "\t3 & 2010 & NON-HISPANIC BLACK & MALE & INTENTIONAL SELF-HARM (SUICIDE) & 64 & 1\\\\\n",
       "\t4 & 2010 & NON-HISPANIC BLACK & MALE & MALIGNANT NEOPLASMS & 1540 & 23\\\\\n",
       "\t5 & 2010 & NON-HISPANIC BLACK & MALE & MENTAL DISORDERS DUE TO USE OF ALCOHOL & 50 & 1\\\\\n",
       "\t6 & 2010 & NON-HISPANIC BLACK & MALE & NEPHRITIS, NEPHROTIC SYNDROME AND NEPHROSIS & 70 & 1\\\\\n",
       "\\end{tabular}\n"
      ],
      "text/plain": [
       "  Year          Ethnicity  Sex                              Cause.of.Death\n",
       "1 2010 NON-HISPANIC BLACK MALE        HUMAN IMMUNODEFICIENCY VIRUS DISEASE\n",
       "2 2010 NON-HISPANIC BLACK MALE                     INFLUENZA AND PNEUMONIA\n",
       "3 2010 NON-HISPANIC BLACK MALE             INTENTIONAL SELF-HARM (SUICIDE)\n",
       "4 2010 NON-HISPANIC BLACK MALE                         MALIGNANT NEOPLASMS\n",
       "5 2010 NON-HISPANIC BLACK MALE      MENTAL DISORDERS DUE TO USE OF ALCOHOL\n",
       "6 2010 NON-HISPANIC BLACK MALE NEPHRITIS, NEPHROTIC SYNDROME AND NEPHROSIS\n",
       "  Count Percent\n",
       "1   297       5\n",
       "2   201       3\n",
       "3    64       1\n",
       "4  1540      23\n",
       "5    50       1\n",
       "6    70       1"
      ]
     },
     "execution_count": 13,
     "metadata": {},
     "output_type": "execute_result"
    }
   ],
   "source": [
    "head(NYCD)"
   ]
  },
  {
   "cell_type": "code",
   "execution_count": null,
   "metadata": {
    "collapsed": true
   },
   "outputs": [],
   "source": []
  }
 ],
 "metadata": {
  "kernelspec": {
   "display_name": "R",
   "language": "R",
   "name": "ir"
  },
  "language_info": {
   "codemirror_mode": "r",
   "file_extension": ".r",
   "mimetype": "text/x-r-source",
   "name": "R",
   "pygments_lexer": "r",
   "version": "3.2.1"
  }
 },
 "nbformat": 4,
 "nbformat_minor": 0
}
