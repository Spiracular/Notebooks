{
 "cells": [
  {
   "cell_type": "code",
   "execution_count": 1,
   "metadata": {
    "collapsed": false
   },
   "outputs": [
    {
     "name": "stdout",
     "output_type": "stream",
     "text": [
      "Populating the interactive namespace from numpy and matplotlib\n"
     ]
    }
   ],
   "source": [
    "%pylab inline"
   ]
  },
  {
   "cell_type": "code",
   "execution_count": 2,
   "metadata": {
    "collapsed": true
   },
   "outputs": [],
   "source": [
    "import numpy as np\n",
    "import matplotlib.pyplot as plt\n",
    "import pandas as pd"
   ]
  },
  {
   "cell_type": "code",
   "execution_count": 3,
   "metadata": {
    "collapsed": false
   },
   "outputs": [],
   "source": [
    "nycd = pd.DataFrame.from_csv(open('Data/New_York_City_Leading_Causes_of_Death.csv', 'r'))"
   ]
  },
  {
   "cell_type": "code",
   "execution_count": 4,
   "metadata": {
    "collapsed": false
   },
   "outputs": [
    {
     "data": {
      "text/html": [
       "<div>\n",
       "<table border=\"1\" class=\"dataframe\">\n",
       "  <thead>\n",
       "    <tr style=\"text-align: right;\">\n",
       "      <th></th>\n",
       "      <th>Ethnicity</th>\n",
       "      <th>Sex</th>\n",
       "      <th>Cause of Death</th>\n",
       "      <th>Count</th>\n",
       "      <th>Percent</th>\n",
       "    </tr>\n",
       "    <tr>\n",
       "      <th>Year</th>\n",
       "      <th></th>\n",
       "      <th></th>\n",
       "      <th></th>\n",
       "      <th></th>\n",
       "      <th></th>\n",
       "    </tr>\n",
       "  </thead>\n",
       "  <tbody>\n",
       "    <tr>\n",
       "      <th>2010-01-01</th>\n",
       "      <td>NON-HISPANIC BLACK</td>\n",
       "      <td>MALE</td>\n",
       "      <td>HUMAN IMMUNODEFICIENCY VIRUS DISEASE</td>\n",
       "      <td>297</td>\n",
       "      <td>5</td>\n",
       "    </tr>\n",
       "    <tr>\n",
       "      <th>2010-01-01</th>\n",
       "      <td>NON-HISPANIC BLACK</td>\n",
       "      <td>MALE</td>\n",
       "      <td>INFLUENZA AND PNEUMONIA</td>\n",
       "      <td>201</td>\n",
       "      <td>3</td>\n",
       "    </tr>\n",
       "    <tr>\n",
       "      <th>2010-01-01</th>\n",
       "      <td>NON-HISPANIC BLACK</td>\n",
       "      <td>MALE</td>\n",
       "      <td>INTENTIONAL SELF-HARM (SUICIDE)</td>\n",
       "      <td>64</td>\n",
       "      <td>1</td>\n",
       "    </tr>\n",
       "    <tr>\n",
       "      <th>2010-01-01</th>\n",
       "      <td>NON-HISPANIC BLACK</td>\n",
       "      <td>MALE</td>\n",
       "      <td>MALIGNANT NEOPLASMS</td>\n",
       "      <td>1540</td>\n",
       "      <td>23</td>\n",
       "    </tr>\n",
       "    <tr>\n",
       "      <th>2010-01-01</th>\n",
       "      <td>NON-HISPANIC BLACK</td>\n",
       "      <td>MALE</td>\n",
       "      <td>MENTAL DISORDERS DUE TO USE OF ALCOHOL</td>\n",
       "      <td>50</td>\n",
       "      <td>1</td>\n",
       "    </tr>\n",
       "  </tbody>\n",
       "</table>\n",
       "</div>"
      ],
      "text/plain": [
       "                     Ethnicity   Sex                          Cause of Death  \\\n",
       "Year                                                                           \n",
       "2010-01-01  NON-HISPANIC BLACK  MALE    HUMAN IMMUNODEFICIENCY VIRUS DISEASE   \n",
       "2010-01-01  NON-HISPANIC BLACK  MALE                 INFLUENZA AND PNEUMONIA   \n",
       "2010-01-01  NON-HISPANIC BLACK  MALE         INTENTIONAL SELF-HARM (SUICIDE)   \n",
       "2010-01-01  NON-HISPANIC BLACK  MALE                     MALIGNANT NEOPLASMS   \n",
       "2010-01-01  NON-HISPANIC BLACK  MALE  MENTAL DISORDERS DUE TO USE OF ALCOHOL   \n",
       "\n",
       "            Count  Percent  \n",
       "Year                        \n",
       "2010-01-01    297        5  \n",
       "2010-01-01    201        3  \n",
       "2010-01-01     64        1  \n",
       "2010-01-01   1540       23  \n",
       "2010-01-01     50        1  "
      ]
     },
     "execution_count": 4,
     "metadata": {},
     "output_type": "execute_result"
    }
   ],
   "source": [
    "nycd.head()"
   ]
  },
  {
   "cell_type": "code",
   "execution_count": 10,
   "metadata": {
    "collapsed": false
   },
   "outputs": [
    {
     "data": {
      "text/plain": [
       "Index([u'Ethnicity', u'Sex', u'Cause of Death', u'Count', u'Percent'], dtype='object')"
      ]
     },
     "execution_count": 10,
     "metadata": {},
     "output_type": "execute_result"
    }
   ],
   "source": [
    "nycd.columns"
   ]
  },
  {
   "cell_type": "code",
   "execution_count": 9,
   "metadata": {
    "collapsed": false
   },
   "outputs": [
    {
     "data": {
      "text/plain": [
       "DatetimeIndex(['2010-01-01', '2010-01-01', '2010-01-01', '2010-01-01',\n",
       "               '2010-01-01', '2010-01-01', '2010-01-01', '2010-01-01',\n",
       "               '2010-01-01', '2010-01-01', \n",
       "               ...\n",
       "               '2011-01-01', '2011-01-01', '2011-01-01', '2011-01-01',\n",
       "               '2011-01-01', '2011-01-01', '2011-01-01', '2011-01-01',\n",
       "               '2011-01-01', '2011-01-01'],\n",
       "              dtype='datetime64[ns]', name=u'Year', length=2880, freq=None, tz=None)"
      ]
     },
     "execution_count": 9,
     "metadata": {},
     "output_type": "execute_result"
    }
   ],
   "source": [
    "nycd.index"
   ]
  },
  {
   "cell_type": "code",
   "execution_count": 41,
   "metadata": {
    "collapsed": false
   },
   "outputs": [
    {
     "data": {
      "text/plain": [
       "Ethnicity         object\n",
       "Sex               object\n",
       "Cause of Death    object\n",
       "Count              int64\n",
       "Percent            int64\n",
       "dtype: object"
      ]
     },
     "execution_count": 41,
     "metadata": {},
     "output_type": "execute_result"
    }
   ],
   "source": [
    "nycd.dtypes"
   ]
  },
  {
   "cell_type": "code",
   "execution_count": 7,
   "metadata": {
    "collapsed": false
   },
   "outputs": [
    {
     "data": {
      "text/html": [
       "<div>\n",
       "<table border=\"1\" class=\"dataframe\">\n",
       "  <thead>\n",
       "    <tr style=\"text-align: right;\">\n",
       "      <th>Sex</th>\n",
       "      <th>FEMALE</th>\n",
       "      <th>MALE</th>\n",
       "    </tr>\n",
       "    <tr>\n",
       "      <th>Ethnicity</th>\n",
       "      <th></th>\n",
       "      <th></th>\n",
       "    </tr>\n",
       "  </thead>\n",
       "  <tbody>\n",
       "    <tr>\n",
       "      <th>ASIAN &amp; PACIFIC ISLANDER</th>\n",
       "      <td>18381</td>\n",
       "      <td>23088</td>\n",
       "    </tr>\n",
       "    <tr>\n",
       "      <th>HISPANIC</th>\n",
       "      <td>57846</td>\n",
       "      <td>65190</td>\n",
       "    </tr>\n",
       "    <tr>\n",
       "      <th>NON-HISPANIC BLACK</th>\n",
       "      <td>97818</td>\n",
       "      <td>89613</td>\n",
       "    </tr>\n",
       "    <tr>\n",
       "      <th>NON-HISPANIC WHITE</th>\n",
       "      <td>188973</td>\n",
       "      <td>173952</td>\n",
       "    </tr>\n",
       "  </tbody>\n",
       "</table>\n",
       "</div>"
      ],
      "text/plain": [
       "Sex                       FEMALE    MALE\n",
       "Ethnicity                               \n",
       "ASIAN & PACIFIC ISLANDER   18381   23088\n",
       "HISPANIC                   57846   65190\n",
       "NON-HISPANIC BLACK         97818   89613\n",
       "NON-HISPANIC WHITE        188973  173952"
      ]
     },
     "execution_count": 7,
     "metadata": {},
     "output_type": "execute_result"
    }
   ],
   "source": [
    "nycd.pivot_table(values='Count', index='Ethnicity', columns = 'Sex', aggfunc = sum)"
   ]
  },
  {
   "cell_type": "code",
   "execution_count": 5,
   "metadata": {
    "collapsed": false
   },
   "outputs": [
    {
     "data": {
      "text/html": [
       "<div>\n",
       "<table border=\"1\" class=\"dataframe\">\n",
       "  <thead>\n",
       "    <tr style=\"text-align: right;\">\n",
       "      <th></th>\n",
       "      <th>Ethnicity</th>\n",
       "      <th>Sex</th>\n",
       "      <th>Cause of Death</th>\n",
       "      <th>Count</th>\n",
       "      <th>Percent</th>\n",
       "    </tr>\n",
       "    <tr>\n",
       "      <th>Year</th>\n",
       "      <th></th>\n",
       "      <th></th>\n",
       "      <th></th>\n",
       "      <th></th>\n",
       "      <th></th>\n",
       "    </tr>\n",
       "  </thead>\n",
       "  <tbody>\n",
       "    <tr>\n",
       "      <th>2007-01-01</th>\n",
       "      <td>NON-HISPANIC WHITE</td>\n",
       "      <td>FEMALE</td>\n",
       "      <td>DISEASES OF HEART</td>\n",
       "      <td>7050</td>\n",
       "      <td>49</td>\n",
       "    </tr>\n",
       "    <tr>\n",
       "      <th>2008-01-01</th>\n",
       "      <td>NON-HISPANIC WHITE</td>\n",
       "      <td>FEMALE</td>\n",
       "      <td>DISEASES OF HEART</td>\n",
       "      <td>6836</td>\n",
       "      <td>48</td>\n",
       "    </tr>\n",
       "    <tr>\n",
       "      <th>2009-01-01</th>\n",
       "      <td>NON-HISPANIC WHITE</td>\n",
       "      <td>FEMALE</td>\n",
       "      <td>DISEASES OF HEART</td>\n",
       "      <td>6297</td>\n",
       "      <td>46</td>\n",
       "    </tr>\n",
       "    <tr>\n",
       "      <th>2007-01-01</th>\n",
       "      <td>NON-HISPANIC WHITE</td>\n",
       "      <td>MALE</td>\n",
       "      <td>DISEASES OF HEART</td>\n",
       "      <td>5632</td>\n",
       "      <td>43</td>\n",
       "    </tr>\n",
       "    <tr>\n",
       "      <th>2008-01-01</th>\n",
       "      <td>NON-HISPANIC WHITE</td>\n",
       "      <td>MALE</td>\n",
       "      <td>DISEASES OF HEART</td>\n",
       "      <td>5503</td>\n",
       "      <td>43</td>\n",
       "    </tr>\n",
       "  </tbody>\n",
       "</table>\n",
       "</div>"
      ],
      "text/plain": [
       "                     Ethnicity     Sex     Cause of Death  Count  Percent\n",
       "Year                                                                     \n",
       "2007-01-01  NON-HISPANIC WHITE  FEMALE  DISEASES OF HEART   7050       49\n",
       "2008-01-01  NON-HISPANIC WHITE  FEMALE  DISEASES OF HEART   6836       48\n",
       "2009-01-01  NON-HISPANIC WHITE  FEMALE  DISEASES OF HEART   6297       46\n",
       "2007-01-01  NON-HISPANIC WHITE    MALE  DISEASES OF HEART   5632       43\n",
       "2008-01-01  NON-HISPANIC WHITE    MALE  DISEASES OF HEART   5503       43"
      ]
     },
     "execution_count": 5,
     "metadata": {},
     "output_type": "execute_result"
    }
   ],
   "source": [
    "nycd.sort('Count', ascending = False, inplace = True)\n",
    "nycd.drop_duplicates(inplace = True)\n",
    "nycd.head()"
   ]
  },
  {
   "cell_type": "code",
   "execution_count": 10,
   "metadata": {
    "collapsed": false
   },
   "outputs": [
    {
     "data": {
      "text/html": [
       "<div>\n",
       "<table border=\"1\" class=\"dataframe\">\n",
       "  <thead>\n",
       "    <tr style=\"text-align: right;\">\n",
       "      <th></th>\n",
       "      <th>Count</th>\n",
       "      <th>Percent</th>\n",
       "    </tr>\n",
       "  </thead>\n",
       "  <tbody>\n",
       "    <tr>\n",
       "      <th>count</th>\n",
       "      <td>901.000000</td>\n",
       "      <td>901.000000</td>\n",
       "    </tr>\n",
       "    <tr>\n",
       "      <th>mean</th>\n",
       "      <td>261.881243</td>\n",
       "      <td>3.907880</td>\n",
       "    </tr>\n",
       "    <tr>\n",
       "      <th>std</th>\n",
       "      <td>744.058382</td>\n",
       "      <td>8.348743</td>\n",
       "    </tr>\n",
       "    <tr>\n",
       "      <th>min</th>\n",
       "      <td>5.000000</td>\n",
       "      <td>0.000000</td>\n",
       "    </tr>\n",
       "    <tr>\n",
       "      <th>25%</th>\n",
       "      <td>22.000000</td>\n",
       "      <td>0.000000</td>\n",
       "    </tr>\n",
       "    <tr>\n",
       "      <th>50%</th>\n",
       "      <td>58.000000</td>\n",
       "      <td>1.000000</td>\n",
       "    </tr>\n",
       "    <tr>\n",
       "      <th>75%</th>\n",
       "      <td>168.000000</td>\n",
       "      <td>3.000000</td>\n",
       "    </tr>\n",
       "    <tr>\n",
       "      <th>max</th>\n",
       "      <td>7050.000000</td>\n",
       "      <td>49.000000</td>\n",
       "    </tr>\n",
       "  </tbody>\n",
       "</table>\n",
       "</div>"
      ],
      "text/plain": [
       "             Count     Percent\n",
       "count   901.000000  901.000000\n",
       "mean    261.881243    3.907880\n",
       "std     744.058382    8.348743\n",
       "min       5.000000    0.000000\n",
       "25%      22.000000    0.000000\n",
       "50%      58.000000    1.000000\n",
       "75%     168.000000    3.000000\n",
       "max    7050.000000   49.000000"
      ]
     },
     "execution_count": 10,
     "metadata": {},
     "output_type": "execute_result"
    }
   ],
   "source": [
    "nycd.describe()"
   ]
  },
  {
   "cell_type": "code",
   "execution_count": 11,
   "metadata": {
    "collapsed": false
   },
   "outputs": [
    {
     "data": {
      "image/png": "[encoded data removed]",
      "text/plain": [
       "<matplotlib.figure.Figure at 0x107155f10>"
      ]
     },
     "metadata": {},
     "output_type": "display_data"
    }
   ],
   "source": [
    "nycd.hist()\n",
    "plt.show()"
   ]
  },
  {
   "cell_type": "code",
   "execution_count": 16,
   "metadata": {
    "collapsed": false
   },
   "outputs": [
    {
     "data": {
      "text/plain": [
       "CEREBROVASCULAR DISEASE                        40\n",
       "MALIGNANT NEOPLASMS                            40\n",
       "INFLUENZA AND PNEUMONIA                        40\n",
       "ESSENTIAL HYPERTENSION AND RENAL DISEASES      40\n",
       "DISEASES OF HEART                              40\n",
       "DIABETES MELLITUS                              39\n",
       "NEPHRITIS, NEPHROTIC SYNDROME AND NEPHROSIS    38\n",
       "CONGENITAL MALFORMATIONS,DEFORMATIONS          37\n",
       "VIRAL HEPATITIS                                37\n",
       "CHRONIC LOWER RESPIRATORY DISEASES             37\n",
       "dtype: int64"
      ]
     },
     "execution_count": 16,
     "metadata": {},
     "output_type": "execute_result"
    }
   ],
   "source": [
    "DeathItems = nycd['Cause of Death'].value_counts()\n",
    "DeathItems[:10]\n",
    "#Yes, I know these are just the numeber of cells.\n",
    "# Sex*2, Ethnicity*4, Year*5 = 40 cells/Cause of Death"
   ]
  },
  {
   "cell_type": "code",
   "execution_count": 26,
   "metadata": {
    "collapsed": false
   },
   "outputs": [
    {
     "data": {
      "image/png": "[encoded data removed]",
      "text/plain": [
       "<matplotlib.figure.Figure at 0x1095e6e50>"
      ]
     },
     "metadata": {},
     "output_type": "display_data"
    }
   ],
   "source": [
    "plt.subplot(1,2,1)\n",
    "DeathItems[10:].plot(kind = 'barh')\n",
    "plt.subplot(1,2,2)\n",
    "DeathItems[:10].plot( kind = 'barh').yaxis.tick_right()"
   ]
  },
  {
   "cell_type": "code",
   "execution_count": 27,
   "metadata": {
    "collapsed": true
   },
   "outputs": [],
   "source": [
    "#.group_by([''])\n",
    "#.size().unstack().fillna(0)\n"
   ]
  },
  {
   "cell_type": "code",
   "execution_count": null,
   "metadata": {
    "collapsed": true
   },
   "outputs": [],
   "source": [
    "nycdsb = nycd\n",
    "for x in nycdsb:\n",
    "    if nycd.loc[x, 'Year'] == '2007-01-01' and nycd.loc[x, 'Ethnicity'] == 'NON-HISPANIC WHITE'\n",
    "        and nycd.loc[x, 'Sex'] == 'FEMALE':\n",
    "        put it in a?\n",
    "    else:\n",
    "        delete\n",
    "#The basic, uncivilized way of expressing what I want        "
   ]
  },
  {
   "cell_type": "code",
   "execution_count": 6,
   "metadata": {
    "collapsed": false
   },
   "outputs": [
    {
     "data": {
      "text/html": [
       "<div>\n",
       "<table border=\"1\" class=\"dataframe\">\n",
       "  <thead>\n",
       "    <tr style=\"text-align: right;\">\n",
       "      <th></th>\n",
       "      <th>Ethnicity</th>\n",
       "      <th>Sex</th>\n",
       "      <th>Cause of Death</th>\n",
       "      <th>Count</th>\n",
       "      <th>Percent</th>\n",
       "    </tr>\n",
       "    <tr>\n",
       "      <th>Year</th>\n",
       "      <th></th>\n",
       "      <th></th>\n",
       "      <th></th>\n",
       "      <th></th>\n",
       "      <th></th>\n",
       "    </tr>\n",
       "  </thead>\n",
       "  <tbody>\n",
       "    <tr>\n",
       "      <th>2007-01-01</th>\n",
       "      <td>ASIAN &amp; PACIFIC ISLANDER</td>\n",
       "      <td>FEMALE</td>\n",
       "      <td>PARKINSONS DISEASE</td>\n",
       "      <td>5</td>\n",
       "      <td>0</td>\n",
       "    </tr>\n",
       "    <tr>\n",
       "      <th>2007-01-01</th>\n",
       "      <td>ASIAN &amp; PACIFIC ISLANDER</td>\n",
       "      <td>FEMALE</td>\n",
       "      <td>ATHEROSCLEROSIS</td>\n",
       "      <td>5</td>\n",
       "      <td>0</td>\n",
       "    </tr>\n",
       "    <tr>\n",
       "      <th>2007-01-01</th>\n",
       "      <td>ASIAN &amp; PACIFIC ISLANDER</td>\n",
       "      <td>MALE</td>\n",
       "      <td>AORTIC ANEURYSM AND DISSECTION</td>\n",
       "      <td>5</td>\n",
       "      <td>0</td>\n",
       "    </tr>\n",
       "    <tr>\n",
       "      <th>2007-01-01</th>\n",
       "      <td>ASIAN &amp; PACIFIC ISLANDER</td>\n",
       "      <td>MALE</td>\n",
       "      <td>CARDIOVASCULAR DISORDERS IN PERINATAL PERIOD</td>\n",
       "      <td>5</td>\n",
       "      <td>0</td>\n",
       "    </tr>\n",
       "    <tr>\n",
       "      <th>2007-01-01</th>\n",
       "      <td>ASIAN &amp; PACIFIC ISLANDER</td>\n",
       "      <td>MALE</td>\n",
       "      <td>PEPTIC ULCER</td>\n",
       "      <td>5</td>\n",
       "      <td>0</td>\n",
       "    </tr>\n",
       "  </tbody>\n",
       "</table>\n",
       "</div>"
      ],
      "text/plain": [
       "                           Ethnicity     Sex  \\\n",
       "Year                                           \n",
       "2007-01-01  ASIAN & PACIFIC ISLANDER  FEMALE   \n",
       "2007-01-01  ASIAN & PACIFIC ISLANDER  FEMALE   \n",
       "2007-01-01  ASIAN & PACIFIC ISLANDER    MALE   \n",
       "2007-01-01  ASIAN & PACIFIC ISLANDER    MALE   \n",
       "2007-01-01  ASIAN & PACIFIC ISLANDER    MALE   \n",
       "\n",
       "                                          Cause of Death  Count  Percent  \n",
       "Year                                                                      \n",
       "2007-01-01                            PARKINSONS DISEASE      5        0  \n",
       "2007-01-01                               ATHEROSCLEROSIS      5        0  \n",
       "2007-01-01                AORTIC ANEURYSM AND DISSECTION      5        0  \n",
       "2007-01-01  CARDIOVASCULAR DISORDERS IN PERINATAL PERIOD      5        0  \n",
       "2007-01-01                                  PEPTIC ULCER      5        0  "
      ]
     },
     "execution_count": 6,
     "metadata": {},
     "output_type": "execute_result"
    }
   ],
   "source": [
    "year = '20070101'\n",
    "nycdyr = nycd.loc[year:year, ]\n",
    "nycdyr.tail()\n",
    "#Remember: Numbers placed in loc are treated as labels, not index. Use iloc for index.\n"
   ]
  },
  {
   "cell_type": "code",
   "execution_count": 7,
   "metadata": {
    "collapsed": false
   },
   "outputs": [
    {
     "data": {
      "text/html": [
       "<div>\n",
       "<table border=\"1\" class=\"dataframe\">\n",
       "  <thead>\n",
       "    <tr style=\"text-align: right;\">\n",
       "      <th></th>\n",
       "      <th>Cause of Death</th>\n",
       "      <th>Count</th>\n",
       "      <th>Percent</th>\n",
       "    </tr>\n",
       "    <tr>\n",
       "      <th>Year</th>\n",
       "      <th></th>\n",
       "      <th></th>\n",
       "      <th></th>\n",
       "    </tr>\n",
       "  </thead>\n",
       "  <tbody>\n",
       "    <tr>\n",
       "      <th>2007-01-01</th>\n",
       "      <td>ESSENTIAL HYPERTENSION AND RENAL DISEASES</td>\n",
       "      <td>155</td>\n",
       "      <td>1</td>\n",
       "    </tr>\n",
       "    <tr>\n",
       "      <th>2007-01-01</th>\n",
       "      <td>ALZHEIMERS DISEASE</td>\n",
       "      <td>107</td>\n",
       "      <td>1</td>\n",
       "    </tr>\n",
       "    <tr>\n",
       "      <th>2007-01-01</th>\n",
       "      <td>NEPHRITIS, NEPHROTIC SYNDROME AND NEPHROSIS</td>\n",
       "      <td>89</td>\n",
       "      <td>1</td>\n",
       "    </tr>\n",
       "    <tr>\n",
       "      <th>2007-01-01</th>\n",
       "      <td>PSYCH. SUBSTANCE USE &amp; ACCIDENTAL DRUG POISONING</td>\n",
       "      <td>85</td>\n",
       "      <td>1</td>\n",
       "    </tr>\n",
       "    <tr>\n",
       "      <th>2007-01-01</th>\n",
       "      <td>SEPTICEMIA</td>\n",
       "      <td>79</td>\n",
       "      <td>1</td>\n",
       "    </tr>\n",
       "  </tbody>\n",
       "</table>\n",
       "</div>"
      ],
      "text/plain": [
       "                                              Cause of Death  Count  Percent\n",
       "Year                                                                        \n",
       "2007-01-01         ESSENTIAL HYPERTENSION AND RENAL DISEASES    155        1\n",
       "2007-01-01                                ALZHEIMERS DISEASE    107        1\n",
       "2007-01-01       NEPHRITIS, NEPHROTIC SYNDROME AND NEPHROSIS     89        1\n",
       "2007-01-01  PSYCH. SUBSTANCE USE & ACCIDENTAL DRUG POISONING     85        1\n",
       "2007-01-01                                        SEPTICEMIA     79        1"
      ]
     },
     "execution_count": 7,
     "metadata": {},
     "output_type": "execute_result"
    }
   ],
   "source": [
    "nycdyr = nycdyr[nycdyr['Percent'] > 0]\n",
    "nycdyr = nycdyr[nycdyr['Sex'].isin(['FEMALE'])]\n",
    "nycdyr = nycdyr[nycdyr['Ethnicity'].isin(['NON-HISPANIC WHITE'])]\n",
    "nycdyr = nycdyr[['Cause of Death','Count','Percent']]\n",
    "nycdyr.tail()\n",
    "#\n",
    "#Alternative sorting phrase (also works):\n",
    "#nycdyr = nycdyr[nycdyr[''] == '']\n",
    "#\n",
    "#End result is Female Whites (non-Hispanic)"
   ]
  },
  {
   "cell_type": "code",
   "execution_count": 33,
   "metadata": {
    "collapsed": false
   },
   "outputs": [
    {
     "name": "stdout",
     "output_type": "stream",
     "text": [
      "92\n",
      "12\n"
     ]
    }
   ],
   "source": [
    "print sum(nycdyr['Percent'])\n",
    "print len(nycdyr.index)"
   ]
  },
  {
   "cell_type": "code",
   "execution_count": null,
   "metadata": {
    "collapsed": true
   },
   "outputs": [],
   "source": []
  },
  {
   "cell_type": "code",
   "execution_count": 24,
   "metadata": {
    "collapsed": false
   },
   "outputs": [
    {
     "data": {
      "image/png": "[encoded data removed]",
      "text/plain": [
       "<matplotlib.figure.Figure at 0x1071fd7d0>"
      ]
     },
     "metadata": {},
     "output_type": "display_data"
    }
   ],
   "source": [
    "#Pie Chart\n",
    "import random\n",
    "\n",
    "labels = nycdyr['Cause of Death']\n",
    "sizes = nycdyr['Percent']\n",
    "colorset = 'rgbmcyw'\n",
    "color = ['k']\n",
    "explode = 0\n",
    "\n",
    "#Ensures colors next to each other don't match\n",
    "for x in xrange(len(nycdyr)):\n",
    "    hold = random.choice(colorset)\n",
    "    while color[x] == hold:\n",
    "        hold = random.choice(colorset)\n",
    "    color.append(hold)\n",
    "\n",
    "\n",
    "plt.pie(sizes, labels = labels,\n",
    "        colors = color)\n",
    "plt.show()\n",
    "#plt.axis('equal')\n",
    "#autopct = '%1.1f%%', shadow = True, startangle = 0\n",
    "#['red','yellow','green','blue','orange','purple']"
   ]
  },
  {
   "cell_type": "code",
   "execution_count": null,
   "metadata": {
    "collapsed": true
   },
   "outputs": [],
   "source": []
  },
  {
   "cell_type": "code",
   "execution_count": 39,
   "metadata": {
    "collapsed": false
   },
   "outputs": [
    {
     "data": {
      "text/html": [
       "<div>\n",
       "<table border=\"1\" class=\"dataframe\">\n",
       "  <thead>\n",
       "    <tr style=\"text-align: right;\">\n",
       "      <th></th>\n",
       "      <th>Count</th>\n",
       "      <th>Percent</th>\n",
       "    </tr>\n",
       "  </thead>\n",
       "  <tbody>\n",
       "    <tr>\n",
       "      <th>2007</th>\n",
       "      <td>48963</td>\n",
       "      <td>715</td>\n",
       "    </tr>\n",
       "    <tr>\n",
       "      <th>2008</th>\n",
       "      <td>48277</td>\n",
       "      <td>701</td>\n",
       "    </tr>\n",
       "    <tr>\n",
       "      <th>2009</th>\n",
       "      <td>46977</td>\n",
       "      <td>708</td>\n",
       "    </tr>\n",
       "    <tr>\n",
       "      <th>2010</th>\n",
       "      <td>46348</td>\n",
       "      <td>711</td>\n",
       "    </tr>\n",
       "    <tr>\n",
       "      <th>2011</th>\n",
       "      <td>45390</td>\n",
       "      <td>686</td>\n",
       "    </tr>\n",
       "  </tbody>\n",
       "</table>\n",
       "</div>"
      ],
      "text/plain": [
       "      Count  Percent\n",
       "2007  48963      715\n",
       "2008  48277      701\n",
       "2009  46977      708\n",
       "2010  46348      711\n",
       "2011  45390      686"
      ]
     },
     "execution_count": 39,
     "metadata": {},
     "output_type": "execute_result"
    }
   ],
   "source": [
    "nycdgp = nycd.groupby(lambda x: x.year)\n",
    "nycdgp.aggregate(np.sum)\n",
    "#Percents: Sex*2, Ethnicity*4; Year*5"
   ]
  },
  {
   "cell_type": "code",
   "execution_count": 10,
   "metadata": {
    "collapsed": false
   },
   "outputs": [],
   "source": [
    "subgroup2007 = nycdgp.get_group(2007)"
   ]
  },
  {
   "cell_type": "code",
   "execution_count": 31,
   "metadata": {
    "collapsed": false
   },
   "outputs": [
    {
     "data": {
      "text/plain": [
       "Ethnicity\n",
       "ASIAN & PACIFIC ISLANDER    1\n",
       "HISPANIC                    1\n",
       "NON-HISPANIC BLACK          1\n",
       "NON-HISPANIC WHITE          1\n",
       "dtype: int64"
      ]
     },
     "execution_count": 31,
     "metadata": {},
     "output_type": "execute_result"
    }
   ],
   "source": [
    "x = 'Ethnicity'\n",
    "nycdap = nycd.groupby(x)\n",
    "nycdap.apply(lambda s: len(s[x].unique()))"
   ]
  },
  {
   "cell_type": "code",
   "execution_count": 30,
   "metadata": {
    "collapsed": false
   },
   "outputs": [
    {
     "data": {
      "text/plain": [
       "Percent  Cause of Death                                  \n",
       "0        ALZHEIMERS DISEASE                                  1\n",
       "         ANEMIAS                                             1\n",
       "         AORTIC ANEURYSM AND DISSECTION                      1\n",
       "         ASSAULT (HOMICIDE)                                  1\n",
       "         ATHEROSCLEROSIS                                     1\n",
       "         BENIGN AND UNCERTAIN NEOPLASMS                      1\n",
       "         CARDIOVASCULAR DISORDERS IN PERINATAL PERIOD        1\n",
       "         CHOLELITHIASIS AND DISORDERS OF GALLBLADDER         1\n",
       "         CHRONIC LIVER DISEASE AND CIRRHOSIS                 1\n",
       "         CONGENITAL MALFORMATIONS,DEFORMATIONS               1\n",
       "         HUMAN IMMUNODEFICIENCY VIRUS DISEASE                1\n",
       "         INTENTIONAL SELF-HARM (SUICIDE)                     1\n",
       "         MENTAL DISORDERS DUE TO USE OF ALCOHOL              1\n",
       "         NEPHRITIS, NEPHROTIC SYNDROME AND NEPHROSIS         1\n",
       "         PARKINSONS DISEASE                                  1\n",
       "         PEPTIC ULCER                                        1\n",
       "         PNEUMONITIS DUE TO SOLIDS AND LIQUIDS               1\n",
       "         PREGNANCY, CHILDBIRTH AND THE PUERPERIUM            1\n",
       "         PSYCH. SUBSTANCE USE & ACCIDENTAL DRUG POISONING    1\n",
       "         RESPIRATORY DISTRESS OF NEWBORN                     1\n",
       "         SEPTICEMIA                                          1\n",
       "         SHORT GESTATION/LBW                                 1\n",
       "         TUBERCULOSIS                                        1\n",
       "         VIRAL HEPATITIS                                     1\n",
       "1        ACCIDENTS EXCEPT DRUG POISONING                     1\n",
       "         ALZHEIMERS DISEASE                                  1\n",
       "         AORTIC ANEURYSM AND DISSECTION                      1\n",
       "         ASSAULT (HOMICIDE)                                  1\n",
       "         ATHEROSCLEROSIS                                     1\n",
       "         BENIGN AND UNCERTAIN NEOPLASMS                      1\n",
       "                                                            ..\n",
       "22       MALIGNANT NEOPLASMS                                 1\n",
       "23       MALIGNANT NEOPLASMS                                 1\n",
       "24       MALIGNANT NEOPLASMS                                 1\n",
       "25       DISEASES OF HEART                                   1\n",
       "         MALIGNANT NEOPLASMS                                 1\n",
       "26       DISEASES OF HEART                                   1\n",
       "         MALIGNANT NEOPLASMS                                 1\n",
       "27       DISEASES OF HEART                                   1\n",
       "         MALIGNANT NEOPLASMS                                 1\n",
       "28       DISEASES OF HEART                                   1\n",
       "         MALIGNANT NEOPLASMS                                 1\n",
       "29       DISEASES OF HEART                                   1\n",
       "         MALIGNANT NEOPLASMS                                 1\n",
       "30       DISEASES OF HEART                                   1\n",
       "         MALIGNANT NEOPLASMS                                 1\n",
       "31       DISEASES OF HEART                                   1\n",
       "         MALIGNANT NEOPLASMS                                 1\n",
       "32       DISEASES OF HEART                                   1\n",
       "33       DISEASES OF HEART                                   1\n",
       "         MALIGNANT NEOPLASMS                                 1\n",
       "34       DISEASES OF HEART                                   1\n",
       "35       DISEASES OF HEART                                   1\n",
       "36       DISEASES OF HEART                                   1\n",
       "37       DISEASES OF HEART                                   1\n",
       "40       DISEASES OF HEART                                   1\n",
       "41       DISEASES OF HEART                                   1\n",
       "43       DISEASES OF HEART                                   1\n",
       "46       DISEASES OF HEART                                   1\n",
       "48       DISEASES OF HEART                                   1\n",
       "49       DISEASES OF HEART                                   1\n",
       "dtype: int64"
      ]
     },
     "execution_count": 30,
     "metadata": {},
     "output_type": "execute_result"
    }
   ],
   "source": [
    "x = ['Percent', 'Cause of Death']\n",
    "nycdap = nycd.groupby(x)\n",
    "nycdap.apply(lambda s: len(s['Cause of Death'].unique()))"
   ]
  },
  {
   "cell_type": "code",
   "execution_count": null,
   "metadata": {
    "collapsed": true
   },
   "outputs": [],
   "source": []
  }
 ],
 "metadata": {
  "kernelspec": {
   "display_name": "Python 2",
   "language": "python",
   "name": "python2"
  },
  "language_info": {
   "codemirror_mode": {
    "name": "ipython",
    "version": 2
   },
   "file_extension": ".py",
   "mimetype": "text/x-python",
   "name": "python",
   "nbconvert_exporter": "python",
   "pygments_lexer": "ipython2",
   "version": "2.7.10"
  }
 },
 "nbformat": 4,
 "nbformat_minor": 0
}
